{
  "cells": [
    {
      "cell_type": "markdown",
      "metadata": {
        "id": "view-in-github",
        "colab_type": "text"
      },
      "source": [
        "<a href=\"https://colab.research.google.com/github/arifanwar02431/Materi/blob/main/Praktik_AI/1_Sympy_Laplace.ipynb\" target=\"_parent\"><img src=\"https://colab.research.google.com/assets/colab-badge.svg\" alt=\"Open In Colab\"/></a>"
      ]
    },
    {
      "cell_type": "markdown",
      "metadata": {
        "id": "WP3Mph23AC2c"
      },
      "source": [
        "### Laplace Transforms and Sympy\n",
        "\n",
        "Laplace transforms convert a function $f(t)$ in the time domain into function in the Laplace domain $F(s)$.\n",
        "\n",
        "$F(s) = \\mathcal{L}\\left(f(t)\\right) = \\int_0^\\infty f(t)e^{-s\\,t}dt$\n",
        "\n",
        "As an example of the Laplace transform, consider a constant $c$. The function $f(t) = c$ and the following expression is integrated.\n",
        "\n",
        "$\\mathcal{L}(c)=\\int_0^\\infty c \\, e^{-s\\,t} dt = -\\frac{c}{s}e^{-s\\,t} \\biggr\\rvert_0^\\infty = 0 - \\left(-\\frac{c}{s} \\right) = \\frac{c}{s}$\n",
        "\n",
        "Mathematicians have developed tables of commonly used Laplace transforms. Notice that the derived value for a constant $c$ is the unit step function with $c=1$ where a signal output changes from 0 to 1 at $t=0$."
      ]
    },
    {
      "cell_type": "code",
      "execution_count": null,
      "metadata": {
        "id": "zsXEwnvpAC2g"
      },
      "outputs": [],
      "source": [
        "import sympy as sym\n",
        "from sympy.abc import s,t,x,y,z\n",
        "from sympy.integrals import laplace_transform\n",
        "from sympy.integrals import inverse_laplace_transform"
      ]
    },
    {
      "cell_type": "code",
      "execution_count": null,
      "metadata": {
        "colab": {
          "base_uri": "https://localhost:8080/",
          "height": 52
        },
        "id": "h4Z7WK-fAC2i",
        "outputId": "607df998-a57a-4ed1-d930-9b5d9baa0f73"
      },
      "outputs": [
        {
          "output_type": "execute_result",
          "data": {
            "text/plain": [
              "5/s**2"
            ],
            "text/latex": "$\\displaystyle \\frac{5}{s^{2}}$"
          },
          "metadata": {},
          "execution_count": 2
        }
      ],
      "source": [
        "# Laplace transform (t->s)\n",
        "U = laplace_transform(5*t, t, s)\n",
        "U[0]"
      ]
    },
    {
      "cell_type": "code",
      "execution_count": null,
      "metadata": {
        "colab": {
          "base_uri": "https://localhost:8080/",
          "height": 38
        },
        "id": "0OMOmGxdAC2j",
        "outputId": "72b347eb-9c1e-44b5-aa07-cb7847352e83"
      },
      "outputs": [
        {
          "output_type": "execute_result",
          "data": {
            "text/plain": [
              "InverseLaplaceTransform(s, s, t, _None)"
            ],
            "text/latex": "$\\displaystyle \\mathcal{L}^{-1}_{s}\\left[s\\right]\\left(t\\right)$"
          },
          "metadata": {},
          "execution_count": 11
        }
      ],
      "source": [
        "# Inverse Laplace transform (s->t)\n",
        "inverse_laplace_transform(s,s,t)"
      ]
    },
    {
      "cell_type": "code",
      "execution_count": null,
      "metadata": {
        "colab": {
          "base_uri": "https://localhost:8080/",
          "height": 59
        },
        "id": "3fn-R-HCAC2k",
        "outputId": "9d01dc33-d4e8-4781-aa42-e3bc643a406b"
      },
      "outputs": [
        {
          "output_type": "execute_result",
          "data": {
            "text/plain": [
              "(5*s + 5)/(s + 3)**2"
            ],
            "text/latex": "$\\displaystyle \\frac{5 s + 5}{\\left(s + 3\\right)^{2}}$"
          },
          "metadata": {},
          "execution_count": 4
        }
      ],
      "source": [
        "# Function\n",
        "F = 5*(s+1)/(s+3)**2\n",
        "F"
      ]
    },
    {
      "cell_type": "code",
      "execution_count": null,
      "metadata": {
        "colab": {
          "base_uri": "https://localhost:8080/",
          "height": 59
        },
        "id": "5yjgjuIhAC2k",
        "outputId": "c80d4fa7-9369-46a2-eedc-5dbeb216dd42"
      },
      "outputs": [
        {
          "output_type": "execute_result",
          "data": {
            "text/plain": [
              "5/(s + 3) - 10/(s + 3)**2"
            ],
            "text/latex": "$\\displaystyle \\frac{5}{s + 3} - \\frac{10}{\\left(s + 3\\right)^{2}}$"
          },
          "metadata": {},
          "execution_count": 5
        }
      ],
      "source": [
        "# Partial fraction decomposition\n",
        "sym.apart(F)"
      ]
    },
    {
      "cell_type": "code",
      "execution_count": null,
      "metadata": {
        "colab": {
          "base_uri": "https://localhost:8080/",
          "height": 39
        },
        "id": "1o1orqWyAC2l",
        "outputId": "c10de492-c02a-49a1-877b-f8c39a65bfc3"
      },
      "outputs": [
        {
          "output_type": "execute_result",
          "data": {
            "text/plain": [
              "(s + 1)*(s + 3)*(s**2 + 3*s + 1)"
            ],
            "text/latex": "$\\displaystyle \\left(s + 1\\right) \\left(s + 3\\right) \\left(s^{2} + 3 s + 1\\right)$"
          },
          "metadata": {},
          "execution_count": 6
        }
      ],
      "source": [
        "# denominator of transfer function\n",
        "d1 = (s+1)*(s+3)*(s**2+3*s+1)\n",
        "d1"
      ]
    },
    {
      "cell_type": "code",
      "execution_count": null,
      "metadata": {
        "colab": {
          "base_uri": "https://localhost:8080/",
          "height": 38
        },
        "id": "VhIBGNQtAC2l",
        "outputId": "5659cdfa-306e-4253-e995-472263378126"
      },
      "outputs": [
        {
          "output_type": "execute_result",
          "data": {
            "text/plain": [
              "s**4 + 7*s**3 + 16*s**2 + 13*s + 3"
            ],
            "text/latex": "$\\displaystyle s^{4} + 7 s^{3} + 16 s^{2} + 13 s + 3$"
          },
          "metadata": {},
          "execution_count": 7
        }
      ],
      "source": [
        "# expand polynomial\n",
        "d2=sym.expand(d1)\n",
        "d2"
      ]
    },
    {
      "cell_type": "code",
      "execution_count": null,
      "metadata": {
        "colab": {
          "base_uri": "https://localhost:8080/"
        },
        "id": "B-Ee_JoBAC2m",
        "outputId": "d62aace9-b8ea-4fc7-bbf3-996efaa47fca"
      },
      "outputs": [
        {
          "output_type": "execute_result",
          "data": {
            "text/plain": [
              "{-1: 1, -3: 1, -3/2 - sqrt(5)/2: 1, -3/2 + sqrt(5)/2: 1}"
            ]
          },
          "metadata": {},
          "execution_count": 8
        }
      ],
      "source": [
        "# find roots\n",
        "sym.roots(d2)"
      ]
    },
    {
      "cell_type": "markdown",
      "metadata": {
        "id": "OFigm5UuAC2m"
      },
      "source": [
        "### Example Solution\n",
        "\n",
        "Python SymPy computes symbolic solutions to many mathematical problems including Laplace transforms.\n",
        "\n",
        "Compute the analytic and numeric system response to an input that includes a step and ramp function.\n",
        "\n",
        "The system transfer function is a stable system with two poles (denominator roots) and one zero (numerator root):\n",
        "\n",
        "$G(s)=\\dfrac{Y(s)}{U(s)}=\\dfrac{5\\left(s + 1\\right)}{\\left(s + 3\\right)^2}$\n",
        "\n",
        "Create the step and ramp signals as three individual functions. Compute the system response to each of those three inputs and then sum the signals.\n",
        "\n",
        "**Symbolic Solution (Python Sympy)**"
      ]
    },
    {
      "cell_type": "code",
      "execution_count": null,
      "metadata": {
        "id": "gMZsC0IaAC2n",
        "outputId": "9ec4d0d8-9e4b-4591-8ab8-8c3586bce13d"
      },
      "outputs": [
        {
          "name": "stdout",
          "output_type": "stream",
          "text": [
            "y1\n",
            "10*(exp(3*t) - 6*exp(3)*log(exp(-t)) - 7*exp(3))*exp(-3*t)*Heaviside(t - 1)/9\n"
          ]
        },
        {
          "data": {
            "image/png": "[encoded data removed]",
            "text/plain": [
              "<Figure size 432x288 with 1 Axes>"
            ]
          },
          "metadata": {
            "needs_background": "light"
          },
          "output_type": "display_data"
        }
      ],
      "source": [
        "import sympy as sym\n",
        "from sympy.abc import s,t,x,y,z\n",
        "import numpy as np\n",
        "from sympy.integrals import inverse_laplace_transform\n",
        "import matplotlib.pyplot as plt\n",
        "\n",
        "# Define inputs\n",
        "# First step (up) starts at 1 sec\n",
        "U1 = 2/s*sym.exp(-s)\n",
        "# Ramp (down) starts at 3 sec\n",
        "U2 = -1/s**2*sym.exp(-3*s)\n",
        "# Ramp completes at 5 sec\n",
        "U3 = 1/s**2*sym.exp(-5*s)\n",
        "\n",
        "# Transfer function\n",
        "G = 5*(s+1)/(s+3)**2\n",
        "\n",
        "# Calculate responses\n",
        "Y1 = G * U1\n",
        "Y2 = G * U2\n",
        "Y3 = G * U3\n",
        "\n",
        "# Inverse Laplace Transform\n",
        "u1 = inverse_laplace_transform(U1,s,t)\n",
        "u2 = inverse_laplace_transform(U2,s,t)\n",
        "u3 = inverse_laplace_transform(U3,s,t)\n",
        "y1 = inverse_laplace_transform(Y1,s,t)\n",
        "y2 = inverse_laplace_transform(Y2,s,t)\n",
        "y3 = inverse_laplace_transform(Y3,s,t)\n",
        "print('y1')\n",
        "print(y1)\n",
        "\n",
        "# generate data for plot\n",
        "tm = np.linspace(0,8,100)\n",
        "us = np.zeros(len(tm))\n",
        "ys = np.zeros(len(tm))\n",
        "\n",
        "# substitute numeric values for u and y\n",
        "for u in [u1,u2,u3]:\n",
        "    for i in range(len(tm)):\n",
        "        us[i] += u.subs(t,tm[i])\n",
        "for y in [y1,y2,y3]:\n",
        "    for i in range(len(tm)):\n",
        "        ys[i] += y.subs(t,tm[i])\n",
        "\n",
        "# plot results\n",
        "plt.figure()\n",
        "plt.plot(tm,us,label='u(t)')\n",
        "plt.plot(tm,ys,label='y(t)')\n",
        "plt.legend()\n",
        "plt.xlabel('Time')\n",
        "plt.show()"
      ]
    },
    {
      "cell_type": "code",
      "execution_count": null,
      "metadata": {
        "id": "nWTpWxd3AC2o",
        "outputId": "21985a1d-c1ab-49e6-8d65-5098dae398c5"
      },
      "outputs": [
        {
          "data": {
            "text/latex": [
              "$\\displaystyle \\frac{10 \\left(e^{3 t} - 6 e^{3} \\log{\\left(e^{- t} \\right)} - 7 e^{3}\\right) e^{- 3 t} \\theta\\left(t - 1\\right)}{9}$"
            ],
            "text/plain": [
              "10*(exp(3*t) - 6*exp(3)*log(exp(-t)) - 7*exp(3))*exp(-3*t)*Heaviside(t - 1)/9"
            ]
          },
          "execution_count": 14,
          "metadata": {},
          "output_type": "execute_result"
        }
      ],
      "source": [
        "y1"
      ]
    },
    {
      "cell_type": "markdown",
      "metadata": {
        "id": "2Ymb6wzwAC2o"
      },
      "source": [
        "**Numeric Solution (Python Gekko)**\n",
        "\n",
        "An alternative to a symbolic solution is to numerically compute the response in the time domain. The transfer function must first be translated into a differential equation.\n",
        "\n",
        "$G(s)=\\dfrac{Y(s)}{U(s)}=\\dfrac{5\\left(s + 1\\right)}{\\left(s + 3\\right)^2}$\n",
        "\n",
        "$Y(s)\\left(s + 3\\right)^2=5\\left(s + 1\\right)U(s)$\n",
        "\n",
        "$Y(s)\\left(s^2 +6s+9\\right)=\\left(5s + 5\\right)U(s)$\n",
        "\n",
        "$\\dfrac{dy^2(t)}{dt^2}+6\\dfrac{dy(t)}{dt}+9y(t)=5\\dfrac{du(t)}{dt}+5u(t)$\n",
        "\n",
        "The same solution is found with a analytic or numeric approach. The advantage of an symbolic (analytic) solution is that it is highly accurate and does not rely on numerical methods to approximate the solution. Also, the solution is in a compact form that can be used for further analysis. Symbolic solutions are limited to cases where the input function and system transfer function can be expressed in Laplace form. This may not be the case for inputs that come from data sources where there the input function has random variation. A symbolic solution with Laplace transforms is also not possible for systems that are nonlinear or complex while numeric solvers can handle many thousands or millions of equations with nonlinear relationships. The disadvantage of a numeric solution is that it is an approximation of the true solution with possible inaccuracies. Another disadvantage is that solvers may fail to converge although this is not typical on problems with an analytic solution."
      ]
    },
    {
      "cell_type": "code",
      "execution_count": null,
      "metadata": {
        "id": "lo4IM0joAC2o",
        "outputId": "ffe77f1e-b5c0-4e66-ecc1-5f701f39a6f2"
      },
      "outputs": [
        {
          "data": {
            "image/png": "[encoded data removed]",
            "text/plain": [
              "<Figure size 432x288 with 1 Axes>"
            ]
          },
          "metadata": {
            "needs_background": "light"
          },
          "output_type": "display_data"
        }
      ],
      "source": [
        "from gekko import GEKKO\n",
        "import numpy as np\n",
        "import matplotlib.pyplot as plt\n",
        "\n",
        "# Create GEKKO model\n",
        "m = GEKKO(remote=False)\n",
        "\n",
        "# Time points for simulation\n",
        "nt = 81\n",
        "m.time = np.linspace(0,8,nt)\n",
        "\n",
        "# Define input\n",
        "# First step (up) starts at 1 sec\n",
        "# Ramp (down) starts at 3 sec\n",
        "# Ramp completes at 5 sec\n",
        "ut = np.zeros(nt)\n",
        "ut[11:31] = 2.0\n",
        "for i in range(31,51):\n",
        "    ut[i] = ut[i-1] - 0.1\n",
        "\n",
        "# Define model\n",
        "u = m.Param(value=ut)\n",
        "ud = m.Var()\n",
        "y = m.Var()\n",
        "dydt = m.Var()\n",
        "m.Equation(ud==u)\n",
        "m.Equation(dydt==y.dt())\n",
        "m.Equation(dydt.dt() + 6*y.dt() + 9*y==5*ud.dt()+5*u)\n",
        "\n",
        "# Simulation options\n",
        "m.options.IMODE=7\n",
        "m.options.NODES=4\n",
        "m.solve(disp=False)\n",
        "\n",
        "# plot results\n",
        "plt.figure()\n",
        "plt.plot(m.time,u.value,label='u(t)')\n",
        "plt.plot(m.time,y.value,label='y(t)')\n",
        "plt.legend()\n",
        "plt.xlabel('Time')\n",
        "plt.show()"
      ]
    }
  ],
  "metadata": {
    "kernelspec": {
      "display_name": "Python 3 (ipykernel)",
      "language": "python",
      "name": "python3"
    },
    "language_info": {
      "codemirror_mode": {
        "name": "ipython",
        "version": 3
      },
      "file_extension": ".py",
      "mimetype": "text/x-python",
      "name": "python",
      "nbconvert_exporter": "python",
      "pygments_lexer": "ipython3",
      "version": "3.9.7"
    },
    "colab": {
      "provenance": [],
      "include_colab_link": true
    }
  },
  "nbformat": 4,
  "nbformat_minor": 0
}