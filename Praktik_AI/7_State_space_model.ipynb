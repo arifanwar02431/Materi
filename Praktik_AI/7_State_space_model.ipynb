{
  "cells": [
    {
      "cell_type": "markdown",
      "metadata": {
        "id": "view-in-github",
        "colab_type": "text"
      },
      "source": [
        "<a href=\"https://colab.research.google.com/github/arifanwar02431/Materi/blob/main/Praktik_AI/7_State_space_model.ipynb\" target=\"_parent\"><img src=\"https://colab.research.google.com/assets/colab-badge.svg\" alt=\"Open In Colab\"/></a>"
      ]
    },
    {
      "cell_type": "markdown",
      "id": "cf38ada8-d51d-4944-b91b-94b3f83be89b",
      "metadata": {
        "id": "cf38ada8-d51d-4944-b91b-94b3f83be89b"
      },
      "source": [
        "# State Space Models"
      ]
    },
    {
      "cell_type": "markdown",
      "id": "48d11aa0-41b2-4358-a336-ff73468091f9",
      "metadata": {
        "id": "48d11aa0-41b2-4358-a336-ff73468091f9"
      },
      "source": [
        "Linear Time Invariant (LTI) state space models are a linear representation of a dynamic system in either discrete or continuous time. Putting a model into state space form is the basis for many methods in process dynamics and control analysis. Below is the continuous time form of a model in state space form."
      ]
    },
    {
      "cell_type": "markdown",
      "id": "1fbe0f03-f8f6-448e-abe5-7a4c11b258ae",
      "metadata": {
        "id": "1fbe0f03-f8f6-448e-abe5-7a4c11b258ae"
      },
      "source": [
        "\\begin{eqnarray}\n",
        "\\dot{\\mathbf{x}}(t) &= \\mathbf{A}(t) \\mathbf{x}(t) + \\mathbf{B}(t) \\mathbf{u}(t) \\\\\n",
        "\\mathbf{y}(t) &= \\mathbf{C}(t) \\mathbf{x}(t) + \\mathbf{D}(t) \\mathbf{u}(t)\n",
        "\\end{eqnarray}"
      ]
    },
    {
      "cell_type": "markdown",
      "id": "f1cafaff-b964-4bed-83be-790e86320fdb",
      "metadata": {
        "id": "f1cafaff-b964-4bed-83be-790e86320fdb"
      },
      "source": [
        "Simplified notation\n",
        "\\begin{eqnarray}\n",
        "\\dot{\\mathbf{x}} &= \\mathbf{A} \\mathbf{x} + \\mathbf{B} \\mathbf{u} \\\\\n",
        "\\mathbf{y} &= \\mathbf{C} \\mathbf{x} + \\mathbf{D} \\mathbf{u}\n",
        "\\end{eqnarray}"
      ]
    },
    {
      "cell_type": "markdown",
      "id": "2d7d5472-a073-416b-acf6-b4d157fb5cd2",
      "metadata": {
        "id": "2d7d5472-a073-416b-acf6-b4d157fb5cd2"
      },
      "source": [
        "where:\n",
        "1. $\\mathbf{x}(\\cdot)$ is called the \"state vector\", $\\mathbf{x}(t) \\in \\mathbb{R}^n$\n",
        "2. $\\mathbf{y}(\\cdot)$ is called the \"output vector\", $\\mathbf{y}(t) \\in \\mathbb{R}^q$\n",
        "3. $\\mathbf{u}(\\cdot)$ is called the \"input (or control) vector\", $\\mathbf{u}(t) \\in \\mathbb{R}^p$\n",
        "4. $\\mathbf{A}(\\cdot)$ is the \"state (or system) matrix\", $\\dim[\\mathbf{A}(\\cdot)] = n \\times n$\n",
        "5. $\\mathbf{B}(\\cdot)$ is the \"input matrix\", $\\dim[\\mathbf{B}(\\cdot)] = n \\times p$\n",
        "6. $\\mathbf{C}(\\cdot)$ is the \"output matrix\", $\\dim[\\mathbf{C}(\\cdot)] = q \\times n$\n",
        "7. $\\mathbf{D}(\\cdot)$ is the \"feedthrough (or feedforward) matrix\" (in cases where the system model does not have a direct feedthrough, $\\mathbf{D}(\\cdot)$ is the zero matrix), $\\dim[\\mathbf{D}(\\cdot)] = q \\times p$,\n",
        "8. $\\dot{\\mathbf{x}}(t)$ := $\\dfrac{\\text{d}}{\\text{d}t} \\mathbf{x}(t)$."
      ]
    },
    {
      "cell_type": "markdown",
      "id": "1ed5fcf8-7076-4483-9fe8-406234b47f94",
      "metadata": {
        "id": "1ed5fcf8-7076-4483-9fe8-406234b47f94"
      },
      "source": [
        "## Stability\n",
        "The linear state space model is stable if all eigenvalues of A are negative real numbers or have negative real parts to complex number eigenvalues. If all real parts of the eigenvalues are negative then the system is stable, meaning that any initial condition converges exponentially to a stable attracting point. If any real parts are zero then the system will not converge to a point and if the eigenvalues are positive the system is unstable and will exponentially diverge.Stability\n",
        "The linear state space model is stable if all eigenvalues of A are negative real numbers or have negative real parts to complex number eigenvalues. If all real parts of the eigenvalues are negative then the system is stable, meaning that any initial condition converges exponentially to a stable attracting point. If any real parts are zero then the system will not converge to a point and if the eigenvalues are positive the system is unstable and will exponentially diverge."
      ]
    },
    {
      "cell_type": "markdown",
      "id": "aecabb9d-d5a4-4667-bc67-aa3ee326b138",
      "metadata": {
        "id": "aecabb9d-d5a4-4667-bc67-aa3ee326b138"
      },
      "source": [
        "## First Order System in State Space\n",
        "The state space form can be difficult to grasp at first so consider an example to transform a first order linear system (without time delay) into state space form.\n",
        "\n",
        "$$\n",
        "\\tau_p \\dfrac{\\text{d}y}{\\text{d}t} = -y + K_p u\n",
        "$$\n",
        "\n",
        "Divide both sides by $\\tau_p$ and add the output relationship $x=y$ and $\\dot{x} = \\dot{y}$ to give the following in state space form.\n",
        "\n",
        "\\begin{eqnarray}\n",
        "\\dot{x} &=& \\left[-\\dfrac{1}{\\tau_p}\\right] x + \\left[\\dfrac{K_p}{\\tau_p}\\right] u \\\\\n",
        "y &=& [1] x + [0] u\n",
        "\\end{eqnarray}"
      ]
    },
    {
      "cell_type": "markdown",
      "id": "3cc03b1e-fb4e-47cc-808e-70481546309a",
      "metadata": {
        "id": "3cc03b1e-fb4e-47cc-808e-70481546309a"
      },
      "source": [
        "## Second Order System in State Space\n",
        "\n",
        "\\begin{eqnarray}\n",
        "\\tau_1 \\dfrac{\\text{d}x_1}{\\text{d}t} &=& -x_1 + K_p u \\\\\n",
        "\\tau_{2} \\dfrac{\\text{d}x_2}{\\text{d}t} &=& -x_2 + x_1\n",
        "\\end{eqnarray}\n",
        "\n",
        "and $y=x_2$"
      ]
    },
    {
      "cell_type": "markdown",
      "id": "44ca6730-f135-4f4c-9e84-f06e62aa16c5",
      "metadata": {
        "id": "44ca6730-f135-4f4c-9e84-f06e62aa16c5"
      },
      "source": [
        "\\begin{eqnarray}\n",
        "\\begin{bmatrix}\n",
        "\\dot x_1 \\\\\n",
        "\\dot x_2\n",
        "\\end{bmatrix} &=&\n",
        "\\begin{bmatrix}\n",
        "-\\dfrac{1}{\\tau_1} & 0 \\\\\n",
        "\\dfrac{1}{\\tau_2} & -\\dfrac{1}{\\tau_2}\n",
        "\\end{bmatrix}\n",
        "\\begin{bmatrix}\n",
        "x_1 \\\\\n",
        "x_2\n",
        "\\end{bmatrix}\n",
        "+\n",
        "\\begin{bmatrix}\n",
        "\\dfrac{K_p}{\\tau_1}\\\\\n",
        "0\n",
        "\\end{bmatrix} u \\\\\n",
        "y &=&\n",
        "\\begin{bmatrix}\n",
        "0 & 1\n",
        "\\end{bmatrix}\n",
        "\\begin{bmatrix}\n",
        "x_1\\\\\n",
        "x_2\n",
        "\\end{bmatrix} +\n",
        "\\begin{bmatrix}\n",
        "0\n",
        "\\end{bmatrix} u\n",
        "\\end{eqnarray}"
      ]
    },
    {
      "cell_type": "markdown",
      "id": "a72a7af1-6f25-45e9-bfe0-c5292e97f87e",
      "metadata": {
        "id": "a72a7af1-6f25-45e9-bfe0-c5292e97f87e"
      },
      "source": [
        "## Exercise\n",
        "Put the following equations into state space form by determining matrices $\\mathbf{A}$, $\\mathbf{B}$, $\\mathbf{C}$, and $\\mathbf{D}$. Simulate a step response for each model and determine whether the system is stable or unstable.\n",
        "Simulate a step response for each model and determine whether the system is stable or unstable."
      ]
    },
    {
      "cell_type": "markdown",
      "id": "002e2a97-6d96-4962-8998-02ae3503a85c",
      "metadata": {
        "id": "002e2a97-6d96-4962-8998-02ae3503a85c"
      },
      "source": [
        "## 1. First order differential equation\n",
        "\\begin{eqnarray}\n",
        "3 \\dfrac{\\text{d}x}{\\text{d}t} + 12 x &=& 6 u \\\\\n",
        "y &=& x\n",
        "\\end{eqnarray}"
      ]
    },
    {
      "cell_type": "markdown",
      "id": "c27a73cc-d230-47ce-bf8a-db7bbe5f9b69",
      "metadata": {
        "id": "c27a73cc-d230-47ce-bf8a-db7bbe5f9b69"
      },
      "source": [
        "### State space ??"
      ]
    },
    {
      "cell_type": "code",
      "execution_count": null,
      "id": "44fa6de3-de8c-4151-a163-62adbbf3b58f",
      "metadata": {
        "colab": {
          "base_uri": "https://localhost:8080/",
          "height": 530
        },
        "id": "44fa6de3-de8c-4151-a163-62adbbf3b58f",
        "outputId": "4f6369e0-fe7d-4484-e50f-add1b317f837"
      },
      "outputs": [
        {
          "output_type": "execute_result",
          "data": {
            "text/plain": [
              "[<matplotlib.lines.Line2D at 0x7ff00ea1edc0>]"
            ]
          },
          "metadata": {},
          "execution_count": 6
        },
        {
          "output_type": "display_data",
          "data": {
            "text/plain": [
              "<Figure size 432x288 with 1 Axes>"
            ],
            "image/png": "[encoded data removed]"
          },
          "metadata": {
            "needs_background": "light"
          }
        },
        {
          "output_type": "display_data",
          "data": {
            "text/plain": [
              "<Figure size 432x288 with 1 Axes>"
            ],
            "image/png": "[encoded data removed]"
          },
          "metadata": {
            "needs_background": "light"
          }
        }
      ],
      "source": [
        "import numpy as np\n",
        "from scipy import signal\n",
        "import matplotlib.pyplot as plt\n",
        "#plt.rcParams['text.usetex'] = True\n",
        "\n",
        "# problem 1\n",
        "A = [-4.0]\n",
        "B = [2.0]\n",
        "C = [1.0]\n",
        "D = [0.0]\n",
        "sys1 = signal.StateSpace(A,B,C,D)\n",
        "t1,y1 = signal.step(sys1)\n",
        "\n",
        "plt.figure(1)\n",
        "plt.plot(t1,y1,'r-',linewidth=1)\n",
        "plt.ylabel('Problem 1')\n",
        "plt.legend([r'$y$'], loc='best', frameon=False)\n",
        "\n",
        "from scipy.integrate import odeint\n",
        "u = 1\n",
        "\n",
        "def model(x, t):\n",
        "  dxdt = -4*x + 2 * u\n",
        "  return dxdt\n",
        "\n",
        "x0 = 0\n",
        "y = odeint(model, x0, t1)\n",
        "\n",
        "plt.figure(2)\n",
        "plt.plot(t1, y)"
      ]
    },
    {
      "cell_type": "markdown",
      "id": "4d0e82ce-4126-47c1-a4f5-f67b68702696",
      "metadata": {
        "id": "4d0e82ce-4126-47c1-a4f5-f67b68702696"
      },
      "source": [
        "## 2. Second order differential equations\n",
        "\\begin{eqnarray}\n",
        "2 \\dfrac{\\text{d}x_1}{\\text{d}t} + 6  x_1 &=& 8 u_2 \\\\\n",
        "3 \\dfrac{\\text{d}x_2}{\\text{d}t} + 6  x_1 + 9 x_2 &=& 0 \\\\\n",
        "y &=& \\dfrac{x_1 + x_2}{2}\n",
        "\\end{eqnarray}"
      ]
    },
    {
      "cell_type": "code",
      "source": [
        "np.random.randint(1, 2)"
      ],
      "metadata": {
        "colab": {
          "base_uri": "https://localhost:8080/"
        },
        "id": "-8EdaVbJJgdr",
        "outputId": "4b53bec4-0685-4cc8-8a59-a7c71b7173f6"
      },
      "id": "-8EdaVbJJgdr",
      "execution_count": null,
      "outputs": [
        {
          "output_type": "execute_result",
          "data": {
            "text/plain": [
              "1"
            ]
          },
          "metadata": {},
          "execution_count": 21
        }
      ]
    },
    {
      "cell_type": "markdown",
      "id": "18fe1d2f-65f8-4ef0-a236-e18d3e5f70f7",
      "metadata": {
        "id": "18fe1d2f-65f8-4ef0-a236-e18d3e5f70f7"
      },
      "source": [
        "### State space ??"
      ]
    },
    {
      "cell_type": "code",
      "execution_count": null,
      "id": "1a1dc9aa-b3b1-40d9-ad63-6d9393ac414d",
      "metadata": {
        "colab": {
          "base_uri": "https://localhost:8080/",
          "height": 530
        },
        "id": "1a1dc9aa-b3b1-40d9-ad63-6d9393ac414d",
        "outputId": "6bfb3b7a-1100-40f9-9756-ceeb8381bfef"
      },
      "outputs": [
        {
          "output_type": "execute_result",
          "data": {
            "text/plain": [
              "[<matplotlib.lines.Line2D at 0x7ff006303760>]"
            ]
          },
          "metadata": {},
          "execution_count": 20
        },
        {
          "output_type": "display_data",
          "data": {
            "text/plain": [
              "<Figure size 432x288 with 1 Axes>"
            ],
            "image/png": "[encoded data removed]"
          },
          "metadata": {
            "needs_background": "light"
          }
        },
        {
          "output_type": "display_data",
          "data": {
            "text/plain": [
              "<Figure size 432x288 with 1 Axes>"
            ],
            "image/png": "[encoded data removed]"
          },
          "metadata": {
            "needs_background": "light"
          }
        }
      ],
      "source": [
        "A = [[-3., 0.], [-2., -3.]]\n",
        "B = [[4.], [0.]]\n",
        "C = [0.5, 0.5]\n",
        "D = [0]\n",
        "sys1 = signal.StateSpace(A,B,C,D)\n",
        "t1,y1 = signal.step(sys1)\n",
        "\n",
        "plt.figure(1)\n",
        "plt.plot(t1,y1,'r-',linewidth=1)\n",
        "\n",
        "u = 1\n",
        "def model(z, t):\n",
        "  dx1dt = -3.0 * z[0] + 4*u\n",
        "  dx2dt = -2.0 * z[0] - 3.0 * z[1]\n",
        "  return [dx1dt, dx2dt]\n",
        "z0 = [0,0]\n",
        "y = odeint(model, z0, t1)\n",
        "plt.figure(2)\n",
        "plt.plot(t1, (y[:, 0] + y[:, 1])/2)\n"
      ]
    },
    {
      "cell_type": "markdown",
      "id": "b735fc1c-7170-44ab-b71d-7816d90199a6",
      "metadata": {
        "id": "b735fc1c-7170-44ab-b71d-7816d90199a6"
      },
      "source": [
        "## 3. Second order differential equations"
      ]
    },
    {
      "cell_type": "markdown",
      "id": "cce69899-bec4-4110-94c8-b28312a6d22e",
      "metadata": {
        "id": "cce69899-bec4-4110-94c8-b28312a6d22e"
      },
      "source": [
        "\\begin{eqnarray}\n",
        "4 \\dfrac{\\text{d}^2y}{\\text{d}t^2} + 2 \\frac{\\text{d}y}{\\text{d}t} + y &=& 3u\n",
        "\\end{eqnarray}"
      ]
    },
    {
      "cell_type": "markdown",
      "id": "6efd8324-d3d2-4b57-a99d-72c1e7b539c3",
      "metadata": {
        "id": "6efd8324-d3d2-4b57-a99d-72c1e7b539c3"
      },
      "source": [
        "### State space ??"
      ]
    },
    {
      "cell_type": "code",
      "execution_count": null,
      "id": "c6967200-12c2-41da-825f-c3f65648c234",
      "metadata": {
        "colab": {
          "base_uri": "https://localhost:8080/",
          "height": 530
        },
        "id": "c6967200-12c2-41da-825f-c3f65648c234",
        "outputId": "b2308a81-aae0-4285-b6a9-0df08cd7f24d"
      },
      "outputs": [
        {
          "output_type": "execute_result",
          "data": {
            "text/plain": [
              "[<matplotlib.lines.Line2D at 0x7ff006204970>]"
            ]
          },
          "metadata": {},
          "execution_count": 23
        },
        {
          "output_type": "display_data",
          "data": {
            "text/plain": [
              "<Figure size 432x288 with 1 Axes>"
            ],
            "image/png": "[encoded data removed]"
          },
          "metadata": {
            "needs_background": "light"
          }
        },
        {
          "output_type": "display_data",
          "data": {
            "text/plain": [
              "<Figure size 432x288 with 1 Axes>"
            ],
            "image/png": "[encoded data removed]"
          },
          "metadata": {
            "needs_background": "light"
          }
        }
      ],
      "source": [
        "#CODE GOES HERE\n",
        "\n",
        "A = [[0., 1.], [-1/4., -1/2.]]\n",
        "B = [[0.], [3/4.]]\n",
        "C = [1., 0.]\n",
        "D = [0]\n",
        "sys1 = signal.StateSpace(A,B,C,D)\n",
        "t1,y1 = signal.step(sys1)\n",
        "\n",
        "plt.figure(1)\n",
        "plt.plot(t1,y1,'r-',linewidth=1)\n",
        "\n",
        "u = 1\n",
        "def model(z, t):\n",
        "  d2ydt2 = -0.5 * z[1] - 1/4. * z[0] + 3/4. * u\n",
        "  dydt = z[1]\n",
        "  return [dydt, d2ydt2]\n",
        "\n",
        "z0 = [0,0]\n",
        "y = odeint(model, z0, t1)\n",
        "plt.figure(2)\n",
        "plt.plot(t1, y[:,0])"
      ]
    },
    {
      "cell_type": "markdown",
      "source": [
        "$$\n",
        "\\frac{d^2\\theta}{dt^2}+\\frac{g}{l} \\sin\\theta=0\n",
        "$$"
      ],
      "metadata": {
        "id": "-19aolKDe3yL"
      },
      "id": "-19aolKDe3yL"
    },
    {
      "cell_type": "markdown",
      "source": [
        "![image](https://upload.wikimedia.org/wikipedia/commons/2/24/Oscillating_pendulum.gif)"
      ],
      "metadata": {
        "id": "JwLs7R7dfG62"
      },
      "id": "JwLs7R7dfG62"
    },
    {
      "cell_type": "code",
      "source": [
        "#CODE GOES HERE\n",
        "\n",
        "g = 9.8\n",
        "l = 2.1\n",
        "\n",
        "t = np.linspace(0, 5, 51)\n",
        "def model(z, t):\n",
        "  d2ydt2 = -g/l * np.sin(z[0])\n",
        "  dydt = z[1]\n",
        "  return [dydt, d2ydt2]\n",
        "\n",
        "z0 = [np.radians(45),0]\n",
        "y = odeint(model, z0, t)\n",
        "\n",
        "plt.figure(1)\n",
        "plt.plot(t, y[:,0], \"r-\")\n",
        "plt.plot(t, y[:,1], \"b:\")\n",
        "plt.grid()\n"
      ],
      "metadata": {
        "colab": {
          "base_uri": "https://localhost:8080/",
          "height": 265
        },
        "id": "RgbIXDPgalsC",
        "outputId": "c2dd638c-397c-4474-e57e-d9a9ea74c630"
      },
      "id": "RgbIXDPgalsC",
      "execution_count": null,
      "outputs": [
        {
          "output_type": "display_data",
          "data": {
            "text/plain": [
              "<Figure size 432x288 with 1 Axes>"
            ],
            "image/png": "[encoded data removed]"
          },
          "metadata": {
            "needs_background": "light"
          }
        }
      ]
    }
  ],
  "metadata": {
    "kernelspec": {
      "display_name": "Python 3 (ipykernel)",
      "language": "python",
      "name": "python3"
    },
    "language_info": {
      "codemirror_mode": {
        "name": "ipython",
        "version": 3
      },
      "file_extension": ".py",
      "mimetype": "text/x-python",
      "name": "python",
      "nbconvert_exporter": "python",
      "pygments_lexer": "ipython3",
      "version": "3.9.7"
    },
    "colab": {
      "provenance": [],
      "include_colab_link": true
    }
  },
  "nbformat": 4,
  "nbformat_minor": 5
}