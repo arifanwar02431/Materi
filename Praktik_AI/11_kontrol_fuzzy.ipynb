{
  "nbformat": 4,
  "nbformat_minor": 0,
  "metadata": {
    "colab": {
      "provenance": [],
      "authorship_tag": "ABX9TyPRkdJ9H7KKkk0K2Ocllpgc",
      "include_colab_link": true
    },
    "kernelspec": {
      "name": "python3",
      "display_name": "Python 3"
    },
    "language_info": {
      "name": "python"
    }
  },
  "cells": [
    {
      "cell_type": "markdown",
      "metadata": {
        "id": "view-in-github",
        "colab_type": "text"
      },
      "source": [
        "<a href=\"https://colab.research.google.com/github/arifanwar02431/Materi/blob/main/Praktik_AI/11_kontrol_fuzzy.ipynb\" target=\"_parent\"><img src=\"https://colab.research.google.com/assets/colab-badge.svg\" alt=\"Open In Colab\"/></a>"
      ]
    },
    {
      "cell_type": "code",
      "source": [
        "!pip install -U scikit-fuzzy"
      ],
      "metadata": {
        "colab": {
          "base_uri": "https://localhost:8080/"
        },
        "id": "cTntov1bsIWV",
        "outputId": "a0c8d231-d276-430a-ea38-be9cb7cae9f7"
      },
      "execution_count": 1,
      "outputs": [
        {
          "output_type": "stream",
          "name": "stdout",
          "text": [
            "Collecting scikit-fuzzy\n",
            "  Downloading scikit_fuzzy-0.5.0-py2.py3-none-any.whl.metadata (2.6 kB)\n",
            "Downloading scikit_fuzzy-0.5.0-py2.py3-none-any.whl (920 kB)\n",
            "\u001b[2K   \u001b[90m━━━━━━━━━━━━━━━━━━━━━━━━━━━━━━━━━━━━━━━━\u001b[0m \u001b[32m920.8/920.8 kB\u001b[0m \u001b[31m15.8 MB/s\u001b[0m eta \u001b[36m0:00:00\u001b[0m\n",
            "\u001b[?25hInstalling collected packages: scikit-fuzzy\n",
            "Successfully installed scikit-fuzzy-0.5.0\n"
          ]
        }
      ]
    },
    {
      "cell_type": "code",
      "source": [],
      "metadata": {
        "id": "tmCHGXYmsKSm"
      },
      "execution_count": null,
      "outputs": []
    },
    {
      "cell_type": "code",
      "execution_count": 2,
      "metadata": {
        "colab": {
          "base_uri": "https://localhost:8080/"
        },
        "id": "gY2CujX3sEAp",
        "outputId": "5b7433f3-0a9a-476a-b2ad-2a2375afaeb5"
      },
      "outputs": [
        {
          "output_type": "stream",
          "name": "stdout",
          "text": [
            "Enter the weight of clothing (kg, 0-10): 5\n",
            "Enter the dirtiness level (0-10): 4\n",
            "Recommended washing speed: 50.00%\n"
          ]
        }
      ],
      "source": [
        "import numpy as np\n",
        "import skfuzzy as fuzz\n",
        "import skfuzzy.control as ctrl\n",
        "\n",
        "# Define fuzzy variables\n",
        "weight = ctrl.Antecedent(np.arange(0, 11, 1), 'weight')  # Weight of clothes (0-10 kg)\n",
        "dirtiness = ctrl.Antecedent(np.arange(0, 11, 1), 'dirtiness')  # Dirtiness level (0-10)\n",
        "speed = ctrl.Consequent(np.arange(0, 101, 1), 'speed')  # Washing machine speed (0-100%)\n",
        "\n",
        "# Membership functions\n",
        "weight['low'] = fuzz.trimf(weight.universe, [0, 0, 5])\n",
        "weight['medium'] = fuzz.trimf(weight.universe, [0, 5, 10])\n",
        "weight['high'] = fuzz.trimf(weight.universe, [5, 10, 10])\n",
        "\n",
        "dirtiness['low'] = fuzz.trimf(dirtiness.universe, [0, 0, 5])\n",
        "dirtiness['medium'] = fuzz.trimf(dirtiness.universe, [0, 5, 10])\n",
        "dirtiness['high'] = fuzz.trimf(dirtiness.universe, [5, 10, 10])\n",
        "\n",
        "speed['low'] = fuzz.trimf(speed.universe, [0, 0, 50])\n",
        "speed['medium'] = fuzz.trimf(speed.universe, [0, 50, 100])\n",
        "speed['high'] = fuzz.trimf(speed.universe, [50, 100, 100])\n",
        "\n",
        "# Define fuzzy rules\n",
        "rule1 = ctrl.Rule(weight['low'] & dirtiness['low'], speed['low'])\n",
        "rule2 = ctrl.Rule(weight['low'] & dirtiness['medium'], speed['medium'])\n",
        "rule3 = ctrl.Rule(weight['low'] & dirtiness['high'], speed['medium'])\n",
        "rule4 = ctrl.Rule(weight['medium'] & dirtiness['low'], speed['medium'])\n",
        "rule5 = ctrl.Rule(weight['medium'] & dirtiness['medium'], speed['medium'])\n",
        "rule6 = ctrl.Rule(weight['medium'] & dirtiness['high'], speed['high'])\n",
        "rule7 = ctrl.Rule(weight['high'] & dirtiness['low'], speed['medium'])\n",
        "rule8 = ctrl.Rule(weight['high'] & dirtiness['medium'], speed['high'])\n",
        "rule9 = ctrl.Rule(weight['high'] & dirtiness['high'], speed['high'])\n",
        "\n",
        "# Control system\n",
        "speed_control = ctrl.ControlSystem([rule1, rule2, rule3, rule4, rule5, rule6, rule7, rule8, rule9])\n",
        "speed_simulation = ctrl.ControlSystemSimulation(speed_control)\n",
        "\n",
        "# Input values\n",
        "weight_input = float(input(\"Enter the weight of clothing (kg, 0-10): \"))\n",
        "dirtiness_input = float(input(\"Enter the dirtiness level (0-10): \"))\n",
        "\n",
        "speed_simulation.input['weight'] = weight_input\n",
        "speed_simulation.input['dirtiness'] = dirtiness_input\n",
        "\n",
        "# Compute output\n",
        "speed_simulation.compute()\n",
        "print(f\"Recommended washing speed: {speed_simulation.output['speed']:.2f}%\")\n"
      ]
    }
  ]
}