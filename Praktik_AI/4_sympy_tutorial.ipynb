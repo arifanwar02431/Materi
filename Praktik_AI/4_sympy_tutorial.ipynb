{
  "nbformat": 4,
  "nbformat_minor": 0,
  "metadata": {
    "colab": {
      "provenance": [],
      "include_colab_link": true
    },
    "language_info": {
      "name": "python"
    },
    "kernelspec": {
      "name": "python3",
      "display_name": "Python 3"
    }
  },
  "cells": [
    {
      "cell_type": "markdown",
      "metadata": {
        "id": "view-in-github",
        "colab_type": "text"
      },
      "source": [
        "<a href=\"https://colab.research.google.com/github/arifanwar02431/Materi/blob/main/Praktik_AI/4_sympy_tutorial.ipynb\" target=\"_parent\"><img src=\"https://colab.research.google.com/assets/colab-badge.svg\" alt=\"Open In Colab\"/></a>"
      ]
    },
    {
      "cell_type": "markdown",
      "source": [
        "#Taming math and physics using `SymPy`"
      ],
      "metadata": {
        "id": "dE3OfOk6O3bU"
      }
    },
    {
      "cell_type": "markdown",
      "source": [
        "Tutorial based on the [No bullshit guide](http://minireference.com/) series of textbooks by [Ivan Savov](&#109;&#097;&#105;&#108;&#116;&#111;:&#105;&#118;&#097;&#110;&#046;&#115;&#097;&#118;&#111;&#118;+&#083;&#089;&#077;&#080;&#089;&#084;&#085;&#084;&#064;&#103;&#109;&#097;&#105;&#108;&#046;&#099;&#111;&#109;)"
      ],
      "metadata": {
        "id": "jmFpdaa8O3ba"
      }
    },
    {
      "cell_type": "markdown",
      "source": [
        "##Abstract"
      ],
      "metadata": {
        "id": "nphaLLXxO3bf"
      }
    },
    {
      "cell_type": "markdown",
      "source": [
        "Most people consider math and physics to be scary\n",
        "beasts from which it is best to keep one's distance. Computers,\n",
        "however, can help us tame the complexity and tedious arithmetic\n",
        "manipulations associated with these subjects. Indeed, math and\n",
        "physics are much more approachable once you have the power of\n",
        "computers on your side.\n",
        "\n",
        "This tutorial serves a dual purpose. On one hand, it serves\n",
        "as a review of the fundamental concepts of mathematics for\n",
        "computer-literate people. On the other hand, this tutorial serves\n",
        "to demonstrate to students how a computer algebra system can\n",
        "help them with their classwork. A word of warning is in order.\n",
        "Please don't use `SymPy` to avoid the suffering associated with your\n",
        "homework! Teachers assign homework problems to you because\n",
        "they want you to learn. Do your homework by hand, but if you\n",
        "want, you can check your answers using `SymPy`. Better yet, use\n",
        "`SymPy` to invent extra practice problems for yourself."
      ],
      "metadata": {
        "id": "uiy9zq0SO3bh"
      }
    },
    {
      "cell_type": "markdown",
      "source": [
        "##Contents"
      ],
      "metadata": {
        "id": "0dv_ikeVO3bj"
      }
    },
    {
      "cell_type": "markdown",
      "source": [
        "* [Fundamentals of mathematics](#Fundamentals-of-mathematics)\n",
        "* [Complex numbers](#Complex-numbers)\n",
        "* [Calculus](#Calculus)\n",
        "* [Vectors](#Vectors)\n",
        "* [Mechanics](#Mechanics)\n",
        "* [Linear algebra](#Linear-algebra)"
      ],
      "metadata": {
        "id": "AKK0xI36O3bk"
      }
    },
    {
      "cell_type": "markdown",
      "source": [
        "##Introduction"
      ],
      "metadata": {
        "id": "IZbHvKOFO3bl"
      }
    },
    {
      "cell_type": "markdown",
      "source": [
        "You can use a computer algebra system (CAS) to compute complicated\n",
        "math expressions, solve equations, perform calculus procedures,\n",
        "and simulate physics systems.\n",
        "\n",
        "All computer algebra systems offer essentially the same functionality,\n",
        "so it doesn't matter which system you use: there are free\n",
        "systems like `SymPy`, `Magma`, or `Octave`, and commercial systems like\n",
        "`Maple`, `MATLAB`, and `Mathematica`. This tutorial is an introduction to\n",
        "`SymPy`, which is a *symbolic* computer algebra system written in the\n",
        "programming language `Python`. In a symbolic CAS, numbers and\n",
        "operations are represented symbolically, so the answers obtained are\n",
        "exact. For example, the number &radic;2 is represented in `SymPy` as the\n",
        "object `Pow(2,1/2)`, whereas in numerical computer algebra systems\n",
        "like `Octave`, the number &radic;2 is represented as the approximation\n",
        "1.41421356237310 (a `float`). For most purposes the approximation\n",
        "is okay, but sometimes approximations can lead to problems:\n",
        "`float(sqrt(2))*float(sqrt(2))` = 2.00000000000000044 &ne; 2. Because\n",
        "`SymPy` uses exact representations, you'll never run into such\n",
        "problems: `Pow(2,1/2)*Pow(2,1/2)` = 2.\n",
        "\n",
        "This tutorial is organized as follows. We'll begin by introducing the\n",
        "`SymPy` basics and the bread-and-butter functions used for manipulating\n",
        "expressions and solving equations. Afterward, we'll discuss the\n",
        "`SymPy` functions that implement calculus operations like differentiation\n",
        "and integration. We'll also introduce the functions used to deal with\n",
        "vectors and complex numbers. Later we'll see how to use vectors and\n",
        "integrals to understand Newtonian mechanics. In the last section,\n",
        "we'll introduce the linear algebra functions available in `SymPy`.\n",
        "\n",
        "This tutorial presents many explanations as blocks of code. Be sure\n",
        "to try the code examples on your own by typing the commands into\n",
        "`SymPy`. It's always important to verify for yourself!"
      ],
      "metadata": {
        "id": "RnvTW4cAO3bm"
      }
    },
    {
      "cell_type": "markdown",
      "source": [
        "##Using SymPy"
      ],
      "metadata": {
        "id": "R7fS8cC3O3bn"
      }
    },
    {
      "cell_type": "markdown",
      "source": [
        "The easiest way to use `SymPy`, provided you're connected to the\n",
        "Internet, is to visit http://live.sympy.org. You'll be presented with\n",
        "an interactive prompt into which you can enter your commands&mdash;right\n",
        "in your browser.\n",
        "\n",
        "If you want to use `SymPy` on your own computer, you must install\n",
        "`Python` and the python package `sympy`. You can then open a command\n",
        "prompt and start a `SymPy` session using:\n",
        "\n",
        "```\n",
        "you@host$ python\n",
        "Python X.Y.Z\n",
        "[GCC a.b.c (Build Info)] on platform\n",
        "Type \"help\", \"copyright\", or \"license\" for more information.\n",
        ">>> from sympy import *\n",
        ">>>\n",
        "```\n",
        "\n",
        "The `>>>` prompt indicates you're in the Python shell which accepts\n",
        "Python commands. The command `from sympy import *` imports all\n",
        "the `SymPy` functions into the current namespace. All `SymPy` functions\n",
        "are now available to you. To exit the python shell press `CTRL+D`.\n",
        "\n",
        "I highly recommend you also install `ipython`, which is an improved\n",
        "interactive python shell. If you have `ipython` and `SymPy` installed,\n",
        "you can start an `ipython` shell with `SymPy` pre-imported using the\n",
        "command `isympy`. For an even better experience, you can try `ipython notebook`,\n",
        "which is a web frontend for the `ipython` shell.\n",
        "\n",
        "You can start your session the same way as `isympy` do, by running following commands, which will be detaily described latter."
      ],
      "metadata": {
        "id": "s-jYHfAfO3bp"
      }
    },
    {
      "cell_type": "code",
      "source": [
        "from sympy import init_session\n",
        "init_session()"
      ],
      "outputs": [
        {
          "output_type": "stream",
          "name": "stdout",
          "text": [
            "IPython console for SymPy 1.13.1 (Python 3.11.11-64-bit) (ground types: python)\n",
            "\n",
            "These commands were executed:\n",
            ">>> from sympy import *\n",
            ">>> x, y, z, t = symbols('x y z t')\n",
            ">>> k, m, n = symbols('k m n', integer=True)\n",
            ">>> f, g, h = symbols('f g h', cls=Function)\n",
            ">>> init_printing()\n",
            "\n",
            "Documentation can be found at https://docs.sympy.org/1.13.1/\n",
            "\n"
          ]
        }
      ],
      "metadata": {
        "id": "H1PiDF8iO3bq",
        "outputId": "95781bd2-9edb-4608-eb01-705b2fb4aa20",
        "colab": {
          "base_uri": "https://localhost:8080/"
        }
      },
      "execution_count": 1
    },
    {
      "cell_type": "markdown",
      "source": [
        "##Fundamentals of mathematics"
      ],
      "metadata": {
        "id": "sPicANBSO3br"
      }
    },
    {
      "cell_type": "markdown",
      "source": [
        "Let's begin by learning about the basic `SymPy` objects and the\n",
        "operations we can carry out on them. We'll learn the `SymPy` equivalents\n",
        "of many math verbs like &ldquo;to solve&rdquo; (an equation), &ldquo;to expand&rdquo; (an\n",
        "expression), &ldquo;to factor&rdquo; (a polynomial)."
      ],
      "metadata": {
        "id": "rLtqXwVPO3br"
      }
    },
    {
      "cell_type": "markdown",
      "source": [
        "###Numbers"
      ],
      "metadata": {
        "id": "28vFtNIhO3bs"
      }
    },
    {
      "cell_type": "markdown",
      "source": [
        "In `Python`, there are two types of number objects: `int`s and `float`s."
      ],
      "metadata": {
        "id": "ZVsmoAFuO3bs"
      }
    },
    {
      "cell_type": "code",
      "source": [
        "3         # an int"
      ],
      "outputs": [
        {
          "output_type": "execute_result",
          "data": {
            "text/plain": [
              "3"
            ],
            "text/latex": "$\\displaystyle 3$"
          },
          "metadata": {},
          "execution_count": 2
        }
      ],
      "metadata": {
        "id": "2iAZ3SDqO3bs",
        "outputId": "72f48261-be41-43bb-e411-d1c732901222",
        "colab": {
          "base_uri": "https://localhost:8080/",
          "height": 37
        }
      },
      "execution_count": 2
    },
    {
      "cell_type": "code",
      "source": [
        "3.0       # a float"
      ],
      "outputs": [
        {
          "output_type": "execute_result",
          "data": {
            "text/plain": [
              "3.0"
            ],
            "text/latex": "$\\displaystyle 3.0$"
          },
          "metadata": {},
          "execution_count": 3
        }
      ],
      "metadata": {
        "id": "rhUYZX99O3bt",
        "outputId": "7de3d67c-9d50-4371-ae63-a273a5abf77a",
        "colab": {
          "base_uri": "https://localhost:8080/",
          "height": 37
        }
      },
      "execution_count": 3
    },
    {
      "cell_type": "markdown",
      "source": [
        "Integer objects in `Python` are a faithful representation of the set of\n",
        "integers $\\mathbb{Z}=\\{\\ldots,-2,-1,0,1,2,\\ldots\\}$. Floating point numbers are\n",
        "approximate representations of the reals $\\mathbb{R}$. Regardless of its absolute\n",
        "size, a floating point number is only accurate to 16 decimals.\n",
        "\n",
        "Special care is required when specifying rational numbers, because\n",
        "integer division might not produce the answer you want. In other\n",
        "words, Python will not automatically convert the answer to a floating\n",
        "point number, but instead round the answer to the closest integer:"
      ],
      "metadata": {
        "id": "l_cfgyCzO3bt"
      }
    },
    {
      "cell_type": "code",
      "source": [
        "1/7       # int/int gives int"
      ],
      "outputs": [
        {
          "output_type": "execute_result",
          "data": {
            "text/plain": [
              "0.14285714285714285"
            ],
            "text/latex": "$\\displaystyle 0.142857142857143$"
          },
          "metadata": {},
          "execution_count": 4
        }
      ],
      "metadata": {
        "id": "uTEWcAshO3bu",
        "outputId": "d4ff371f-0a7d-44b7-d7e7-99f63d854e07",
        "colab": {
          "base_uri": "https://localhost:8080/",
          "height": 37
        }
      },
      "execution_count": 4
    },
    {
      "cell_type": "markdown",
      "source": [
        "To avoid this problem, you can force `float` division by using the\n",
        "number `1.0` instead of `1`:"
      ],
      "metadata": {
        "id": "lbdwfN1EO3bu"
      }
    },
    {
      "cell_type": "code",
      "source": [
        "1.0/7     # float/int gives float"
      ],
      "outputs": [
        {
          "output_type": "execute_result",
          "data": {
            "text/plain": [
              "0.14285714285714285"
            ],
            "text/latex": "$\\displaystyle 0.142857142857143$"
          },
          "metadata": {},
          "execution_count": 5
        }
      ],
      "metadata": {
        "id": "U5b4F3N8O3bu",
        "outputId": "192a0f6b-2a1a-4b40-9cfa-44a84e5b9aca",
        "colab": {
          "base_uri": "https://localhost:8080/",
          "height": 37
        }
      },
      "execution_count": 5
    },
    {
      "cell_type": "markdown",
      "source": [
        "This result is better, but it's still only an approximation of the exact\n",
        "number $\\frac{1}{7} \\in \\mathbb{Q}$, since a `float` has 16 decimals while the decimal\n",
        "expansion of $\\frac{1}{7}$ is infinitely long. To obtain an *exact* representation\n",
        "of $\\frac{1}{7}$ you need to create a `SymPy` expression. You can sympify any\n",
        "expression using the shortcut function `S()`:"
      ],
      "metadata": {
        "id": "uyO6soP_O3bv"
      }
    },
    {
      "cell_type": "code",
      "source": [
        "S('1/7')  # = Rational(1,7)"
      ],
      "outputs": [
        {
          "output_type": "execute_result",
          "data": {
            "text/plain": [
              "1/7"
            ],
            "text/latex": "$\\displaystyle \\frac{1}{7}$"
          },
          "metadata": {},
          "execution_count": 6
        }
      ],
      "metadata": {
        "id": "fpyRM0dlO3bv",
        "outputId": "9b538113-c3a5-4838-e931-d152db1e3a8f",
        "colab": {
          "base_uri": "https://localhost:8080/",
          "height": 51
        }
      },
      "execution_count": 6
    },
    {
      "cell_type": "markdown",
      "source": [
        "Note the input to `S()` is specified as a text string delimited by quotes.\n",
        "We could have achieved the same result using `S('1')/7` since a `SymPy`\n",
        "object divided by an `int` is a `SymPy` object.\n",
        "\n",
        "Except for the tricky `Python` division operator, other math operators\n",
        "like addition `+`, subtraction `-`, and multiplication `*` work as you would\n",
        "expect. The syntax `**` is used in `Python` to denote exponentiation:"
      ],
      "metadata": {
        "id": "McBg8A_HO3bv"
      }
    },
    {
      "cell_type": "code",
      "source": [
        "2**10     # same as S('2^10')"
      ],
      "outputs": [
        {
          "output_type": "execute_result",
          "data": {
            "text/plain": [
              "1024"
            ],
            "text/latex": "$\\displaystyle 1024$"
          },
          "metadata": {},
          "execution_count": 7
        }
      ],
      "metadata": {
        "id": "suQExDPQO3bw",
        "outputId": "f70d0cf0-4a3d-463e-fedf-0905fc78eb46",
        "colab": {
          "base_uri": "https://localhost:8080/",
          "height": 37
        }
      },
      "execution_count": 7
    },
    {
      "cell_type": "markdown",
      "source": [
        "When solving math problems, it's best to work with `SymPy` objects,\n",
        "and wait to compute the numeric answer in the end. To obtain a\n",
        "numeric approximation of a `SymPy` object as a `float`, call its `.evalf()`\n",
        "method:"
      ],
      "metadata": {
        "id": "XGcAL3fPO3bw"
      }
    },
    {
      "cell_type": "code",
      "source": [
        "pi"
      ],
      "outputs": [
        {
          "output_type": "execute_result",
          "data": {
            "text/plain": [
              "π"
            ],
            "text/latex": "$\\displaystyle \\pi$"
          },
          "metadata": {},
          "execution_count": 8
        }
      ],
      "metadata": {
        "id": "K1Tg6m2aO3bw",
        "outputId": "631e019c-9d16-4681-d6b1-61adfd28a049",
        "colab": {
          "base_uri": "https://localhost:8080/",
          "height": 38
        }
      },
      "execution_count": 8
    },
    {
      "cell_type": "code",
      "source": [
        "pi.evalf()"
      ],
      "outputs": [
        {
          "output_type": "execute_result",
          "data": {
            "text/plain": [
              "3.14159265358979"
            ],
            "text/latex": "$\\displaystyle 3.14159265358979$"
          },
          "metadata": {},
          "execution_count": 9
        }
      ],
      "metadata": {
        "id": "2Ag7QnBpO3bx",
        "outputId": "bb1ffd83-fcb1-4e82-b563-7bb5a6e42c7b",
        "colab": {
          "base_uri": "https://localhost:8080/",
          "height": 37
        }
      },
      "execution_count": 9
    },
    {
      "cell_type": "markdown",
      "source": [
        "The method `.n()` is equivalent to `.evalf()`. The global `SymPy`\n",
        "function `N()` can also be used to to compute numerical values. You can\n",
        "easily change the number of digits of precision of the approximation.\n",
        "Enter `pi.n(400)` to obtain an approximation of $\\pi$ to 400 decimals."
      ],
      "metadata": {
        "id": "ClLiU-vJO3by"
      }
    },
    {
      "cell_type": "markdown",
      "source": [
        "###Symbols"
      ],
      "metadata": {
        "id": "Cl_MTtDaO3by"
      }
    },
    {
      "cell_type": "markdown",
      "source": [
        "Python is a civilized language so there's no need to define variables\n",
        "before assigning values to them. When you write `a = 3`, you define a\n",
        "new name `a` and set it to the value `3`. You can now use the name `a`\n",
        "in subsequent calculations.\n",
        "\n",
        "Most interesting `SymPy` calculations require us to define `symbols`,\n",
        "which are the `SymPy` objects for representing variables and unknowns.\n",
        "For your convenience, when [live.sympy.org](http://live.sympy.org) starts, it runs the\n",
        "following commands automatically:"
      ],
      "metadata": {
        "id": "nWY6ReL1O3by"
      }
    },
    {
      "cell_type": "code",
      "source": [
        "from __future__ import division\n",
        "from sympy import *\n",
        "x, y, z, t = symbols('x y z t')\n",
        "k, m, n = symbols('k m n', integer=True)\n",
        "f, g, h = symbols('f g h', cls=Function)"
      ],
      "outputs": [],
      "metadata": {
        "id": "sPD69kabO3by"
      },
      "execution_count": 10
    },
    {
      "cell_type": "markdown",
      "source": [
        "The first statement instructs python to convert `1/7` to `1.0/7` when\n",
        "dividing, potentially saving you from any int division confusion. The\n",
        "second statement imports all the `SymPy` functions. The remaining\n",
        "statements define some generic symbols `x`, `y`, `z`, and `t`, and several\n",
        "other symbols with special properties.\n",
        "\n",
        "Note the difference between the following two statements:"
      ],
      "metadata": {
        "id": "ZR_N9GnSO3bz"
      }
    },
    {
      "cell_type": "code",
      "source": [
        "x + 2            # an Add expression"
      ],
      "outputs": [
        {
          "output_type": "execute_result",
          "data": {
            "text/plain": [
              "x + 2"
            ],
            "text/latex": "$\\displaystyle x + 2$"
          },
          "metadata": {},
          "execution_count": 11
        }
      ],
      "metadata": {
        "id": "fd1JxbXUO3bz",
        "outputId": "a8075823-8196-4eac-ebfd-acbc752e8ff3",
        "colab": {
          "base_uri": "https://localhost:8080/",
          "height": 38
        }
      },
      "execution_count": 11
    },
    {
      "cell_type": "code",
      "source": [
        "p + 2"
      ],
      "outputs": [
        {
          "output_type": "error",
          "ename": "NameError",
          "evalue": "name 'p' is not defined",
          "traceback": [
            "\u001b[0;31m---------------------------------------------------------------------------\u001b[0m",
            "\u001b[0;31mNameError\u001b[0m                                 Traceback (most recent call last)",
            "\u001b[0;32m<ipython-input-12-89603c94c24c>\u001b[0m in \u001b[0;36m<cell line: 0>\u001b[0;34m()\u001b[0m\n\u001b[0;32m----> 1\u001b[0;31m \u001b[0mp\u001b[0m \u001b[0;34m+\u001b[0m \u001b[0;36m2\u001b[0m\u001b[0;34m\u001b[0m\u001b[0;34m\u001b[0m\u001b[0m\n\u001b[0m",
            "\u001b[0;31mNameError\u001b[0m: name 'p' is not defined"
          ]
        }
      ],
      "metadata": {
        "id": "omaY2F7rO3b0",
        "outputId": "23316327-d7fb-4764-e180-a3e392eff57d",
        "colab": {
          "base_uri": "https://localhost:8080/",
          "height": 145
        }
      },
      "execution_count": 12
    },
    {
      "cell_type": "markdown",
      "source": [
        "The name `x` is defined as a symbol, so `SymPy` knows that `x + 2` is an\n",
        "expression; but the variable `p` is not defined, so `SymPy` doesn't know\n",
        "what to make of `p + 2`. To use `p` in expressions, you must first define\n",
        "it as a symbol:"
      ],
      "metadata": {
        "id": "kpvcarpmO3b0"
      }
    },
    {
      "cell_type": "code",
      "source": [
        "p = Symbol('p')  # the same as p = symbols('p')\n",
        "p + 2            # = Add(Symbol('p'), Integer(2))"
      ],
      "outputs": [
        {
          "output_type": "execute_result",
          "data": {
            "text/plain": [
              "p + 2"
            ],
            "text/latex": "$\\displaystyle p + 2$"
          },
          "metadata": {},
          "execution_count": 13
        }
      ],
      "metadata": {
        "id": "pq-J8mLaO3b1",
        "outputId": "9b959751-474d-4c26-be57-466538def2e0",
        "colab": {
          "base_uri": "https://localhost:8080/",
          "height": 38
        }
      },
      "execution_count": 13
    },
    {
      "cell_type": "markdown",
      "source": [
        "You can define a sequence of variables using the following notation:"
      ],
      "metadata": {
        "id": "yitD783rO3b1"
      }
    },
    {
      "cell_type": "code",
      "source": [
        "a0, a1, a2, a3 = symbols('a0:4')"
      ],
      "outputs": [],
      "metadata": {
        "id": "cWcKL_yLO3b1"
      },
      "execution_count": 14
    },
    {
      "cell_type": "markdown",
      "source": [
        "You can use any name you want for a variable, but it's best if you\n",
        "avoid the letters `Q,C,O,S,I,N` and `E` because they have special uses\n",
        "in `SymPy`: `I` is the unit imaginary number $i \\equiv \\sqrt(-1)$, `E` is the base of\n",
        "the natural logarithm, `S()` is the sympify function, `N()` is used to\n",
        "obtain numeric approximations, and `O` is used for big-O notation.\n",
        "\n",
        "The underscore symbol `_` is a special variable that contains the result\n",
        "of the last printed value. The variable `_` is analogous to the `ans` button\n",
        "on certain calculators, and is useful in multi-step calculations:"
      ],
      "metadata": {
        "id": "Az8OsOk7O3b9"
      }
    },
    {
      "cell_type": "code",
      "source": [
        "3+3"
      ],
      "outputs": [
        {
          "output_type": "execute_result",
          "data": {
            "text/plain": [
              "6"
            ],
            "text/latex": "$\\displaystyle 6$"
          },
          "metadata": {},
          "execution_count": 15
        }
      ],
      "metadata": {
        "id": "v_brQUiEO3cF",
        "outputId": "d18c672a-36c2-48c5-c390-87344173658d",
        "colab": {
          "base_uri": "https://localhost:8080/",
          "height": 37
        }
      },
      "execution_count": 15
    },
    {
      "cell_type": "code",
      "source": [
        "_*2"
      ],
      "outputs": [
        {
          "output_type": "execute_result",
          "data": {
            "text/plain": [
              "12"
            ],
            "text/latex": "$\\displaystyle 12$"
          },
          "metadata": {},
          "execution_count": 16
        }
      ],
      "metadata": {
        "id": "GTK7t1reO3cH",
        "outputId": "dbc7be47-2410-4fbc-fc0b-fbeebaf6d4ba",
        "colab": {
          "base_uri": "https://localhost:8080/",
          "height": 37
        }
      },
      "execution_count": 16
    },
    {
      "cell_type": "markdown",
      "source": [
        "###Expresions"
      ],
      "metadata": {
        "id": "0x3zL0afO3cK"
      }
    },
    {
      "cell_type": "markdown",
      "source": [
        "You define `SymPy` expressions by combining symbols with basic math\n",
        "operations and other functions:"
      ],
      "metadata": {
        "id": "C7J99TPmO3cL"
      }
    },
    {
      "cell_type": "code",
      "source": [
        "expr = 2*x + 3*x - sin(x) - 3*x + 42\n",
        "simplify(expr)"
      ],
      "outputs": [
        {
          "output_type": "execute_result",
          "data": {
            "text/plain": [
              "2⋅x - sin(x) + 42"
            ],
            "text/latex": "$\\displaystyle 2 x - \\sin{\\left(x \\right)} + 42$"
          },
          "metadata": {},
          "execution_count": 17
        }
      ],
      "metadata": {
        "id": "bV5E6oBcO3cN",
        "outputId": "3d166490-57b5-4aa8-87a0-fe923aadc54b",
        "colab": {
          "base_uri": "https://localhost:8080/",
          "height": 38
        }
      },
      "execution_count": 17
    },
    {
      "cell_type": "markdown",
      "source": [
        "The function `simplify` can be used on any expression to simplify\n",
        "it. The examples below illustrate other useful `SymPy` functions that\n",
        "correspond to common mathematical operations on expressions:"
      ],
      "metadata": {
        "id": "A1mFXsVpO3cO"
      }
    },
    {
      "cell_type": "code",
      "source": [
        "factor( x**2-2*x-8 )"
      ],
      "outputs": [
        {
          "output_type": "execute_result",
          "data": {
            "text/plain": [
              "(x - 4)⋅(x + 2)"
            ],
            "text/latex": "$\\displaystyle \\left(x - 4\\right) \\left(x + 2\\right)$"
          },
          "metadata": {},
          "execution_count": 18
        }
      ],
      "metadata": {
        "id": "41ed3PWTO3cP",
        "outputId": "ecb4e856-b240-4394-a909-96140d4896ba",
        "colab": {
          "base_uri": "https://localhost:8080/",
          "height": 38
        }
      },
      "execution_count": 18
    },
    {
      "cell_type": "code",
      "source": [
        "expand( (x-4)*(x+2) )"
      ],
      "outputs": [
        {
          "output_type": "execute_result",
          "data": {
            "text/plain": [
              " 2          \n",
              "x  - 2⋅x - 8"
            ],
            "text/latex": "$\\displaystyle x^{2} - 2 x - 8$"
          },
          "metadata": {},
          "execution_count": 19
        }
      ],
      "metadata": {
        "id": "jPcAfkpZO3cV",
        "outputId": "69ae4044-6e97-4176-e61d-2c5a63541ba7",
        "colab": {
          "base_uri": "https://localhost:8080/",
          "height": 38
        }
      },
      "execution_count": 19
    },
    {
      "cell_type": "code",
      "source": [
        "a, b = symbols('a b')\n",
        "collect(x**2 + x*b + a*x + a*b, x)  # collect terms for diff. pows of x"
      ],
      "outputs": [
        {
          "output_type": "execute_result",
          "data": {
            "text/plain": [
              "       2            \n",
              "a⋅b + x  + x⋅(a + b)"
            ],
            "text/latex": "$\\displaystyle a b + x^{2} + x \\left(a + b\\right)$"
          },
          "metadata": {},
          "execution_count": 20
        }
      ],
      "metadata": {
        "id": "LDu_HnOiO3cX",
        "outputId": "a427c67d-acb3-4b08-d09b-bad264a5f4a1",
        "colab": {
          "base_uri": "https://localhost:8080/",
          "height": 38
        }
      },
      "execution_count": 20
    },
    {
      "cell_type": "markdown",
      "source": [
        "To substitute a given value into an expression, call the `.subs()`\n",
        "method, passing in a python dictionary object `{ key:val, ... }`\n",
        "with the symbol&ndash;value substitutions you want to make:"
      ],
      "metadata": {
        "id": "-JW9M1QzO3cY"
      }
    },
    {
      "cell_type": "code",
      "source": [
        "expr = sin(x) + cos(y)\n",
        "expr"
      ],
      "outputs": [
        {
          "output_type": "execute_result",
          "data": {
            "text/plain": [
              "sin(x) + cos(y)"
            ],
            "text/latex": "$\\displaystyle \\sin{\\left(x \\right)} + \\cos{\\left(y \\right)}$"
          },
          "metadata": {},
          "execution_count": 21
        }
      ],
      "metadata": {
        "id": "CBUWwbY9O3cd",
        "outputId": "4cf39cbd-d527-4a25-f277-35bfe3f2520e",
        "colab": {
          "base_uri": "https://localhost:8080/",
          "height": 38
        }
      },
      "execution_count": 21
    },
    {
      "cell_type": "code",
      "source": [
        "expr.subs({x:90, y:90})"
      ],
      "outputs": [
        {
          "output_type": "execute_result",
          "data": {
            "text/plain": [
              "cos(90) + sin(90)"
            ],
            "text/latex": "$\\displaystyle \\cos{\\left(90 \\right)} + \\sin{\\left(90 \\right)}$"
          },
          "metadata": {},
          "execution_count": 25
        }
      ],
      "metadata": {
        "id": "XplefE_GO3ce",
        "outputId": "0d00a21f-f06a-4897-b031-90d429a202d9",
        "colab": {
          "base_uri": "https://localhost:8080/",
          "height": 37
        }
      },
      "execution_count": 25
    },
    {
      "cell_type": "code",
      "source": [
        "expr.subs({x:0, y:0}).n()"
      ],
      "outputs": [
        {
          "output_type": "execute_result",
          "data": {
            "text/plain": [
              "1.00000000000000"
            ],
            "text/latex": "$\\displaystyle 1.0$"
          },
          "metadata": {},
          "execution_count": 29
        }
      ],
      "metadata": {
        "id": "-8AVY2PLO3ce",
        "outputId": "eaf0d6ef-ba73-4fba-c9c3-4ada11dd0894",
        "colab": {
          "base_uri": "https://localhost:8080/",
          "height": 37
        }
      },
      "execution_count": 29
    },
    {
      "cell_type": "markdown",
      "source": [
        "Note how we used `.n()` to obtain the expression's numeric value."
      ],
      "metadata": {
        "id": "BYb3SGOAO3ci"
      }
    },
    {
      "cell_type": "markdown",
      "source": [
        "###Solving equations"
      ],
      "metadata": {
        "id": "kbxuk23CO3ci"
      }
    },
    {
      "cell_type": "markdown",
      "source": [
        "The function `solve` is the main workhorse in `SymPy`. This incredibly\n",
        "powerful function knows how to solve all kinds of equations. In fact\n",
        "`solve` can solve pretty much any equation! When high school students\n",
        "learn about this function, they get really angry&mdash;why did they spend\n",
        "five years of their life learning to solve various equations by hand,\n",
        "when all along there was this `solve` thing that could do all the math\n",
        "for them? Don't worry, learning math is never a waste of time.\n",
        "\n",
        "The function `solve` takes two arguments. Use `solve(expr,var)` to\n",
        "solve the equation `expr==0` for the variable `var`. You can rewrite any\n",
        "equation in the form `expr==0` by moving all the terms to one side\n",
        "of the equation; the solutions to $A(x) = B(x)$ are the same as the\n",
        "solutions to $A(x) - B(x) = 0$.\n",
        "\n",
        "For example, to solve the quadratic equation $x^2 + 2x - 8 = 0$, use"
      ],
      "metadata": {
        "id": "wEWjoHsaO3cj"
      }
    },
    {
      "cell_type": "code",
      "source": [
        "solve( x**2 + 2*x - 8, x)"
      ],
      "outputs": [
        {
          "output_type": "execute_result",
          "data": {
            "text/plain": [
              "[-4, 2]"
            ],
            "text/latex": "$\\displaystyle \\left[ -4, \\  2\\right]$"
          },
          "metadata": {},
          "execution_count": 30
        }
      ],
      "metadata": {
        "id": "N2qs5cAsO3cj",
        "outputId": "1e0a739b-9ab8-40d5-8e45-c3138844f3f1",
        "colab": {
          "base_uri": "https://localhost:8080/",
          "height": 37
        }
      },
      "execution_count": 30
    },
    {
      "cell_type": "markdown",
      "source": [
        "In this case the equation has two solutions so `solve` returns a list.\n",
        "Check that $x = 2$ and $x = -4$ satisfy the equation $x^2 + 2x - 8 = 0$.\n",
        "\n",
        "The best part about `solve` and `SymPy` is that you can obtain symbolic\n",
        "answers when solving equations. Instead of solving one specific\n",
        "quadratic equation, we can solve all possible equations of the form\n",
        "$ax^2 + bx + c = 0$ using the following steps:"
      ],
      "metadata": {
        "id": "EZg8K8F9O3cm"
      }
    },
    {
      "cell_type": "code",
      "source": [
        "a, b, c = symbols('a b c')\n",
        "solve( a*x**2 + b*x + c, x)"
      ],
      "outputs": [
        {
          "output_type": "execute_result",
          "data": {
            "text/plain": [
              "⎡        _____________          _____________⎤\n",
              "⎢       ╱           2          ╱           2 ⎥\n",
              "⎢-b - ╲╱  -4⋅a⋅c + b    -b + ╲╱  -4⋅a⋅c + b  ⎥\n",
              "⎢─────────────────────, ─────────────────────⎥\n",
              "⎣         2⋅a                    2⋅a         ⎦"
            ],
            "text/latex": "$\\displaystyle \\left[ \\frac{- b - \\sqrt{- 4 a c + b^{2}}}{2 a}, \\  \\frac{- b + \\sqrt{- 4 a c + b^{2}}}{2 a}\\right]$"
          },
          "metadata": {},
          "execution_count": 31
        }
      ],
      "metadata": {
        "id": "gM25IpMrO3cn",
        "outputId": "b9628f37-98d2-4c14-effc-e11bdf1e01f7",
        "colab": {
          "base_uri": "https://localhost:8080/",
          "height": 68
        }
      },
      "execution_count": 31
    },
    {
      "cell_type": "markdown",
      "source": [
        "In this case `solve` calculated the solution in terms of the symbols\n",
        "`a`, `b`, and `c`. You should be able to recognize the expressions in the\n",
        "solution&mdash;it's the quadratic formula $x_{1,2} = \\frac{-b \\pm \\sqrt{b^2 - 4ac}}{2a}$.\n",
        "\n",
        "To solve a specific equation like $x^2 + 2x - 8 = 0$, we can substitute\n",
        "the coefficients $a = 1$, $b = 2$, and $c = -8$ into the general solution to\n",
        "obtain the same result:"
      ],
      "metadata": {
        "id": "GUGDKdfoO3co"
      }
    },
    {
      "cell_type": "code",
      "source": [
        "gen_sol = solve( a*x**2 + b*x + c, x)\n",
        "[ gen_sol[0].subs({'a':1,'b':2,'c':-8}),\n",
        "  gen_sol[1].subs({'a':1,'b':2,'c':-8}) ]"
      ],
      "outputs": [
        {
          "output_type": "execute_result",
          "data": {
            "text/plain": [
              "[-4, 2]"
            ],
            "text/latex": "$\\displaystyle \\left[ -4, \\  2\\right]$"
          },
          "metadata": {},
          "execution_count": 33
        }
      ],
      "metadata": {
        "id": "MCocvHWgO3co",
        "outputId": "6737f268-d1ed-4163-bf4c-1c346edb4ea5",
        "colab": {
          "base_uri": "https://localhost:8080/",
          "height": 37
        }
      },
      "execution_count": 33
    },
    {
      "cell_type": "markdown",
      "source": [
        "To solve a *system of equations*, you can feed `solve` with the list of\n",
        "equations as the first argument, and specify the list of unknowns you\n",
        "want to solve for as the second argument. For example, to solve for $x$\n",
        "and $y$ in the system of equations $x + y = 3$ and $3x - 2y = 0$, use"
      ],
      "metadata": {
        "id": "qmRn9MVUO3cs"
      }
    },
    {
      "cell_type": "code",
      "source": [
        "solve([x + y - 3, 3*x - 2*y], [x, y])"
      ],
      "outputs": [
        {
          "output_type": "execute_result",
          "data": {
            "text/plain": [
              "{x: 6/5, y: 9/5}"
            ],
            "text/latex": "$\\displaystyle \\left\\{ x : \\frac{6}{5}, \\  y : \\frac{9}{5}\\right\\}$"
          },
          "metadata": {},
          "execution_count": 34
        }
      ],
      "metadata": {
        "id": "d-W7dTszO3cs",
        "outputId": "8971a79a-e582-474c-c266-7cd62173de29",
        "colab": {
          "base_uri": "https://localhost:8080/",
          "height": 58
        }
      },
      "execution_count": 34
    },
    {
      "cell_type": "markdown",
      "source": [
        "The function `solve` is like a Swiss Army knife you can use to solve\n",
        "all kind of problems. Suppose you want to *complete the square* in the\n",
        "expression $x^2 - 4x + 7$, that is, you want to find constants $h$ and $k$\n",
        "such that $x^2 -4x + 7 = (x-h)^2 + k$. There is no special &ldquo;complete the\n",
        "square&rdquo; function in `SymPy`, but you can call solve on the equation\n",
        "$(x - h)^2 + k - (x^2 - 4x + 7) = 0$ to find the unknowns $h$ and $k$:"
      ],
      "metadata": {
        "id": "TIE0kt4HO3ct"
      }
    },
    {
      "cell_type": "code",
      "source": [
        "h, k = symbols('h k')\n",
        "solve( (x-h)**2 + k - (x**2-4*x+7), [h,k] )"
      ],
      "outputs": [
        {
          "output_type": "execute_result",
          "data": {
            "text/plain": [
              "{h: 2, k: 3}"
            ],
            "text/latex": "$\\displaystyle \\left\\{ h : 2, \\  k : 3\\right\\}$"
          },
          "metadata": {},
          "execution_count": 35
        }
      ],
      "metadata": {
        "id": "Vpp5jt7DO3cx",
        "outputId": "0958871e-f926-4c43-bd62-5affcf69eceb",
        "colab": {
          "base_uri": "https://localhost:8080/",
          "height": 38
        }
      },
      "execution_count": 35
    },
    {
      "cell_type": "code",
      "source": [
        "((x-2)**2+3).expand()  # so h = 2 and k = 3, verify..."
      ],
      "outputs": [
        {
          "output_type": "execute_result",
          "data": {
            "text/plain": [
              " 2          \n",
              "x  - 4⋅x + 7"
            ],
            "text/latex": "$\\displaystyle x^{2} - 4 x + 7$"
          },
          "metadata": {},
          "execution_count": 36
        }
      ],
      "metadata": {
        "id": "X6HrHDJsO3cy",
        "outputId": "929ec017-0fbc-4a3e-f6a9-a14c0555678e",
        "colab": {
          "base_uri": "https://localhost:8080/",
          "height": 38
        }
      },
      "execution_count": 36
    },
    {
      "cell_type": "markdown",
      "source": [
        "Learn the basic `SymPy` commands and you'll never need to suffer\n",
        "another tedious arithmetic calculation painstakingly performed by\n",
        "hand again!"
      ],
      "metadata": {
        "id": "17ECE_mGO3cz"
      }
    },
    {
      "cell_type": "markdown",
      "source": [
        "###Rational functions"
      ],
      "metadata": {
        "id": "99v_M2FsO3c2"
      }
    },
    {
      "cell_type": "markdown",
      "source": [
        "By default, `SymPy` will not combine or split rational expressions.\n",
        "You need to use `together` to symbolically calculate the addition of\n",
        "fractions:"
      ],
      "metadata": {
        "id": "hEyDHdhCO3c3"
      }
    },
    {
      "cell_type": "code",
      "source": [
        "a, b, c, d = symbols('a b c d')\n",
        "a/b + c/d"
      ],
      "outputs": [
        {
          "output_type": "execute_result",
          "data": {
            "text/plain": [
              "a   c\n",
              "─ + ─\n",
              "b   d"
            ],
            "text/latex": "$\\displaystyle \\frac{a}{b} + \\frac{c}{d}$"
          },
          "metadata": {},
          "execution_count": 37
        }
      ],
      "metadata": {
        "id": "-Q0_5fuHO3c3",
        "outputId": "4de860a5-ac6f-40aa-eaf6-9c6915dfeb1f",
        "colab": {
          "base_uri": "https://localhost:8080/",
          "height": 47
        }
      },
      "execution_count": 37
    },
    {
      "cell_type": "code",
      "source": [
        "together(a/b + c/d)"
      ],
      "outputs": [
        {
          "output_type": "execute_result",
          "data": {
            "text/plain": [
              "a⋅d + b⋅c\n",
              "─────────\n",
              "   b⋅d   "
            ],
            "text/latex": "$\\displaystyle \\frac{a d + b c}{b d}$"
          },
          "metadata": {},
          "execution_count": 38
        }
      ],
      "metadata": {
        "id": "Nm2Gtc3nO3c4",
        "outputId": "937a1733-dabb-4df0-d737-66abf0903e71",
        "colab": {
          "base_uri": "https://localhost:8080/",
          "height": 52
        }
      },
      "execution_count": 38
    },
    {
      "cell_type": "markdown",
      "source": [
        "Alternately, if you have a rational expression and want to divide the\n",
        "numerator by the denominator, use the `apart` function:"
      ],
      "metadata": {
        "id": "yhjxxA6AO3c7"
      }
    },
    {
      "cell_type": "code",
      "source": [
        "apart( (x**2+x+4)/(x+2) )"
      ],
      "outputs": [
        {
          "output_type": "execute_result",
          "data": {
            "text/plain": [
              "          6  \n",
              "x - 1 + ─────\n",
              "        x + 2"
            ],
            "text/latex": "$\\displaystyle x - 1 + \\frac{6}{x + 2}$"
          },
          "metadata": {},
          "execution_count": 39
        }
      ],
      "metadata": {
        "id": "T9hCvYv4O3c8",
        "outputId": "4d78091f-897d-4b57-e889-78a2816ad581",
        "colab": {
          "base_uri": "https://localhost:8080/",
          "height": 52
        }
      },
      "execution_count": 39
    },
    {
      "cell_type": "markdown",
      "source": [
        "###Exponentials and logarithms"
      ],
      "metadata": {
        "id": "WIK8oEexO3c9"
      }
    },
    {
      "cell_type": "markdown",
      "source": [
        "Euler's constant $e = 2.71828\\dots$ is defined one of several ways,\n",
        "\n",
        "$$\n",
        "e \\equiv \\lim_{n\\to\\infty}\\left(1+\\frac{1}{n}\\right)^n\n",
        "  \\equiv \\lim_{\\epsilon\\to 0}(1+\\epsilon)^{1/\\epsilon}\n",
        "  \\equiv \\sum_{n=0}^{\\infty}\\frac{1}{n!},\n",
        "$$\n",
        "\n",
        "and is denoted `E` in `SymPy`. Using `exp(x)` is equivalent to `E**x`.\n",
        "\n",
        "The functions `log` and `ln` both compute the logarithm base $e$:"
      ],
      "metadata": {
        "id": "5b-6KklUO3c_"
      }
    },
    {
      "cell_type": "code",
      "source": [
        "log(E**3)  # same as ln(E**3)"
      ],
      "outputs": [
        {
          "output_type": "execute_result",
          "data": {},
          "metadata": {},
          "execution_count": 33
        }
      ],
      "metadata": {
        "id": "KERrXgttO3dA",
        "outputId": "8694ae9a-43f4-478c-e5b2-bb5904edcd3a"
      },
      "execution_count": null
    },
    {
      "cell_type": "markdown",
      "source": [
        "By default, `SymPy` assumes the inputs to functions like `exp` and `log` are\n",
        "complex numbers, so it will not expand certain logarithmic expressions.\n",
        "However, indicating to `SymPy` that the inputs are positive real numbers\n",
        "will make the expansions work:"
      ],
      "metadata": {
        "id": "xUJXHAbaO3dB"
      }
    },
    {
      "cell_type": "code",
      "source": [
        "x, y = symbols('x y')\n",
        "log(x*y).expand()"
      ],
      "outputs": [
        {
          "output_type": "execute_result",
          "data": {},
          "metadata": {},
          "execution_count": 34
        }
      ],
      "metadata": {
        "id": "8jJuqhiiO3dK",
        "outputId": "a17f3470-509d-454f-ade5-c6fad0a29044"
      },
      "execution_count": null
    },
    {
      "cell_type": "code",
      "source": [
        "a, b = symbols('a b', positive=True)\n",
        "log(a*b).expand()"
      ],
      "outputs": [
        {
          "output_type": "execute_result",
          "data": {},
          "metadata": {},
          "execution_count": 35
        }
      ],
      "metadata": {
        "id": "w1Cbce-rO3dQ",
        "outputId": "49bfae95-7bf1-4d20-b68a-958eb8eed520"
      },
      "execution_count": null
    },
    {
      "cell_type": "markdown",
      "source": [
        "###Polynomials"
      ],
      "metadata": {
        "id": "ystXDtN2O3dR"
      }
    },
    {
      "cell_type": "markdown",
      "source": [
        "Let's define a polynomial $P$ with roots at $x = 1$, $x = 2$, and $x = 3$:"
      ],
      "metadata": {
        "id": "12cqwCSkO3dR"
      }
    },
    {
      "cell_type": "code",
      "source": [
        "P = (x-1)*(x-2)*(x-3)\n",
        "P"
      ],
      "outputs": [
        {
          "output_type": "execute_result",
          "data": {},
          "metadata": {},
          "execution_count": 36
        }
      ],
      "metadata": {
        "id": "kTlhBvzfO3dW",
        "outputId": "8788b0bc-4d1c-4927-be64-aa48b091931d"
      },
      "execution_count": null
    },
    {
      "cell_type": "markdown",
      "source": [
        "To see the expanded version of the polynomial, call its `expand` method:"
      ],
      "metadata": {
        "id": "I661QmNiO3dX"
      }
    },
    {
      "cell_type": "code",
      "source": [
        "P.expand()"
      ],
      "outputs": [
        {
          "output_type": "execute_result",
          "data": {},
          "metadata": {},
          "execution_count": 37
        }
      ],
      "metadata": {
        "id": "1sihGcBrO3dY",
        "outputId": "12622312-b0e2-4413-b98c-7f09c6b1ff93"
      },
      "execution_count": null
    },
    {
      "cell_type": "markdown",
      "source": [
        "When the polynomial is expressed in it's expanded form $P(x) =\n",
        "x^3 - 6x^2 + 11x - 6$, we can't immediately identify its roots. This is\n",
        "why the factored form $P(x) = (x - 1)(x - 2)(x - 3)$ is preferable. To\n",
        "factor a polynomial, call its `factor` method or simplify it:"
      ],
      "metadata": {
        "id": "ruUQJbHCO3dY"
      }
    },
    {
      "cell_type": "code",
      "source": [
        "P.factor()"
      ],
      "outputs": [
        {
          "output_type": "execute_result",
          "data": {},
          "metadata": {},
          "execution_count": 38
        }
      ],
      "metadata": {
        "id": "syWJ07z8O3df",
        "outputId": "13828ab2-506d-4c18-a476-17c1670faad3"
      },
      "execution_count": null
    },
    {
      "cell_type": "code",
      "source": [
        "P.simplify()"
      ],
      "outputs": [
        {
          "output_type": "execute_result",
          "data": {},
          "metadata": {},
          "execution_count": 39
        }
      ],
      "metadata": {
        "id": "WF2sweU8O3dg",
        "outputId": "42ec2233-c1a2-4c11-80ff-bcaa0a943870"
      },
      "execution_count": null
    },
    {
      "cell_type": "markdown",
      "source": [
        "Recall that the roots of the polynomial $P(x)$ are defined as the\n",
        "solutions to the equation $P(x) = 0$. We can use the `solve` function\n",
        "to find the roots of the polynomial:"
      ],
      "metadata": {
        "id": "0p4pGXFbO3dh"
      }
    },
    {
      "cell_type": "code",
      "source": [
        "roots = solve(P,x)\n",
        "roots"
      ],
      "outputs": [
        {
          "output_type": "execute_result",
          "data": {},
          "metadata": {},
          "execution_count": 40
        }
      ],
      "metadata": {
        "id": "A06Xr8ofO3dn",
        "outputId": "eb33b7f7-eb7d-4e17-d956-7f8203375860"
      },
      "execution_count": null
    },
    {
      "cell_type": "code",
      "source": [
        "# let's check if P equals (x-1)(x-2)(x-3)\n",
        "simplify( P - (x-roots[0])*(x-roots[1])*(x-roots[2]) )"
      ],
      "outputs": [
        {
          "output_type": "execute_result",
          "data": {},
          "metadata": {},
          "execution_count": 41
        }
      ],
      "metadata": {
        "id": "NpF6krtjO3do",
        "outputId": "b9c74758-0bb5-4867-eb97-329e6390cdb5"
      },
      "execution_count": null
    },
    {
      "cell_type": "markdown",
      "source": [
        "###Equality checking"
      ],
      "metadata": {
        "id": "rSw-pzLJO3dp"
      }
    },
    {
      "cell_type": "markdown",
      "source": [
        "In the last example, we used the `simplify` function to check whether\n",
        "two expressions were equal. This way of checking equality works\n",
        "because $P = Q$ if and only if $P - Q = 0$. This is the best way to\n",
        "check if two expressions are equal in `SymPy` because it attempts all\n",
        "possible simplifications when comparing the expressions. Below is\n",
        "a list of other ways to check whether two quantities are equal with\n",
        "example cases where they fail:"
      ],
      "metadata": {
        "id": "074sb5u5O3ds"
      }
    },
    {
      "cell_type": "code",
      "source": [
        "p = (x-5)*(x+5)\n",
        "q = x**2 - 25"
      ],
      "outputs": [],
      "metadata": {
        "id": "C6xnKu6aO3ds"
      },
      "execution_count": null
    },
    {
      "cell_type": "code",
      "source": [
        "p == q                      # fail"
      ],
      "outputs": [
        {
          "output_type": "execute_result",
          "data": {},
          "metadata": {},
          "execution_count": 43
        }
      ],
      "metadata": {
        "id": "Nveo6zGOO3dt",
        "outputId": "db55a961-524b-4b4b-a2e6-dbd22b069a88"
      },
      "execution_count": null
    },
    {
      "cell_type": "code",
      "source": [
        "p - q == 0                  # fail"
      ],
      "outputs": [
        {
          "output_type": "execute_result",
          "data": {},
          "metadata": {},
          "execution_count": 44
        }
      ],
      "metadata": {
        "id": "ye4UHq2qO3dt",
        "outputId": "6d4287b6-8be1-4bfd-8c12-9724462f4643"
      },
      "execution_count": null
    },
    {
      "cell_type": "code",
      "source": [
        "simplify(p - q) == 0"
      ],
      "outputs": [
        {
          "output_type": "execute_result",
          "data": {},
          "metadata": {},
          "execution_count": 45
        }
      ],
      "metadata": {
        "id": "d4rE_y2bO3dw",
        "outputId": "92c7594a-0f86-4813-e1c6-95e62cb6cf14"
      },
      "execution_count": null
    },
    {
      "cell_type": "code",
      "source": [
        "sin(x)**2 + cos(x)**2 == 1  # fail"
      ],
      "outputs": [
        {
          "output_type": "execute_result",
          "data": {},
          "metadata": {},
          "execution_count": 46
        }
      ],
      "metadata": {
        "id": "nLORb7rvO3dx",
        "outputId": "46162363-435f-46fe-d1a9-f5b7c4c4a767"
      },
      "execution_count": null
    },
    {
      "cell_type": "code",
      "source": [
        "simplify( sin(x)**2 + cos(x)**2 - 1) == 0"
      ],
      "outputs": [
        {
          "output_type": "execute_result",
          "data": {},
          "metadata": {},
          "execution_count": 47
        }
      ],
      "metadata": {
        "id": "HHEd5L2BO3dx",
        "outputId": "87110ceb-dfcb-4aea-b334-0abed1b60676"
      },
      "execution_count": null
    },
    {
      "cell_type": "markdown",
      "source": [
        "###Trigonometry"
      ],
      "metadata": {
        "id": "g-44YQiuO3dz"
      }
    },
    {
      "cell_type": "markdown",
      "source": [
        "The trigonometric functions `sin` and `cos` take inputs in radians:"
      ],
      "metadata": {
        "id": "OsW9AG_wO3dz"
      }
    },
    {
      "cell_type": "code",
      "source": [
        "sin(pi/6)"
      ],
      "outputs": [
        {
          "output_type": "execute_result",
          "data": {},
          "metadata": {},
          "execution_count": 48
        }
      ],
      "metadata": {
        "id": "HafYJdhuO3d0",
        "outputId": "9596bb70-cd44-4df2-d6be-acecb0717d91"
      },
      "execution_count": null
    },
    {
      "cell_type": "code",
      "source": [
        "cos(pi/6)"
      ],
      "outputs": [
        {
          "output_type": "execute_result",
          "data": {},
          "metadata": {},
          "execution_count": 49
        }
      ],
      "metadata": {
        "id": "p70ajVX3O3d0",
        "outputId": "55d124e5-135c-495f-86f3-b0108a5aeb3e"
      },
      "execution_count": null
    },
    {
      "cell_type": "markdown",
      "source": [
        "For angles in degrees, you need a conversion factor of $\\frac{\\pi}{180}$[rad/$^\\circ$]:"
      ],
      "metadata": {
        "id": "wa5Pq0-OO3d3"
      }
    },
    {
      "cell_type": "code",
      "source": [
        "sin(30*pi/180)  # 30 deg = pi/6 rads"
      ],
      "outputs": [
        {
          "output_type": "execute_result",
          "data": {},
          "metadata": {},
          "execution_count": 50
        }
      ],
      "metadata": {
        "id": "A4o9laPJO3d3",
        "outputId": "cda59e6e-096d-44b8-a311-1c5b1a80a6f1"
      },
      "execution_count": null
    },
    {
      "cell_type": "markdown",
      "source": [
        "The inverse trigonometric functions $\\sin^{-1}(x) \\equiv \\arcsin(x)$ and\n",
        "$\\cos^{-1}(x) \\equiv \\arccos(x)$ are used as follows:"
      ],
      "metadata": {
        "id": "uI6s0d_vO3d4"
      }
    },
    {
      "cell_type": "code",
      "source": [
        "asin(1/2)"
      ],
      "outputs": [
        {
          "output_type": "execute_result",
          "data": {},
          "metadata": {},
          "execution_count": 51
        }
      ],
      "metadata": {
        "id": "Pq4AP5BEO3d6",
        "outputId": "fa07520c-64a5-42c2-c135-0672be199fc3"
      },
      "execution_count": null
    },
    {
      "cell_type": "code",
      "source": [
        "acos(sqrt(3)/2)"
      ],
      "outputs": [
        {
          "output_type": "execute_result",
          "data": {},
          "metadata": {},
          "execution_count": 52
        }
      ],
      "metadata": {
        "id": "gttU2RfBO3d7",
        "outputId": "6bfdb7cb-d5b9-4fc6-83f8-e660fc25f97f"
      },
      "execution_count": null
    },
    {
      "cell_type": "markdown",
      "source": [
        "Recall that $\\tan(x) \\equiv \\frac{\\sin(x)}{\\cos(x)}$. The inverse function of $\\tan(x)$ is $\\tan^{-1}(x) \\equiv \\arctan(x) \\equiv$ `atan(x)`"
      ],
      "metadata": {
        "id": "DC1d7RETO3d8"
      }
    },
    {
      "cell_type": "code",
      "source": [
        "tan(pi/6)"
      ],
      "outputs": [
        {
          "output_type": "execute_result",
          "data": {},
          "metadata": {},
          "execution_count": 53
        }
      ],
      "metadata": {
        "id": "MhGBf505O3d8",
        "outputId": "5e483b16-d960-4e8c-c4fb-fb7e9b832aa6"
      },
      "execution_count": null
    },
    {
      "cell_type": "code",
      "source": [
        "atan( 1/sqrt(3) )"
      ],
      "outputs": [
        {
          "output_type": "execute_result",
          "data": {},
          "metadata": {},
          "execution_count": 54
        }
      ],
      "metadata": {
        "id": "b8qO7--TO3d_",
        "outputId": "3839ea85-42a5-4b1c-c0f4-6ac8ddc2c0c3"
      },
      "execution_count": null
    },
    {
      "cell_type": "markdown",
      "source": [
        "The function `acos` returns angles in the range $[0, \\pi]$, while `asin` and\n",
        "`atan` return angles in the range $[-\\frac{\\pi}{2},\\frac{\\pi}{2}]$.\n",
        "\n",
        "Here are some trigonometric identities that `SymPy` knows:"
      ],
      "metadata": {
        "id": "Sc_HJjX0O3d_"
      }
    },
    {
      "cell_type": "code",
      "source": [
        "sin(x) == cos(x - pi/2)"
      ],
      "outputs": [
        {
          "output_type": "execute_result",
          "data": {},
          "metadata": {},
          "execution_count": 55
        }
      ],
      "metadata": {
        "id": "vuPerQS2O3eB",
        "outputId": "271e1d54-eac1-4d2b-8d2e-fb2a8186a16d"
      },
      "execution_count": null
    },
    {
      "cell_type": "code",
      "source": [
        "simplify( sin(x)*cos(y)+cos(x)*sin(y) )"
      ],
      "outputs": [
        {
          "output_type": "execute_result",
          "data": {},
          "metadata": {},
          "execution_count": 56
        }
      ],
      "metadata": {
        "id": "OuNZxXxZO3eE",
        "outputId": "68a49143-5c19-485e-8a2b-fb7ae70eb846"
      },
      "execution_count": null
    },
    {
      "cell_type": "code",
      "source": [
        "e = 2*sin(x)**2 + 2*cos(x)**2\n",
        "trigsimp(e)"
      ],
      "outputs": [
        {
          "output_type": "execute_result",
          "data": {},
          "metadata": {},
          "execution_count": 57
        }
      ],
      "metadata": {
        "id": "wO8j7tQQO3eF",
        "outputId": "b73f2eeb-6bda-449b-969a-7d6a8c39f117"
      },
      "execution_count": null
    },
    {
      "cell_type": "code",
      "source": [
        "trigsimp(log(e))"
      ],
      "outputs": [
        {
          "output_type": "execute_result",
          "data": {},
          "metadata": {},
          "execution_count": 58
        }
      ],
      "metadata": {
        "id": "-XEy2d24O3eF",
        "outputId": "bfb780c3-742c-4ed5-cd23-141807681685"
      },
      "execution_count": null
    },
    {
      "cell_type": "code",
      "source": [
        "trigsimp(log(e), deep=True)"
      ],
      "outputs": [
        {
          "output_type": "execute_result",
          "data": {},
          "metadata": {},
          "execution_count": 59
        }
      ],
      "metadata": {
        "id": "hZCKt6ZiO3eI",
        "outputId": "b3c09614-fdea-4eec-936c-45d557722d83"
      },
      "execution_count": null
    },
    {
      "cell_type": "code",
      "source": [
        "simplify(sin(x)**4 - 2*cos(x)**2*sin(x)**2 + cos(x)**4)"
      ],
      "outputs": [
        {
          "output_type": "execute_result",
          "data": {},
          "metadata": {},
          "execution_count": 60
        }
      ],
      "metadata": {
        "id": "LFJMzP1lO3eJ",
        "outputId": "3186082f-0657-438e-b287-053466f2d7ac"
      },
      "execution_count": null
    },
    {
      "cell_type": "markdown",
      "source": [
        "The function `trigsimp` does essentially the same job as `simplify`.\n",
        "\n",
        "If instead of simplifying you want to expand a trig expression, you\n",
        "should use `expand_trig`, because the default `expand` won't touch trig\n",
        "functions:"
      ],
      "metadata": {
        "id": "X53T_iTqO3eJ"
      }
    },
    {
      "cell_type": "code",
      "source": [
        "expand(sin(2*x))       # = (sin(2*x)).expand()"
      ],
      "outputs": [
        {
          "output_type": "execute_result",
          "data": {},
          "metadata": {},
          "execution_count": 61
        }
      ],
      "metadata": {
        "id": "CGw-sl6SO3eK",
        "outputId": "987f0d9f-c182-45be-a589-eca904f9985e"
      },
      "execution_count": null
    },
    {
      "cell_type": "code",
      "source": [
        "expand_trig(sin(2*x))  # = (sin(2*x)).expand(trig=True)"
      ],
      "outputs": [
        {
          "output_type": "execute_result",
          "data": {},
          "metadata": {},
          "execution_count": 62
        }
      ],
      "metadata": {
        "id": "3ni8pHyKO3eM",
        "outputId": "b398e7e9-444f-4191-9d61-e6d764e9968a"
      },
      "execution_count": null
    },
    {
      "cell_type": "markdown",
      "source": [
        "###Hyperbolic trigonometric functions"
      ],
      "metadata": {
        "id": "eP7O85WfO3eM"
      }
    },
    {
      "cell_type": "markdown",
      "source": [
        "The hyperbolic sine and cosine in `SymPy` are denoted `sinh` and `cosh`\n",
        "respectively and `SymPy` is smart enough to recognize them when\n",
        "simplifying expressions:"
      ],
      "metadata": {
        "id": "8WPKsB_oO3eN"
      }
    },
    {
      "cell_type": "code",
      "source": [
        "simplify( (exp(x)+exp(-x))/2 )"
      ],
      "outputs": [
        {
          "output_type": "execute_result",
          "data": {},
          "metadata": {},
          "execution_count": 63
        }
      ],
      "metadata": {
        "id": "rJZ4AtpiO3eP",
        "outputId": "ef0090f7-010c-4ecb-949c-ee0bea72c655"
      },
      "execution_count": null
    },
    {
      "cell_type": "code",
      "source": [
        "simplify( (exp(x)-exp(-x))/2 )"
      ],
      "outputs": [
        {
          "output_type": "execute_result",
          "data": {},
          "metadata": {},
          "execution_count": 64
        }
      ],
      "metadata": {
        "id": "1AvdNt4mO3eQ",
        "outputId": "3d891b6b-a6fc-4919-c994-6e9078053017"
      },
      "execution_count": null
    },
    {
      "cell_type": "markdown",
      "source": [
        "Recall that $x = \\cosh(\\mu)$ and $y = \\sinh(\\mu)$ are defined as $x$ and $y$\n",
        "coordinates of a point on the the hyperbola with equation $x^2 - y^2 = 1$\n",
        "and therefore satisfy the identity $\\cosh^2 x - \\sinh^2 x = 1$:"
      ],
      "metadata": {
        "id": "HiG5kAFIO3eS"
      }
    },
    {
      "cell_type": "code",
      "source": [
        "simplify( cosh(x)**2 - sinh(x)**2 )"
      ],
      "outputs": [
        {
          "output_type": "execute_result",
          "data": {},
          "metadata": {},
          "execution_count": 65
        }
      ],
      "metadata": {
        "id": "9wQKeHyKO3eV",
        "outputId": "6d505f4c-f33e-4dad-9350-8eb0673af6f7"
      },
      "execution_count": null
    },
    {
      "cell_type": "markdown",
      "source": [
        "##Complex numbers"
      ],
      "metadata": {
        "id": "uyFW5QdTO3eW"
      }
    },
    {
      "cell_type": "markdown",
      "source": [
        "Ever since Newton, the word &ldquo;number&rdquo; has been used to refer to one\n",
        "of the following types of math objects: the naturals $\\mathbb{N}$, the integers\n",
        "$\\mathbb{Z}$, the rationals $\\mathbb{Q}$, and the real numbers $\\mathbb{R}$. Each set of numbers is\n",
        "associated with a different class of equations. The natural numbers\n",
        "$\\mathbb{N}$ appear as solutions of the equation $m + n = x$, where $m$ and $n$ are\n",
        "natural numbers (denoted $m, n \\in \\mathbb{N}$). The integers $\\mathbb{Z}$ are the solutions\n",
        "to equations of the form $x + m = n$, where $m, n \\in \\mathbb{N}$. The rational\n",
        "numbers $\\mathbb{Q}$ are necessary to solve for $x$ in $mx = n$, with $m, n \\in \\mathbb{Z}$.\n",
        "The solutions to $x^2 = 2$ are irrational (so $\\not\\in \\mathbb{Q}$) so we need an even\n",
        "larger set that contains *all* possible numbers: real set of numbers $\\mathbb{R}$.\n",
        "A pattern emerges where more complicated equations require the\n",
        "invention of new types of numbers.\n",
        "\n",
        "Consider the quadratic equation $x^2 = -1$. There are no real solutions\n",
        "to this equation, but we can define an imaginary number $i = \\sqrt{-1}$\n",
        "(denoted `I` in `SymPy`) that satisfies this equation:"
      ],
      "metadata": {
        "id": "nLo-zA_6O3eX"
      }
    },
    {
      "cell_type": "code",
      "source": [
        "I*I"
      ],
      "outputs": [
        {
          "output_type": "execute_result",
          "data": {},
          "metadata": {},
          "execution_count": 66
        }
      ],
      "metadata": {
        "id": "JsAYUWv-O3eX",
        "outputId": "8b92aea9-eecd-4f26-cc77-7b9c80a02cd3"
      },
      "execution_count": null
    },
    {
      "cell_type": "code",
      "source": [
        "solve( x**2 + 1 , x)"
      ],
      "outputs": [
        {
          "output_type": "execute_result",
          "data": {},
          "metadata": {},
          "execution_count": 67
        }
      ],
      "metadata": {
        "id": "eOhMZRpdO3eZ",
        "outputId": "2da75a01-5454-49c3-e03d-106536be7f9d"
      },
      "execution_count": null
    },
    {
      "cell_type": "markdown",
      "source": [
        "The solutions are $x = i$ and $x = -i$, and indeed we can verify that\n",
        "$i^2 + 1 = 0$ and $(-i)^2 + 1 = 0$ since $i^2 = -1$.\n",
        "\n",
        "The complex numbers $\\mathbb{C}$ are defined as $\\{ a+bi \\,|\\, a,b \\in \\mathbb{R} \\}$. Complex numbers\n",
        "contain a real part and an imaginary part:"
      ],
      "metadata": {
        "id": "vERbMfmtO3ea"
      }
    },
    {
      "cell_type": "code",
      "source": [
        "z = 4 + 3*I\n",
        "z"
      ],
      "outputs": [
        {
          "output_type": "execute_result",
          "data": {},
          "metadata": {},
          "execution_count": 68
        }
      ],
      "metadata": {
        "id": "6LdyqYNQO3ea",
        "outputId": "6d674252-6a78-445c-c329-8a3cee460620"
      },
      "execution_count": null
    },
    {
      "cell_type": "code",
      "source": [
        "re(z)"
      ],
      "outputs": [
        {
          "output_type": "execute_result",
          "data": {},
          "metadata": {},
          "execution_count": 69
        }
      ],
      "metadata": {
        "id": "BjbXhcHjO3ed",
        "outputId": "df0b69aa-b77f-42eb-b388-aea241be724b"
      },
      "execution_count": null
    },
    {
      "cell_type": "code",
      "source": [
        "im(z)"
      ],
      "outputs": [
        {
          "output_type": "execute_result",
          "data": {},
          "metadata": {},
          "execution_count": 70
        }
      ],
      "metadata": {
        "id": "cOaqjCrSO3ed",
        "outputId": "8d3cf34b-8657-4cc9-bece-7904f8506783"
      },
      "execution_count": null
    },
    {
      "cell_type": "markdown",
      "source": [
        "The *polar* representation of a complex number is $z\\!\\equiv\\!|z|\\angle\\theta\\!\\equiv \\!|z|e^{i\\theta}$.\n",
        "For a complex number $z=a+bi$,\n",
        "the quantity $|z|=\\sqrt{a^2+b^2}$ is known as the absolute value of $z$,\n",
        "and $\\theta$ is its *phase* or its *argument*:"
      ],
      "metadata": {
        "id": "ylMDY9osO3ee"
      }
    },
    {
      "cell_type": "code",
      "source": [
        "Abs(z)"
      ],
      "outputs": [
        {
          "output_type": "execute_result",
          "data": {},
          "metadata": {},
          "execution_count": 71
        }
      ],
      "metadata": {
        "id": "GRlu7H9uO3ef",
        "outputId": "2d581d74-9743-4256-b1ed-54d0aa720cc3"
      },
      "execution_count": null
    },
    {
      "cell_type": "code",
      "source": [
        "arg(z)"
      ],
      "outputs": [
        {
          "output_type": "execute_result",
          "data": {},
          "metadata": {},
          "execution_count": 72
        }
      ],
      "metadata": {
        "id": "--B6I17BO3ei",
        "outputId": "45a041fa-724f-4e80-e0c6-9a9dc55603ac"
      },
      "execution_count": null
    },
    {
      "cell_type": "markdown",
      "source": [
        "The complex conjugate of $z = a + bi$ is the number $\\bar{z} = a - bi$:"
      ],
      "metadata": {
        "id": "obs0S9cFO3ej"
      }
    },
    {
      "cell_type": "code",
      "source": [
        "conjugate( z )"
      ],
      "outputs": [
        {
          "output_type": "execute_result",
          "data": {},
          "metadata": {},
          "execution_count": 73
        }
      ],
      "metadata": {
        "id": "_YgXfZdpO3ek",
        "outputId": "ecad1633-0f28-4cc0-d9b2-010a34c333b7"
      },
      "execution_count": null
    },
    {
      "cell_type": "markdown",
      "source": [
        "Complex conjugation is important for computing the absolute value\n",
        "of $z$ $\\left(|z|\\equiv\\sqrt{z\\bar{z}}\\right)$ and for division by $z$ $\\left(\\frac{1}{z}\\equiv\\frac{\\bar{z}}{|z|^2}\\right)$."
      ],
      "metadata": {
        "id": "fHKcpsfMO3en"
      }
    },
    {
      "cell_type": "markdown",
      "source": [
        "###Euler's formula"
      ],
      "metadata": {
        "id": "6_jygcV_O3en"
      }
    },
    {
      "cell_type": "markdown",
      "source": [
        "[Euler's formula](https://en.wikipedia.org/wiki/Euler's_formula) shows an important relation between the exponential\n",
        "function $e^x$ and the trigonometric functions $sin(x)$ and $cos(x)$:\n",
        "\n",
        "$$e^{ix} = \\cos x + i \\sin x.$$\n",
        "\n",
        "To obtain this result in `SymPy`, you must specify that the number $x$ is\n",
        "real and also tell `expand` that you're interested in complex expansions:"
      ],
      "metadata": {
        "id": "MLucH8DIO3ep"
      }
    },
    {
      "cell_type": "code",
      "source": [
        "x = symbols('x', real=True)\n",
        "exp(I*x).expand(complex=True)"
      ],
      "outputs": [
        {
          "output_type": "execute_result",
          "data": {},
          "metadata": {},
          "execution_count": 74
        }
      ],
      "metadata": {
        "id": "sPSygbAgO3ep",
        "outputId": "2742a587-721c-4d08-ae15-16e1729944ff"
      },
      "execution_count": null
    },
    {
      "cell_type": "code",
      "source": [
        "re( exp(I*x) )"
      ],
      "outputs": [
        {
          "output_type": "execute_result",
          "data": {},
          "metadata": {},
          "execution_count": 75
        }
      ],
      "metadata": {
        "id": "xda5muGNO3et",
        "outputId": "213bce9d-5ca1-40ad-a954-d92e4ef8c23b"
      },
      "execution_count": null
    },
    {
      "cell_type": "code",
      "source": [
        "im( exp(I*x) )"
      ],
      "outputs": [
        {
          "output_type": "execute_result",
          "data": {},
          "metadata": {},
          "execution_count": 76
        }
      ],
      "metadata": {
        "id": "dRgjqH00O3et",
        "outputId": "1cc43181-e196-4567-a308-b7608736ae3b"
      },
      "execution_count": null
    },
    {
      "cell_type": "markdown",
      "source": [
        "Basically, $\\cos(x)$ is the real part of $e^{ix}$, and $\\sin(x)$ is the imaginary\n",
        "part of $e^{ix}$. Whaaat? I know it's weird, but weird things are bound\n",
        "to happen when you input imaginary numbers to functions.\n",
        "\n",
        "Euler's formula is often used to rewrite the functions `sin` and `cos` in\n",
        "terms of complex exponentials. For example,"
      ],
      "metadata": {
        "id": "zqerboiKO3eu"
      }
    },
    {
      "cell_type": "code",
      "source": [
        "(cos(x)).rewrite(exp)"
      ],
      "outputs": [
        {
          "output_type": "execute_result",
          "data": {},
          "metadata": {},
          "execution_count": 77
        }
      ],
      "metadata": {
        "id": "DbudzZPwO3ex",
        "outputId": "37922e60-122c-4848-fbb2-034543a5815b"
      },
      "execution_count": null
    },
    {
      "cell_type": "markdown",
      "source": [
        "Compare this expression with the definition of hyperbolic cosine."
      ],
      "metadata": {
        "id": "SqDUiAk0O3ey"
      }
    },
    {
      "cell_type": "markdown",
      "source": [
        "##Calculus"
      ],
      "metadata": {
        "id": "KxXc9WsxO3ez"
      }
    },
    {
      "cell_type": "markdown",
      "source": [
        "Calculus is the study of the properties of functions. The operations of\n",
        "calculus are used to describe the limit behaviour of functions, calculate\n",
        "their rates of change, and calculate the areas under their graphs. In\n",
        "this section we'll learn about the `SymPy` functions for calculating\n",
        "limits, derivatives, integrals, and summations."
      ],
      "metadata": {
        "id": "6N8iiz3CO3ez"
      }
    },
    {
      "cell_type": "markdown",
      "source": [
        "###Infinity"
      ],
      "metadata": {
        "id": "EoyY8peLO3e3"
      }
    },
    {
      "cell_type": "markdown",
      "source": [
        "The infinity symbol is denoted `oo` (two lowercase `o`s) in `SymPy`. Infinity\n",
        "is not a number but a process: the process of counting forever. Thus,\n",
        "$\\infty + 1 = \\infty$, $\\infty$ is greater than any finite number, and $1/\\infty$ is an\n",
        "infinitely small number. `Sympy` knows how to correctly treat infinity\n",
        "in expressions:"
      ],
      "metadata": {
        "id": "HnpuyTllO3e5"
      }
    },
    {
      "cell_type": "code",
      "source": [
        "oo+1"
      ],
      "outputs": [
        {
          "output_type": "execute_result",
          "data": {},
          "metadata": {},
          "execution_count": 78
        }
      ],
      "metadata": {
        "id": "o6KJKOM1O3e7",
        "outputId": "bbe499cc-fe5f-4be4-b8c5-4ed4f8612df2"
      },
      "execution_count": null
    },
    {
      "cell_type": "code",
      "source": [
        "5000 < oo"
      ],
      "outputs": [
        {
          "output_type": "execute_result",
          "data": {},
          "metadata": {},
          "execution_count": 79
        }
      ],
      "metadata": {
        "id": "mNFqcgGuO3fB",
        "outputId": "098c5bbe-6440-4d9a-d415-3f58699fedfb"
      },
      "execution_count": null
    },
    {
      "cell_type": "code",
      "source": [
        "1/oo"
      ],
      "outputs": [
        {
          "output_type": "execute_result",
          "data": {},
          "metadata": {},
          "execution_count": 80
        }
      ],
      "metadata": {
        "id": "lJ8tvxc_O3fB",
        "outputId": "72791a13-fc62-4fba-bf94-e0e45a3f491a"
      },
      "execution_count": null
    },
    {
      "cell_type": "markdown",
      "source": [
        "###Limits"
      ],
      "metadata": {
        "id": "Fu36-e8KO3fD"
      }
    },
    {
      "cell_type": "markdown",
      "source": [
        "We use limits to describe, with mathematical precision, infinitely large\n",
        "quantities, infinitely small quantities, and procedures with infinitely\n",
        "many steps.\n",
        "\n",
        "The number $e$ is defined as the limit $e \\equiv \\lim_{n\\to\\infty}\\left(1+\\frac{1}{n}\\right)^n$:"
      ],
      "metadata": {
        "id": "hG3BKzOFO3fD"
      }
    },
    {
      "cell_type": "code",
      "source": [
        "limit( (1+1/n)**n, n, oo)"
      ],
      "outputs": [
        {
          "output_type": "execute_result",
          "data": {},
          "metadata": {},
          "execution_count": 81
        }
      ],
      "metadata": {
        "id": "D7MxK5JSO3fI",
        "outputId": "b7e56763-b5be-4dd9-daa8-a6398ebbf704"
      },
      "execution_count": null
    },
    {
      "cell_type": "markdown",
      "source": [
        "This limit expression describes the annual growth rate of a loan with\n",
        "a nominal interest rate of 100% and infinitely frequent compounding.\n",
        "Borrow \\$1000 in such a scheme, and you'll owe $2718.28 after one year.\n",
        "\n",
        "Limits are also useful to describe the behaviour of functions. Consider\n",
        "the function $f(x) = \\frac{1}{x}$. The `limit` command shows us what happens\n",
        "to $f(x)$ near $x = 0$ and as $x$ goes to infinity:"
      ],
      "metadata": {
        "id": "0wqbt-dbO3fJ"
      }
    },
    {
      "cell_type": "code",
      "source": [
        "limit( 1/x, x, 0, dir=\"+\")"
      ],
      "outputs": [
        {
          "output_type": "execute_result",
          "data": {},
          "metadata": {},
          "execution_count": 82
        }
      ],
      "metadata": {
        "id": "9pGuBP1aO3fJ",
        "outputId": "942257dc-c1ab-4b84-b9ad-568d80a9a0c3"
      },
      "execution_count": null
    },
    {
      "cell_type": "code",
      "source": [
        "limit( 1/x, x, 0, dir=\"-\")"
      ],
      "outputs": [
        {
          "output_type": "execute_result",
          "data": {},
          "metadata": {},
          "execution_count": 83
        }
      ],
      "metadata": {
        "id": "J6C2WUBjO3fL",
        "outputId": "dbda311e-cd64-48e1-9a95-faa08761d80b"
      },
      "execution_count": null
    },
    {
      "cell_type": "code",
      "source": [
        "limit( 1/x, x, oo)"
      ],
      "outputs": [
        {
          "output_type": "execute_result",
          "data": {},
          "metadata": {},
          "execution_count": 84
        }
      ],
      "metadata": {
        "id": "bVDNk--HO3fM",
        "outputId": "b43734f3-6d10-4563-c3fa-9bff68069d93"
      },
      "execution_count": null
    },
    {
      "cell_type": "markdown",
      "source": [
        "As $x$ becomes larger and larger, the fraction $\\frac{1}{x}$ becomes smaller\n",
        "and smaller. In the limit where $x$ goes to infinity, $\\frac{1}{x}$ approaches\n",
        "zero: $\\lim_{x\\to\\infty}\\frac{1}{x} = 0$. On the other hand, when $x$ takes on smaller\n",
        "and smaller positive values, the expression $\\frac{1}{x}$ becomes infinite:\n",
        "$\\lim_{x\\to0^+}\\frac{1}{x} = \\infty$. When $x$ approaches 0 from the left, we have\n",
        "$\\lim_{x\\to0^-}\\frac{1}{x}=-\\infty$. If these calculations are not clear to you, study\n",
        "the graph of $f(x) = \\frac{1}{x}$.\n",
        "\n",
        "Here are some other examples of limits:"
      ],
      "metadata": {
        "id": "UMq-mv_hO3fM"
      }
    },
    {
      "cell_type": "code",
      "source": [
        "limit(sin(x)/x, x, 0)"
      ],
      "outputs": [
        {
          "output_type": "execute_result",
          "data": {},
          "metadata": {},
          "execution_count": 85
        }
      ],
      "metadata": {
        "id": "zzBJ9t4ZO3fN",
        "outputId": "9c2809a9-056d-4fe4-e2ee-1da0310dccbb"
      },
      "execution_count": null
    },
    {
      "cell_type": "code",
      "source": [
        "limit(sin(x)**2/x, x, 0)"
      ],
      "outputs": [
        {
          "output_type": "execute_result",
          "data": {},
          "metadata": {},
          "execution_count": 86
        }
      ],
      "metadata": {
        "id": "teKm2GD2O3fQ",
        "outputId": "4fb7354a-2e99-439e-915b-89fd73a26739"
      },
      "execution_count": null
    },
    {
      "cell_type": "code",
      "source": [
        "limit(exp(x)/x**100,x,oo)  # which is bigger e^x or x^100 ?\n",
        "                           # exp f >> all poly f for big x"
      ],
      "outputs": [
        {
          "output_type": "execute_result",
          "data": {},
          "metadata": {},
          "execution_count": 87
        }
      ],
      "metadata": {
        "id": "Ebmbuio-O3fR",
        "outputId": "fac3f0de-55f8-4923-9f79-d6fd5ab160b8"
      },
      "execution_count": null
    },
    {
      "cell_type": "markdown",
      "source": [
        "Limits are used to define the derivative and the integral operations."
      ],
      "metadata": {
        "id": "DCB0yfVWO3fS"
      }
    },
    {
      "cell_type": "markdown",
      "source": [
        "###Derivatives"
      ],
      "metadata": {
        "id": "p9o3XDvjO3fW"
      }
    },
    {
      "cell_type": "markdown",
      "source": [
        "The derivative function, denoted $f'(x)$, $\\frac{d}{dx}f(x)$, $\\frac{df}{dx}$, or $\\frac{dy}{dx}$,\n",
        "describes the *rate of change* of the function $f(x)$.\n",
        "The `SymPy` function `diff` computes the derivative of any expression:"
      ],
      "metadata": {
        "id": "YPI-7w8sO3fW"
      }
    },
    {
      "cell_type": "code",
      "source": [
        "diff(x**3, x)"
      ],
      "outputs": [
        {
          "output_type": "execute_result",
          "data": {
            "text/plain": [
              "   2\n",
              "3⋅x "
            ],
            "text/latex": "$\\displaystyle 3 x^{2}$"
          },
          "metadata": {},
          "execution_count": 40
        }
      ],
      "metadata": {
        "id": "5DypotkDO3fX",
        "outputId": "4141d054-4d74-437d-e0e5-4d21e470173c",
        "colab": {
          "base_uri": "https://localhost:8080/",
          "height": 38
        }
      },
      "execution_count": 40
    },
    {
      "cell_type": "markdown",
      "source": [
        "The differentiation operation knows about the product rule $[f(x)g(x)]^\\prime=f^\\prime(x)g(x)+f(x)g^\\prime(x)$,\n",
        "the chain rule $f(g(x))' = f'(g(x))g'(x)$,\n",
        "and the quotient rule $\\left[\\frac{f(x)}{g(x)}\\right]^\\prime = \\frac{f'(x)g(x) - f(x)g'(x)}{g(x)^2}$:"
      ],
      "metadata": {
        "id": "eLmyHm2IO3fb"
      }
    },
    {
      "cell_type": "code",
      "source": [
        "diff( x**2*sin(x), x )"
      ],
      "outputs": [
        {
          "output_type": "execute_result",
          "data": {
            "text/plain": [
              " 2                    \n",
              "x ⋅cos(x) + 2⋅x⋅sin(x)"
            ],
            "text/latex": "$\\displaystyle x^{2} \\cos{\\left(x \\right)} + 2 x \\sin{\\left(x \\right)}$"
          },
          "metadata": {},
          "execution_count": 41
        }
      ],
      "metadata": {
        "id": "XCtqCYJZO3fd",
        "outputId": "6d2cba42-f4d5-4366-ee51-e999b953d94c",
        "colab": {
          "base_uri": "https://localhost:8080/",
          "height": 38
        }
      },
      "execution_count": 41
    },
    {
      "cell_type": "code",
      "source": [
        "diff( sin(x**2), x )"
      ],
      "outputs": [
        {
          "output_type": "execute_result",
          "data": {
            "text/plain": [
              "       ⎛ 2⎞\n",
              "2⋅x⋅cos⎝x ⎠"
            ],
            "text/latex": "$\\displaystyle 2 x \\cos{\\left(x^{2} \\right)}$"
          },
          "metadata": {},
          "execution_count": 42
        }
      ],
      "metadata": {
        "id": "iunbEwiQO3fe",
        "outputId": "0f594f96-92d0-4db9-e727-0fcdd75c779b",
        "colab": {
          "base_uri": "https://localhost:8080/",
          "height": 38
        }
      },
      "execution_count": 42
    },
    {
      "cell_type": "code",
      "source": [
        "diff( x**2/sin(x), x )"
      ],
      "outputs": [
        {
          "output_type": "execute_result",
          "data": {
            "text/plain": [
              "   2                \n",
              "  x ⋅cos(x)    2⋅x  \n",
              "- ───────── + ──────\n",
              "      2       sin(x)\n",
              "   sin (x)          "
            ],
            "text/latex": "$\\displaystyle - \\frac{x^{2} \\cos{\\left(x \\right)}}{\\sin^{2}{\\left(x \\right)}} + \\frac{2 x}{\\sin{\\left(x \\right)}}$"
          },
          "metadata": {},
          "execution_count": 43
        }
      ],
      "metadata": {
        "id": "ysZLm64qO3fe",
        "outputId": "c5953ba9-0bca-4bca-e8b2-2f22f4dc8cb1",
        "colab": {
          "base_uri": "https://localhost:8080/",
          "height": 59
        }
      },
      "execution_count": 43
    },
    {
      "cell_type": "code",
      "source": [
        "a = diff((x**2 +3*x)/(2*x**2-3), x)\n",
        "simplify(a)"
      ],
      "metadata": {
        "id": "VxxqgBsXr5sy",
        "outputId": "35222719-1ff8-4531-a56d-77ef784de7fb",
        "colab": {
          "base_uri": "https://localhost:8080/",
          "height": 57
        }
      },
      "execution_count": 60,
      "outputs": [
        {
          "output_type": "execute_result",
          "data": {
            "text/plain": [
              "  ⎛     2          ⎞\n",
              "3⋅⎝- 2⋅x  - 2⋅x - 3⎠\n",
              "────────────────────\n",
              "     4       2      \n",
              "  4⋅x  - 12⋅x  + 9  "
            ],
            "text/latex": "$\\displaystyle \\frac{3 \\left(- 2 x^{2} - 2 x - 3\\right)}{4 x^{4} - 12 x^{2} + 9}$"
          },
          "metadata": {},
          "execution_count": 60
        }
      ]
    },
    {
      "cell_type": "code",
      "source": [
        "diff(x**2+4*x-3)"
      ],
      "metadata": {
        "id": "f0syNZ9JufP9",
        "outputId": "9c3cd339-8f28-4b80-a920-0db0d6e2a5be",
        "colab": {
          "base_uri": "https://localhost:8080/",
          "height": 38
        }
      },
      "execution_count": 61,
      "outputs": [
        {
          "output_type": "execute_result",
          "data": {
            "text/plain": [
              "2⋅x + 4"
            ],
            "text/latex": "$\\displaystyle 2 x + 4$"
          },
          "metadata": {},
          "execution_count": 61
        }
      ]
    },
    {
      "cell_type": "markdown",
      "source": [
        "The second derivative of a function `f` is `diff(f,x,2)`:"
      ],
      "metadata": {
        "id": "YI_okY0vO3fk"
      }
    },
    {
      "cell_type": "code",
      "source": [
        "diff(x**3, x, 2)   # same as diff(diff(x**3, x), x)"
      ],
      "outputs": [
        {
          "output_type": "execute_result",
          "data": {},
          "metadata": {},
          "execution_count": 92
        }
      ],
      "metadata": {
        "id": "9sQb_lXvO3fs",
        "outputId": "9bdd24de-a617-4e7e-b3c9-dd8011b1f897"
      },
      "execution_count": null
    },
    {
      "cell_type": "markdown",
      "source": [
        "The exponential function $f(x)=e^x$ is special because it is equal to its derivative:"
      ],
      "metadata": {
        "id": "RVZTKN8RO3ft"
      }
    },
    {
      "cell_type": "code",
      "source": [
        "diff( exp(x), x )  # same as diff( E**x, x  )"
      ],
      "outputs": [
        {
          "output_type": "execute_result",
          "data": {},
          "metadata": {},
          "execution_count": 93
        }
      ],
      "metadata": {
        "id": "7z8mzxWvO3fz",
        "outputId": "fdde9fa2-3b40-46cf-8201-192ed9a67e7f"
      },
      "execution_count": null
    },
    {
      "cell_type": "markdown",
      "source": [
        "A differential equation is an equation that relates some unknown function $f(x)$ to its derivative.\n",
        "An example of a differential equation is $f'(x)=f(x)$.\n",
        "What is the function $f(x)$ which is equal to its derivative?\n",
        "You can either try to guess what $f(x)$ is or use the `dsolve` function:"
      ],
      "metadata": {
        "id": "UivFDP17O3f0"
      }
    },
    {
      "cell_type": "code",
      "source": [
        "x = symbols('x')\n",
        "f = symbols('f', cls=Function)  # can now use f(x)\n",
        "dsolve( f(x) - diff(f(x),x), f(x) )"
      ],
      "outputs": [
        {
          "output_type": "execute_result",
          "data": {},
          "metadata": {},
          "execution_count": 94
        }
      ],
      "metadata": {
        "id": "xOTzvhL0O3f0",
        "outputId": "4071fcee-627f-4326-93b1-6fa9c3595747"
      },
      "execution_count": null
    },
    {
      "cell_type": "markdown",
      "source": [
        "We'll discuss `dsolve` again in the section on mechanics."
      ],
      "metadata": {
        "id": "J4h3rOJoO3f1"
      }
    },
    {
      "cell_type": "markdown",
      "source": [
        "###Tangent lines"
      ],
      "metadata": {
        "id": "HxHAjXBjO3f7"
      }
    },
    {
      "cell_type": "markdown",
      "source": [
        "The *tangent line* to the function $f(x)$ at $x=x_0$ is\n",
        "the line that passes through the point $(x_0, f(x_0))$ and has\n",
        "the same slope as the function at that point.\n",
        "The tangent line to the function $f(x)$ at the point $x=x_0$ is described by the equation\n",
        "\n",
        "$$\n",
        "   T_1(x) =  f(x_0) \\ + \\  f'(x_0)(x-x_0).\n",
        "$$\n",
        "\n",
        "What is the equation of the tangent line to $f(x)=\\frac{1}{2}x^2$ at $x_0=1$?"
      ],
      "metadata": {
        "id": "R6pL6ATqO3f7"
      }
    },
    {
      "cell_type": "code",
      "source": [
        "f = S('1/2')*x**2\n",
        "f"
      ],
      "outputs": [
        {
          "output_type": "execute_result",
          "data": {},
          "metadata": {},
          "execution_count": 95
        }
      ],
      "metadata": {
        "id": "kOWwt89XO3f8",
        "outputId": "e2a147d2-a2b4-4c38-c5ab-dc26d23c0213"
      },
      "execution_count": null
    },
    {
      "cell_type": "code",
      "source": [
        "df = diff(f,x)\n",
        "df"
      ],
      "outputs": [
        {
          "output_type": "execute_result",
          "data": {},
          "metadata": {},
          "execution_count": 96
        }
      ],
      "metadata": {
        "id": "6prR5XupO3gD",
        "outputId": "55ac1198-a126-463e-c0a7-f011c64f5191"
      },
      "execution_count": null
    },
    {
      "cell_type": "code",
      "source": [
        "T_1 = f.subs({x:1}) + df.subs({x:1})*(x - 1)\n",
        "T_1"
      ],
      "outputs": [
        {
          "output_type": "execute_result",
          "data": {},
          "metadata": {},
          "execution_count": 97
        }
      ],
      "metadata": {
        "id": "9amoG2jcO3gE",
        "outputId": "0cb46987-f227-4118-c61a-67a6b4f71385"
      },
      "execution_count": null
    },
    {
      "cell_type": "markdown",
      "source": [
        "The tangent line $T_1(x)$ has the same value and slope as the function $f(x)$ at $x=1$:"
      ],
      "metadata": {
        "id": "ngI5OpnLO3gE"
      }
    },
    {
      "cell_type": "code",
      "source": [
        "T_1.subs({x:1}) == f.subs({x:1})"
      ],
      "outputs": [
        {
          "output_type": "execute_result",
          "data": {},
          "metadata": {},
          "execution_count": 98
        }
      ],
      "metadata": {
        "id": "G0oLitIfO3gF",
        "outputId": "eb22a014-53a9-402b-c3df-69d80510de12"
      },
      "execution_count": null
    },
    {
      "cell_type": "code",
      "source": [
        "diff(T_1,x).subs({x:1}) == diff(f,x).subs({x:1})"
      ],
      "outputs": [
        {
          "output_type": "execute_result",
          "data": {},
          "metadata": {},
          "execution_count": 99
        }
      ],
      "metadata": {
        "id": "6AptxW2sO3gL",
        "outputId": "9be58463-c162-418e-b7f7-935fd03652dc"
      },
      "execution_count": null
    },
    {
      "cell_type": "markdown",
      "source": [
        "###Optimization"
      ],
      "metadata": {
        "id": "Zv-9CSxNO3gL"
      }
    },
    {
      "cell_type": "markdown",
      "source": [
        "Optimization is about choosing an input for a function $f(x)$ that results in the best value for $f(x)$.\n",
        "The best value usually means the *maximum* value\n",
        "(if the function represents something desirable like profits)\n",
        "or the *minimum* value\n",
        "(if the function represents something undesirable like costs).\n",
        "\n",
        "The derivative $f'(x)$ encodes the information about the *slope* of $f(x)$.\n",
        "Positive slope $f'(x)>0$ means $f(x)$ is increasing,\n",
        "negative slope $f'(x)<0$ means $f(x)$ is decreasing,\n",
        "and zero slope $f'(x)=0$ means the graph of the function is horizontal.\n",
        "The *critical points* of a function $f(x)$ are the solutions to the equation $f'(x)=0$.\n",
        "Each critical point is a candidate to be either a maximum or a minimum of the function.\n",
        "\n",
        "The second derivative $f^{\\prime\\prime}(x)$ encodes the information about the *curvature* of $f(x)$.\n",
        "Positive curvature means the function looks like $x^2$,\n",
        "negative curvature means the function looks like $-x^2$.\n",
        "\n",
        "Let's find the critical points of the function $f(x)=x^3-2x^2+x$\n",
        "and use the information from its second derivative\n",
        "to find the maximum of the function\n",
        "on the interval $x \\in [0,1]$."
      ],
      "metadata": {
        "id": "FpHD2G1CO3gM"
      }
    },
    {
      "cell_type": "code",
      "source": [
        "x = Symbol('x')\n",
        "f = x**3-2*x**2+x\n",
        "diff(f, x)"
      ],
      "outputs": [
        {
          "output_type": "execute_result",
          "data": {},
          "metadata": {},
          "execution_count": 100
        }
      ],
      "metadata": {
        "id": "tvnt_6ENO3gS",
        "outputId": "f8618299-e792-4e2a-99ea-1a6bdfbd9397"
      },
      "execution_count": null
    },
    {
      "cell_type": "code",
      "source": [
        "sols = solve( diff(f,x),  x)\n",
        "sols"
      ],
      "outputs": [
        {
          "output_type": "execute_result",
          "data": {},
          "metadata": {},
          "execution_count": 101
        }
      ],
      "metadata": {
        "id": "hzLmkj26O3gU",
        "outputId": "ce90800a-4786-4be3-a9fe-c7e0e803cc46"
      },
      "execution_count": null
    },
    {
      "cell_type": "code",
      "source": [
        "diff(diff(f,x), x).subs( {x:sols[0]} )"
      ],
      "outputs": [
        {
          "output_type": "execute_result",
          "data": {},
          "metadata": {},
          "execution_count": 102
        }
      ],
      "metadata": {
        "id": "WvDH50nlO3gV",
        "outputId": "32a15b9f-d239-4ef8-9e25-401a8c222d18"
      },
      "execution_count": null
    },
    {
      "cell_type": "code",
      "source": [
        "diff(diff(f,x), x).subs( {x:sols[1]} )"
      ],
      "outputs": [
        {
          "output_type": "execute_result",
          "data": {},
          "metadata": {},
          "execution_count": 103
        }
      ],
      "metadata": {
        "id": "NEovSHlYO3gc",
        "outputId": "ffe7ec94-7fb0-4a7a-838f-63d6227c189c"
      },
      "execution_count": null
    },
    {
      "cell_type": "markdown",
      "source": [
        "[It will help to look at the graph of this function.](https://www.google.com/#safe=off&q=plot+x**3-2*x**2%2Bx)\n",
        "The point $x=\\frac{1}{3}$ is a local maximum because it is a critical point of $f(x)$\n",
        "where the curvature is negative, meaning $f(x)$ looks like the peak of a mountain at $x=\\frac{1}{3}$.\n",
        "The maximum value of $f(x)$ on the interval $x\\in [0,1]$ is $f\\!\\left(\\frac{1}{3}\\right)=\\frac{4}{27}$.\n",
        "The point $x=1$ is a local minimum because it is a critical point\n",
        "with positive curvature, meaning $f(x)$ looks like the bottom of a valley at $x=1$."
      ],
      "metadata": {
        "id": "Oud3kk0iO3gd"
      }
    },
    {
      "cell_type": "markdown",
      "source": [
        "###Integrals"
      ],
      "metadata": {
        "id": "hv86W0oDO3gd"
      }
    },
    {
      "cell_type": "markdown",
      "source": [
        "The *integral* of $f(x)$ corresponds to the computation of the area under the graph of $f(x)$.\n",
        "The area under $f(x)$ between the points $x=a$ and $x=b$ is denoted as follows:\n",
        "\n",
        "$$\n",
        " A(a,b) = \\int_a^b f(x) \\: dx.\n",
        "$$\n",
        "\n",
        "The *integral function* $F$ corresponds to the area calculation as a function\n",
        "of the upper limit of integration:\n",
        "\n",
        "$$\n",
        "  F(c) \\equiv \\int_0^c \\! f(x)\\:dx\\,.\n",
        "$$\n",
        "\n",
        "The area under $f(x)$ between $x=a$ and $x=b$ is obtained by\n",
        "calculating the *change* in the integral function:\n",
        "\n",
        "$$\n",
        "   A(a,b) = \\int_a^b \\! f(x)\\:dx  =  F(b)-F(a).\n",
        "$$\n",
        "\n",
        "In `SymPy` we use `integrate(f, x)` to obtain the integral function $F(x)$ of any function $f(x)$:\n",
        "$F(x) = \\int_0^x f(u)\\,du$."
      ],
      "metadata": {
        "id": "9vyKLN4YO3gd"
      }
    },
    {
      "cell_type": "code",
      "source": [
        "integrate(x**3, x)"
      ],
      "outputs": [
        {
          "output_type": "execute_result",
          "data": {},
          "metadata": {},
          "execution_count": 104
        }
      ],
      "metadata": {
        "id": "V65VeB_WO3gj",
        "outputId": "92918881-4851-42ed-8092-4ad96ae6da89"
      },
      "execution_count": null
    },
    {
      "cell_type": "code",
      "source": [
        "integrate(sin(x), x)"
      ],
      "outputs": [
        {
          "output_type": "execute_result",
          "data": {},
          "metadata": {},
          "execution_count": 105
        }
      ],
      "metadata": {
        "id": "A62YLhelO3gl",
        "outputId": "5c434cda-ff4f-4608-f641-0b3fc266e9a1"
      },
      "execution_count": null
    },
    {
      "cell_type": "code",
      "source": [
        "integrate(ln(x), x)"
      ],
      "outputs": [
        {
          "output_type": "execute_result",
          "data": {},
          "metadata": {},
          "execution_count": 106
        }
      ],
      "metadata": {
        "id": "2F_ptaoGO3gl",
        "outputId": "9b0bffd3-caa4-42b2-997d-d43ec9288fed"
      },
      "execution_count": null
    },
    {
      "cell_type": "markdown",
      "source": [
        "This is known as an *indefinite integral* since the limits of integration are not defined.\n",
        "\n",
        "In contrast,\n",
        "a *definite integral* computes the area under $f(x)$ between $x=a$ and $x=b$.\n",
        "Use `integrate(f, (x,a,b))` to compute the definite integrals of the form $A(a,b)=\\int_a^b f(x) \\, dx$:"
      ],
      "metadata": {
        "id": "vJdlShd_O3gr"
      }
    },
    {
      "cell_type": "code",
      "source": [
        "integrate(x**3, (x,0,1))  # the area under x^3 from x=0 to x=1"
      ],
      "outputs": [
        {
          "output_type": "execute_result",
          "data": {},
          "metadata": {},
          "execution_count": 107
        }
      ],
      "metadata": {
        "id": "3Hgo7xRRO3gt",
        "outputId": "1d20845f-2eb8-4d49-b143-6dc5547a402a"
      },
      "execution_count": null
    },
    {
      "cell_type": "markdown",
      "source": [
        "We can obtain the same area by first calculating the indefinite integral $F(c)=\\int_0^c \\!f(x)\\,dx$,\n",
        "then using $A(a,b) = F(x)\\big\\vert_a^b \\equiv F(b) - F(a)$:"
      ],
      "metadata": {
        "id": "51rrkXOhO3gw"
      }
    },
    {
      "cell_type": "code",
      "source": [
        "F = integrate(x**3, x)\n",
        "F.subs({x:1}) - F.subs({x:0})"
      ],
      "outputs": [
        {
          "output_type": "execute_result",
          "data": {},
          "metadata": {},
          "execution_count": 108
        }
      ],
      "metadata": {
        "id": "VR6r48oqO3g1",
        "outputId": "1ce23233-7c08-441d-8389-5b270e152af0"
      },
      "execution_count": null
    },
    {
      "cell_type": "markdown",
      "source": [
        "Integrals correspond to *signed* area calculations:"
      ],
      "metadata": {
        "id": "UQY8Z11uO3g3"
      }
    },
    {
      "cell_type": "code",
      "source": [
        "integrate(sin(x), (x,0,pi))"
      ],
      "outputs": [
        {
          "output_type": "execute_result",
          "data": {},
          "metadata": {},
          "execution_count": 109
        }
      ],
      "metadata": {
        "id": "mXAaSMKnO3g3",
        "outputId": "0242bb30-33ce-4117-e0de-6d908d5d04c1"
      },
      "execution_count": null
    },
    {
      "cell_type": "code",
      "source": [
        "integrate(sin(x), (x,pi,2*pi))"
      ],
      "outputs": [
        {
          "output_type": "execute_result",
          "data": {},
          "metadata": {},
          "execution_count": 110
        }
      ],
      "metadata": {
        "id": "IPn9us-SO3g9",
        "outputId": "0bc8ac1b-004b-4e70-cd87-5890d10fedc9"
      },
      "execution_count": null
    },
    {
      "cell_type": "code",
      "source": [
        "integrate(sin(x), (x,0,2*pi))"
      ],
      "outputs": [
        {
          "output_type": "execute_result",
          "data": {},
          "metadata": {},
          "execution_count": 111
        }
      ],
      "metadata": {
        "id": "hZASphSfO3g9",
        "outputId": "c30c0f76-2aad-4890-8190-e1fbce9cd973"
      },
      "execution_count": null
    },
    {
      "cell_type": "markdown",
      "source": [
        "During the first half of its $2\\pi$-cycle,\n",
        "the graph of $\\sin(x)$ is above the $x$-axis, so it has a positive contribution to the area under the curve.\n",
        "During the second half of its cycle (from $x=\\pi$ to $x=2\\pi$),\n",
        "$\\sin(x)$ is below the $x$-axis, so it contributes negative area.\n",
        "Draw a graph of $\\sin(x)$ to see what is going on."
      ],
      "metadata": {
        "id": "LbGls45DO3g-"
      }
    },
    {
      "cell_type": "markdown",
      "source": [
        "###Fundamental theorem of calculus"
      ],
      "metadata": {
        "id": "PVRlJGIMO3hD"
      }
    },
    {
      "cell_type": "markdown",
      "source": [
        "The integral is the &ldquo;inverse operation&rdquo; of the derivative.\n",
        "If you perform the integral operation followed by the derivative operation on some function,\n",
        "you'll obtain the same function:\n",
        "\n",
        "$$\n",
        "  \\left(\\frac{d}{dx} \\circ \\int dx \\right) f(x) \\equiv \\frac{d}{dx} \\int_c^x f(u)\\:du = f(x).\n",
        "$$"
      ],
      "metadata": {
        "id": "Ze2OZKBcO3hE"
      }
    },
    {
      "cell_type": "code",
      "source": [
        "f = x**2\n",
        "F = integrate(f, x)\n",
        "F"
      ],
      "outputs": [
        {
          "output_type": "execute_result",
          "data": {},
          "metadata": {},
          "execution_count": 112
        }
      ],
      "metadata": {
        "id": "yjpGTCo5O3hE",
        "outputId": "52c4671c-de7a-4dc3-e6d1-d616196de9aa"
      },
      "execution_count": null
    },
    {
      "cell_type": "code",
      "source": [
        "diff(F,x)"
      ],
      "outputs": [
        {
          "output_type": "execute_result",
          "data": {},
          "metadata": {},
          "execution_count": 113
        }
      ],
      "metadata": {
        "id": "LrWMWIPfO3hF",
        "outputId": "98f45e38-9f24-4ca5-f675-0c05d28e0724"
      },
      "execution_count": null
    },
    {
      "cell_type": "markdown",
      "source": [
        "Alternately, if you compute the derivative of a function followed by the integral,\n",
        "you will obtain the original function $f(x)$ (up to a constant):\n",
        "\n",
        "$$\n",
        "  \\left( \\int dx \\circ \\frac{d}{dx}\\right) f(x) \\equiv \\int_c^x f'(u)\\;du = f(x) + C.\n",
        "$$"
      ],
      "metadata": {
        "id": "10JJztyIO3hL"
      }
    },
    {
      "cell_type": "code",
      "source": [
        "f = x**2\n",
        "df = diff(f,x)\n",
        "df"
      ],
      "outputs": [
        {
          "output_type": "execute_result",
          "data": {},
          "metadata": {},
          "execution_count": 114
        }
      ],
      "metadata": {
        "id": "QhrYBJlLO3hL",
        "outputId": "afb24996-7a3a-425a-8649-ffad94cfcfa2"
      },
      "execution_count": null
    },
    {
      "cell_type": "code",
      "source": [
        "integrate(df, x)"
      ],
      "outputs": [
        {
          "output_type": "execute_result",
          "data": {},
          "metadata": {},
          "execution_count": 115
        }
      ],
      "metadata": {
        "id": "Tzz_2fXXO3hL",
        "outputId": "9d2ed94b-b024-49f7-9020-ac3d7ba361ee"
      },
      "execution_count": null
    },
    {
      "cell_type": "markdown",
      "source": [
        "The fundamental theorem of calculus is important because it tells us how to solve differential equations.\n",
        "If we have to solve for $f(x)$ in the differential equation $\\frac{d}{dx}f(x) = g(x)$,\n",
        "we can take the integral on both sides of the equation to obtain the answer $f(x) = \\int g(x)\\,dx + C$."
      ],
      "metadata": {
        "id": "KIk9z7wfO3hR"
      }
    },
    {
      "cell_type": "markdown",
      "source": [
        "###Sequences"
      ],
      "metadata": {
        "id": "zwds6g0XO3hS"
      }
    },
    {
      "cell_type": "markdown",
      "source": [
        "Sequences are functions that take whole numbers as inputs.\n",
        "Instead of continuous inputs $x\\in \\mathbb{R}$,\n",
        "sequences take natural numbers $n\\in\\mathbb{N}$ as inputs.\n",
        "We denote sequences as $a_n$ instead of the usual function notation $a(n)$.\n",
        "\n",
        "We define a sequence by specifying an expression for its $n^\\mathrm{th}$ term:"
      ],
      "metadata": {
        "id": "cTnUehKoO3hS"
      }
    },
    {
      "cell_type": "code",
      "source": [
        "a_n = 1/n\n",
        "b_n = 1/factorial(n)"
      ],
      "outputs": [],
      "metadata": {
        "id": "siB_h83tO3hX"
      },
      "execution_count": null
    },
    {
      "cell_type": "markdown",
      "source": [
        "Substitute the desired value of $n$ to see the value of the $n^\\mathrm{th}$ term:"
      ],
      "metadata": {
        "id": "68EWY0CtO3hX"
      }
    },
    {
      "cell_type": "code",
      "source": [
        "a_n.subs({n:5})"
      ],
      "outputs": [
        {
          "output_type": "execute_result",
          "data": {},
          "metadata": {},
          "execution_count": 117
        }
      ],
      "metadata": {
        "id": "JxPfQxl0O3hY",
        "outputId": "89c6c8ac-cbd6-4a31-9032-f8f104853193"
      },
      "execution_count": null
    },
    {
      "cell_type": "markdown",
      "source": [
        "The `Python` list comprehension syntax `[item for item in list]`\n",
        "can be used to print the sequence values for some range of indices:"
      ],
      "metadata": {
        "id": "bLW3frHuO3hb"
      }
    },
    {
      "cell_type": "code",
      "source": [
        "[ a_n.subs({n:i}) for i in range(0,8) ]"
      ],
      "outputs": [
        {
          "output_type": "execute_result",
          "data": {},
          "metadata": {},
          "execution_count": 118
        }
      ],
      "metadata": {
        "id": "UvvCHolfO3hc",
        "outputId": "168f8ee0-a1d5-40f1-9cc2-1c79490006b1"
      },
      "execution_count": null
    },
    {
      "cell_type": "code",
      "source": [
        "[ b_n.subs({n:i}) for i in range(0,8) ]"
      ],
      "outputs": [
        {
          "output_type": "execute_result",
          "data": {},
          "metadata": {},
          "execution_count": 119
        }
      ],
      "metadata": {
        "id": "a9O15M0dO3hc",
        "outputId": "36b6eddb-e8c2-4dcb-ce57-d719cb2bc618"
      },
      "execution_count": null
    },
    {
      "cell_type": "markdown",
      "source": [
        "Observe that $a_n$ is not properly defined for $n=0$ since $\\frac{1}{0}$ is a division-by-zero error.\n",
        "To be precise, we should say $a_n$'s domain is the positive naturals $a_n:\\mathbb{N}^+ \\to \\mathbb{R}$.\n",
        "Observe how quickly the `factorial` function $n!=1\\cdot2\\cdot3\\cdots(n-1)\\cdot n$ grows:\n",
        "$7!= 5040$, $10!=3628800$, $20! > 10^{18}$.\n",
        "\n",
        "We're often interested in calculating the limits of sequences as $n\\to \\infty$.\n",
        "What happens to the terms in the sequence when $n$ becomes large?"
      ],
      "metadata": {
        "id": "ept6vPl8O3hc"
      }
    },
    {
      "cell_type": "code",
      "source": [
        "limit(a_n, n, oo)"
      ],
      "outputs": [
        {
          "output_type": "execute_result",
          "data": {},
          "metadata": {},
          "execution_count": 120
        }
      ],
      "metadata": {
        "id": "bwNBRll4O3hg",
        "outputId": "142ddd75-e576-481e-d16e-94f93a75f9c6"
      },
      "execution_count": null
    },
    {
      "cell_type": "code",
      "source": [
        "limit(b_n, n, oo)"
      ],
      "outputs": [
        {
          "output_type": "execute_result",
          "data": {},
          "metadata": {},
          "execution_count": 121
        }
      ],
      "metadata": {
        "id": "E2t-3S1IO3hh",
        "outputId": "85630c54-bf56-4308-f9ee-26b69c11d9c1"
      },
      "execution_count": null
    },
    {
      "cell_type": "markdown",
      "source": [
        "Both $a_n=\\frac{1}{n}$ and $b_n = \\frac{1}{n!}$ *converge* to $0$ as $n\\to\\infty$.\n",
        "\n",
        "Many important math quantities are defined as limit expressions.\n",
        "An interesting example to consider is the number $\\pi$,\n",
        "which is defined as the area of a circle of radius $1$.\n",
        "We can approximate the area of the unit circle by drawing a many-sided regular polygon around the circle.\n",
        "Splitting the $n$-sided regular polygon into identical triangular splices,\n",
        "we can obtain a formula for its area $A_n$.\n",
        "In the limit as $n\\to \\infty$,\n",
        "the $n$-sided-polygon approximation to the area of the unit-circle becomes exact:"
      ],
      "metadata": {
        "id": "0pG_zje8O3hh"
      }
    },
    {
      "cell_type": "code",
      "source": [
        "A_n = n*tan(2*pi/(2*n))\n",
        "limit(A_n, n, oo)"
      ],
      "outputs": [
        {
          "output_type": "execute_result",
          "data": {},
          "metadata": {},
          "execution_count": 122
        }
      ],
      "metadata": {
        "id": "FztaGQn3O3hk",
        "outputId": "22945319-a702-4120-dd72-e8a9879d219b"
      },
      "execution_count": null
    },
    {
      "cell_type": "markdown",
      "source": [
        "###Series"
      ],
      "metadata": {
        "id": "y5eLfRCMO3hl"
      }
    },
    {
      "cell_type": "markdown",
      "source": [
        "Suppose we're given a sequence $a_n$ and we want to compute the sum of all the values in this sequence $\\sum_{n}^\\infty a_n$.\n",
        "Series are sums of sequences.\n",
        "Summing the values of a sequence $a_n:\\mathbb{N}\\to \\mathbb{R}$\n",
        "is analogous to taking the integral of a function $f:\\mathbb{R}\\to \\mathbb{R}$.\n",
        "\n",
        "To work with series in `SymPy`,\n",
        "use the `summation` function whose syntax is analogous to the `integrate` function:"
      ],
      "metadata": {
        "id": "ZErWQ7FoO3h0"
      }
    },
    {
      "cell_type": "code",
      "source": [
        "a_n = 1/n\n",
        "summation(a_n, [n, 1, oo])"
      ],
      "outputs": [
        {
          "output_type": "execute_result",
          "data": {},
          "metadata": {},
          "execution_count": 123
        }
      ],
      "metadata": {
        "id": "gJJd4b5mO3h5",
        "outputId": "12758a94-2df7-4819-bab7-43d227f90873"
      },
      "execution_count": null
    },
    {
      "cell_type": "code",
      "source": [
        "b_n = 1/factorial(n)\n",
        "summation(b_n, [n, 0, oo])"
      ],
      "outputs": [
        {
          "output_type": "execute_result",
          "data": {},
          "metadata": {},
          "execution_count": 124
        }
      ],
      "metadata": {
        "id": "nvqcfOPbO3h6",
        "outputId": "82b0c2fe-9284-47d6-cf02-092f6d518a89"
      },
      "execution_count": null
    },
    {
      "cell_type": "markdown",
      "source": [
        "We say the series $\\sum a_n$ *diverges* to infinity (or *is divergent*) while the series $\\sum b_n$ converges (or *is convergent*).\n",
        "As we sum together more and more terms of the sequence $b_n$, the total becomes closer and closer to some finite number.\n",
        "In this case, the infinite sum $\\sum_{n=0}^\\infty \\frac{1}{n!}$ converges to the number $e=2.71828\\ldots$.\n",
        "\n",
        "\n",
        "The `summation` command is useful because it allows us to compute `infinite` sums,\n",
        "but for most practical applications we don't need to take an infinite number of terms in a series to obtain a good approximation.\n",
        "This is why series are so neat: they represent a great way to obtain approximations.\n",
        "\n",
        "Using standard `Python` commands,  \n",
        "we can obtain an approximation to $e$ that is accurate to six decimals by summing 10 terms in the series:"
      ],
      "metadata": {
        "id": "oF7UO_1nO3h6"
      }
    },
    {
      "cell_type": "code",
      "source": [
        "import math\n",
        "def b_nf(n):\n",
        "    return 1.0/math.factorial(n)\n",
        "sum( [b_nf(n) for n in range(0,10)] )"
      ],
      "outputs": [
        {
          "output_type": "execute_result",
          "data": {},
          "metadata": {},
          "execution_count": 125
        }
      ],
      "metadata": {
        "id": "f0dmk0NQO3h9",
        "outputId": "6e27a9ed-dbc4-4839-b2eb-b1077afd03d3"
      },
      "execution_count": null
    },
    {
      "cell_type": "code",
      "source": [
        "E.evalf()  # true value"
      ],
      "outputs": [
        {
          "output_type": "execute_result",
          "data": {},
          "metadata": {},
          "execution_count": 126
        }
      ],
      "metadata": {
        "id": "vdu9c_FeO3h_",
        "outputId": "52d6cc8e-9bdb-4fd2-bcd1-368ef7484023"
      },
      "execution_count": null
    },
    {
      "cell_type": "markdown",
      "source": [
        "###Taylor series"
      ],
      "metadata": {
        "id": "jONTda3hO3iA"
      }
    },
    {
      "cell_type": "markdown",
      "source": [
        "Wait, there's more!\n",
        "Not only can we use series to approximate numbers,\n",
        "we can also use them to approximate functions.\n",
        "\n",
        "A *power series* is a series whose terms contain different powers of the variable $x$.\n",
        "The $n^\\mathrm{th}$ term in a power series is a function of both the sequence index $n$ and the input variable $x$.\n",
        "\n",
        "For example, the power series of the function $\\exp(x)=e^x$ is\n",
        "\n",
        "$$\n",
        " \\exp(x) \\equiv  1 + x + \\frac{x^2}{2} + \\frac{x^3}{3!} + \\frac{x^4}{4!} + \\frac{x^5}{5!} + \\cdots         \n",
        "  =       \\sum_{n=0}^\\infty \\frac{x^n}{n!}.\n",
        "$$\n",
        "\n",
        "This is, IMHO, one of the most important ideas in calculus:\n",
        "you can compute the value of $\\exp(5)$ by taking the infinite sum of the terms in the power series with $x=5$:"
      ],
      "metadata": {
        "id": "72jGylLcO3iF"
      }
    },
    {
      "cell_type": "code",
      "source": [
        "exp_xn = x**n/factorial(n)\n",
        "summation( exp_xn.subs({x:5}), [n, 0, oo] ).evalf()"
      ],
      "outputs": [
        {
          "output_type": "execute_result",
          "data": {},
          "metadata": {},
          "execution_count": 127
        }
      ],
      "metadata": {
        "id": "IBwApl4fO3iG",
        "outputId": "ef724d02-cf08-4634-dba8-a6f56421926b"
      },
      "execution_count": null
    },
    {
      "cell_type": "code",
      "source": [
        "exp(5).evalf()  # the true value"
      ],
      "outputs": [
        {
          "output_type": "execute_result",
          "data": {},
          "metadata": {},
          "execution_count": 128
        }
      ],
      "metadata": {
        "id": "GT1-pgp4O3iG",
        "outputId": "b0d0485a-a782-444f-b53e-7a33b7b57374"
      },
      "execution_count": null
    },
    {
      "cell_type": "markdown",
      "source": [
        "Note that `SymPy` is actually smart enough to recognize that the infinite series\n",
        "you're computing corresponds to the closed-form expression $e^5$:"
      ],
      "metadata": {
        "id": "v4zi0ZTSO3iM"
      }
    },
    {
      "cell_type": "code",
      "source": [
        "summation( exp_xn.subs({x:5}), [n, 0, oo])"
      ],
      "outputs": [
        {
          "output_type": "execute_result",
          "data": {},
          "metadata": {},
          "execution_count": 129
        }
      ],
      "metadata": {
        "id": "A18AT6W2O3iN",
        "outputId": "e3ce6629-9596-45fe-9b58-39d230c53fb3"
      },
      "execution_count": null
    },
    {
      "cell_type": "markdown",
      "source": [
        "Taking as few as 35 terms in the series is sufficient to obtain an approximation to $e$\n",
        "that is accurate to 16 decimals:"
      ],
      "metadata": {
        "id": "iKrbgTulO3iO"
      }
    },
    {
      "cell_type": "code",
      "source": [
        "import math  # redo using only python\n",
        "def exp_xnf(x,n):\n",
        "    return x**n/math.factorial(n)\n",
        "sum( [exp_xnf(5.0,i) for i in range(0,35)] )"
      ],
      "outputs": [
        {
          "output_type": "execute_result",
          "data": {},
          "metadata": {},
          "execution_count": 130
        }
      ],
      "metadata": {
        "id": "xCcASl6gO3iT",
        "outputId": "53ecae82-a4d0-461e-c089-bc84246652e3"
      },
      "execution_count": null
    },
    {
      "cell_type": "markdown",
      "source": [
        "The coefficients in the power series of a function (also known as the *Taylor series*)\n",
        "The formula for the $n^\\mathrm{th}$ term in the Taylor series of $f(x)$ expanded at $x=c$ is $a_n(x) = \\frac{f^{(n)}(c)}{n!}(x-c)^n$,\n",
        "where $f^{(n)}(c)$ is the value of the $n^\\mathrm{th}$ derivative of $f(x)$ evaluated at $x=c$.\n",
        "The term *Maclaurin series* refers to Taylor series expansions at $x=0$.\n",
        "\n",
        "The `SymPy` function `series` is a convenient way to obtain the series of any function.\n",
        "Calling `series(expr,var,at,nmax)`\n",
        "will show you the series expansion of `expr`\n",
        "near `var`=`at`\n",
        "up to power `nmax`:"
      ],
      "metadata": {
        "id": "sA5GQ_pEO3iU"
      }
    },
    {
      "cell_type": "code",
      "source": [
        "series( sin(x), x, 0, 8)"
      ],
      "outputs": [
        {
          "output_type": "execute_result",
          "data": {},
          "metadata": {},
          "execution_count": 131
        }
      ],
      "metadata": {
        "id": "fqrIKWfcO3iV",
        "outputId": "0f6e81cc-e011-46ec-e217-ac4475fe43f2"
      },
      "execution_count": null
    },
    {
      "cell_type": "code",
      "source": [
        "series( cos(x), x, 0, 8)"
      ],
      "outputs": [
        {
          "output_type": "execute_result",
          "data": {},
          "metadata": {},
          "execution_count": 132
        }
      ],
      "metadata": {
        "id": "13rjsu-nO3iW",
        "outputId": "679e9fe2-83e8-4c38-d60d-ace6b0e721f1"
      },
      "execution_count": null
    },
    {
      "cell_type": "code",
      "source": [
        "series( sinh(x), x, 0, 8)"
      ],
      "outputs": [
        {
          "output_type": "execute_result",
          "data": {},
          "metadata": {},
          "execution_count": 133
        }
      ],
      "metadata": {
        "id": "_jqHO6feO3ia",
        "outputId": "b4c69ae6-d363-449a-f986-ed8d85750765"
      },
      "execution_count": null
    },
    {
      "cell_type": "code",
      "source": [
        "series( cosh(x), x, 0, 8)"
      ],
      "outputs": [
        {
          "output_type": "execute_result",
          "data": {},
          "metadata": {},
          "execution_count": 134
        }
      ],
      "metadata": {
        "id": "Uuakx6FbO3ib",
        "outputId": "dd1014c8-a11b-4afe-b5e9-1edb0f4bf783"
      },
      "execution_count": null
    },
    {
      "cell_type": "markdown",
      "source": [
        "Some functions are not defined at $x=0$, so we expand them at a different value of $x$.\n",
        "For example, the power series of $\\ln(x)$ expanded at $x=1$ is"
      ],
      "metadata": {
        "id": "CeJDmhNiO3ic"
      }
    },
    {
      "cell_type": "code",
      "source": [
        "series(ln(x), x, 1, 6)  # Taylor series of ln(x) at x=1"
      ],
      "outputs": [
        {
          "output_type": "execute_result",
          "data": {},
          "metadata": {},
          "execution_count": 135
        }
      ],
      "metadata": {
        "id": "W9K8ewGgO3if",
        "outputId": "a8b0b72f-3e49-4a5b-b796-df05a043ef97"
      },
      "execution_count": null
    },
    {
      "cell_type": "markdown",
      "source": [
        "Here, the result `SymPy` returns is misleading.\n",
        "The Taylor series of $\\ln(x)$ expanded at $x=1$ has terms of the form $(x-1)^n$:\n",
        "\n",
        "$$\n",
        "  \\ln(x) = (x-1) - \\frac{(x-1)^2}{2} + \\frac{(x-1)^3}{3} - \\frac{(x-1)^4}{4} + \\frac{(x-1)^5}{5} + \\cdots.\n",
        "$$\n",
        "\n",
        "Verify this is the correct formula by substituting $x=1$.\n",
        "`SymPy` returns an answer in terms of coordinates `relative` to $x=1$.\n",
        "\n",
        "Instead of expanding $\\ln(x)$ around $x=1$,\n",
        "we can obtain an equivalent expression if we expand $\\ln(x+1)$ around $x=0$:"
      ],
      "metadata": {
        "id": "QMo7b7OWO3ig"
      }
    },
    {
      "cell_type": "code",
      "source": [
        "series(ln(x+1), x, 0, 6)  # Maclaurin series of ln(x+1)"
      ],
      "outputs": [
        {
          "output_type": "execute_result",
          "data": {},
          "metadata": {},
          "execution_count": 136
        }
      ],
      "metadata": {
        "id": "wuPSIQOHO3ih",
        "outputId": "16a1fb59-80cf-49be-e4d3-d8e236f258b2"
      },
      "execution_count": null
    },
    {
      "cell_type": "markdown",
      "source": [
        "##Vectors"
      ],
      "metadata": {
        "id": "Ll8Ngx6LO3ik"
      }
    },
    {
      "cell_type": "markdown",
      "source": [
        "A vector $\\vec{v} \\in \\mathbb{R}^n$ is an $n$-tuple of real numbers.\n",
        "For example, consider a vector that has three components:  \n",
        "\n",
        "$$\n",
        " \\vec{v} = (v_1,v_2,v_3) \\  \\in \\  (\\mathbb{R},\\mathbb{R},\\mathbb{R}) \\equiv \\mathbb{R}^3.\n",
        "$$\n",
        "\n",
        "To specify the vector $\\vec{v}$,\n",
        "we specify the values for its three components $v_1$, $v_2$, and $v_3$.\n",
        "\n",
        "A matrix $A \\in \\mathbb{R}^{m\\times n}$ is a rectangular array of real numbers with $m$ rows and $n$ columns.\n",
        "A vector is a special type of matrix; we can think of a vector $\\vec{v}\\in \\mathbb{R}^n$\n",
        "either as a row vector ($1\\times n$ matrix) or a column vector ($n \\times 1$ matrix).\n",
        "Because of this equivalence between vectors and matrices,\n",
        "there is no need for a special vector object in `SymPy`,\n",
        "and `Matrix` objects are used for vectors as well.\n",
        "\n",
        "This is how we define vectors\n",
        "and compute their properties:"
      ],
      "metadata": {
        "id": "8cb5ga8cO3il"
      }
    },
    {
      "cell_type": "code",
      "source": [
        "u = Matrix([[4,5,6]])  # a row vector = 1x3 matrix\n",
        "v = Matrix([[7],\n",
        "            [8],       # a col vector = 3x1 matrix\n",
        "            [9]])"
      ],
      "outputs": [],
      "metadata": {
        "id": "MNowxktCO3il"
      },
      "execution_count": null
    },
    {
      "cell_type": "code",
      "source": [
        "v.T                    # use the transpose operation to convert a col vec to a row vec"
      ],
      "outputs": [
        {
          "output_type": "execute_result",
          "data": {},
          "metadata": {},
          "execution_count": 138
        }
      ],
      "metadata": {
        "id": "PVg9V1PEO3io",
        "outputId": "784eb60e-227b-4eae-91c6-a3bcd09beb21"
      },
      "execution_count": null
    },
    {
      "cell_type": "code",
      "source": [
        "u[0]                   # 0-based indexing for entries"
      ],
      "outputs": [
        {
          "output_type": "execute_result",
          "data": {},
          "metadata": {},
          "execution_count": 139
        }
      ],
      "metadata": {
        "id": "Xzq4q933O3io",
        "outputId": "ad964d31-3418-49e5-8154-679160a7f07f"
      },
      "execution_count": null
    },
    {
      "cell_type": "code",
      "source": [
        "u.norm()               # length of u"
      ],
      "outputs": [
        {
          "output_type": "execute_result",
          "data": {},
          "metadata": {},
          "execution_count": 140
        }
      ],
      "metadata": {
        "id": "vxDD8Eg5O3io",
        "outputId": "e6be57cf-bb68-416c-d10e-7dff93d20275"
      },
      "execution_count": null
    },
    {
      "cell_type": "code",
      "source": [
        "uhat = u/u.norm()      # unit-length vec in same dir as u\n",
        "uhat"
      ],
      "outputs": [
        {
          "output_type": "execute_result",
          "data": {},
          "metadata": {},
          "execution_count": 141
        }
      ],
      "metadata": {
        "id": "3xDRV-LAO3iq",
        "outputId": "42e9af94-9dba-4fef-e0a8-f5c1dd3a6534"
      },
      "execution_count": null
    },
    {
      "cell_type": "code",
      "source": [
        "uhat.norm()"
      ],
      "outputs": [
        {
          "output_type": "execute_result",
          "data": {},
          "metadata": {},
          "execution_count": 142
        }
      ],
      "metadata": {
        "id": "gfZfMOQTO3ir",
        "outputId": "a648b6d4-65b1-42ba-fb98-280e10eb4a11"
      },
      "execution_count": null
    },
    {
      "cell_type": "markdown",
      "source": [
        "###Dot product"
      ],
      "metadata": {
        "id": "BfYA2U7gO3ir"
      }
    },
    {
      "cell_type": "markdown",
      "source": [
        "The dot product of the 3-vectors $\\vec{u}$ and $\\vec{v}$ can be defined two ways:\n",
        "\n",
        "$$\n",
        "  \\vec{u}\\cdot\\vec{v}\n",
        "  \t\\equiv\n",
        "\t\\underbrace{u_xv_x+u_yv_y+u_zv_z}_{\\textrm{algebraic def.}}\n",
        "\t\\equiv\n",
        "\t\\underbrace{\\|\\vec{u}\\|\\|\\vec{v}\\|\\cos(\\varphi)}_{\\textrm{geometric def.}}\n",
        "\t\\quad \\in \\mathbb{R},\n",
        "$$\n",
        "\n",
        "where $\\varphi$ is the angle between the vectors $\\vec{u}$ and $\\vec{v}$.\n",
        "In `SymPy`,"
      ],
      "metadata": {
        "id": "MCk8Dt3MO3it"
      }
    },
    {
      "cell_type": "code",
      "source": [
        "u = Matrix([ 4,5,6])\n",
        "v = Matrix([-1,1,2])\n",
        "u.dot(v)"
      ],
      "outputs": [
        {
          "output_type": "execute_result",
          "data": {},
          "metadata": {},
          "execution_count": 143
        }
      ],
      "metadata": {
        "id": "7zcaAo99O3iu",
        "outputId": "504868de-0362-48fd-c1d0-832f15ac820a"
      },
      "execution_count": null
    },
    {
      "cell_type": "markdown",
      "source": [
        "We can combine the algebraic and geometric formulas for the dot product\n",
        "to obtain the cosine of the angle between the vectors\n",
        "\n",
        "$$\n",
        "    \\cos(\\varphi)\n",
        "        = \\frac{ \\vec{u}\\cdot\\vec{v} }{  \\|\\vec{u}\\|\\|\\vec{v}\\| }\n",
        "        = \\frac{ u_xv_x+u_yv_y+u_zv_z  }{  \\|\\vec{u}\\|\\|\\vec{v}\\| },\n",
        "$$\n",
        "\n",
        "and use the `acos` function to find the angle measure:"
      ],
      "metadata": {
        "id": "WEtiw82_O3iv"
      }
    },
    {
      "cell_type": "code",
      "source": [
        "acos(u.dot(v)/(u.norm()*v.norm())).evalf()  # in radians = 52.76 degrees"
      ],
      "outputs": [
        {
          "output_type": "execute_result",
          "data": {},
          "metadata": {},
          "execution_count": 144
        }
      ],
      "metadata": {
        "id": "GoKvwTTBO3iy",
        "outputId": "8e980636-46e9-4bb9-dfae-4288e6983d4c"
      },
      "execution_count": null
    },
    {
      "cell_type": "markdown",
      "source": [
        "Just by looking at the coordinates of the vectors $\\vec{u}$ and $\\vec{v}$,\n",
        "it's difficult to determine their relative direction.\n",
        "Thanks to the dot product, however,\n",
        "we know the angle between the vectors is $52.76^\\circ$,\n",
        "which means they *kind of* point in the same direction.\n",
        "Vectors that are at an angle $\\varphi=90^\\circ$ are called *orthogonal*, meaning at right angles with each other.\n",
        "The dot product of vectors for which $\\varphi > 90^\\circ$ is negative because they point *mostly* in opposite directions.\n",
        "\n",
        "The notion of the &ldquo;angle between vectors&rdquo; applies more generally to vectors with any number of dimensions.\n",
        "The dot product for $n$-dimensional vectors is $\\vec{u}\\cdot\\vec{v}=\\sum_{i=1}^n u_iv_i$.\n",
        "This means we can talk about &ldquo;the angle between&rdquo; 1000-dimensional vectors.\n",
        "That's pretty crazy if you think about it&mdash;there is no way we could possibly &ldquo;visualize&rdquo; 1000-dimensional vectors,\n",
        "yet given two such vectors we can tell if they point mostly in the same direction,\n",
        "in perpendicular directions, or mostly in opposite directions.\n",
        "\n",
        "The dot product is a commutative operation $\\vec{u}\\cdot\\vec{v} = \\vec{v}\\cdot\\vec{u}$:"
      ],
      "metadata": {
        "id": "FWPPGkGNO3iz"
      }
    },
    {
      "cell_type": "code",
      "source": [
        "u.dot(v) == v.dot(u)"
      ],
      "outputs": [
        {
          "output_type": "execute_result",
          "data": {},
          "metadata": {},
          "execution_count": 145
        }
      ],
      "metadata": {
        "id": "nTAnilUXO3iz",
        "outputId": "a1423ab0-a718-4eab-b2f1-8717bcbfed31"
      },
      "execution_count": null
    },
    {
      "cell_type": "markdown",
      "source": [
        "###Projections"
      ],
      "metadata": {
        "id": "eqbbEDMyO3i3"
      }
    },
    {
      "cell_type": "markdown",
      "source": [
        "Dot products are used for computing projections.\n",
        "Assume you're given two vectors $\\vec{u}$ and $\\vec{n}$ and you want to find the component\n",
        "of $\\vec{u}$ that points in the $\\vec{n}$ direction.\n",
        "The following formula based on the dot product will give you the answer:\n",
        "\n",
        "$$\n",
        " \\Pi_{\\vec{n}}( \\vec{u} ) \\equiv \\frac{  \\vec{u} \\cdot \\vec{n}  }{ \\| \\vec{n} \\|^2 } \\vec{n}.\n",
        "$$\n",
        "\n",
        "This is how to implement this formula in `SymPy`:"
      ],
      "metadata": {
        "id": "CXEiVNw3O3i3"
      }
    },
    {
      "cell_type": "code",
      "source": [
        "u = Matrix([4,5,6])\n",
        "n = Matrix([1,1,1])\n",
        "(u.dot(n) / n.norm()**2)*n  # projection of v in the n dir"
      ],
      "outputs": [
        {
          "output_type": "execute_result",
          "data": {},
          "metadata": {},
          "execution_count": 146
        }
      ],
      "metadata": {
        "id": "vIY-Wz2eO3i4",
        "outputId": "7dc5a325-ec26-40c6-8e9b-d85e351c4447"
      },
      "execution_count": null
    },
    {
      "cell_type": "markdown",
      "source": [
        "In the case where the direction vector $\\hat{n}$ is of unit length $\\|\\hat{n}\\| = 1$,\n",
        "the projection formula simplifies to $\\Pi_{\\hat{n}}( \\vec{u} ) \\equiv (\\vec{u}\\cdot\\hat{n})\\hat{n}$.\n",
        "\n",
        "Consider now the plane $P$ defined by $(1,1,1)\\cdot[(x,y,z)-(0,0,0)]=0$.\n",
        "A plane is a two dimensional subspace of $\\mathbb{R}^3$.\n",
        "We can decompose any vector $\\vec{u} \\in \\mathbb{R}^3$ into two parts $\\vec{u}=\\vec{v} + \\vec{w}$\n",
        "such that $\\vec{v}$ lies inside the plane and $\\vec{w}$ is perpendicular to the plane (parallel to $\\vec{n}=(1,1,1)$).\n",
        "\n",
        "To obtain the perpendicular-to-$P$ component of $\\vec{u}$,\n",
        "compute the projection of $\\vec{u}$ in the direction $\\vec{n}$:"
      ],
      "metadata": {
        "id": "XG86xrbKO3i4"
      }
    },
    {
      "cell_type": "code",
      "source": [
        "w = (u.dot(n) / n.norm()**2)*n\n",
        "w"
      ],
      "outputs": [
        {
          "output_type": "execute_result",
          "data": {},
          "metadata": {},
          "execution_count": 147
        }
      ],
      "metadata": {
        "id": "aEhSkBkOO3i7",
        "outputId": "9b076222-2697-491e-c6b8-422fab3e99f2"
      },
      "execution_count": null
    },
    {
      "cell_type": "markdown",
      "source": [
        "To obtain the in-the-plane-$P$ component of $\\vec{u}$,\n",
        "start with $\\vec{u}$ and subtract the perpendicular-to-$P$ part:"
      ],
      "metadata": {
        "id": "pnOr-rnxO3i7"
      }
    },
    {
      "cell_type": "code",
      "source": [
        "v = u - (u.dot(n)/n.norm()**2)*n  # same as u - w\n",
        "v"
      ],
      "outputs": [
        {
          "output_type": "execute_result",
          "data": {},
          "metadata": {},
          "execution_count": 148
        }
      ],
      "metadata": {
        "id": "SOiRAIpyO3i8",
        "outputId": "bb08fcc6-18e4-4b82-8cd4-ebb4b6e47bda"
      },
      "execution_count": null
    },
    {
      "cell_type": "markdown",
      "source": [
        "You should check on your own that $\\vec{v}+\\vec{w}=\\vec{u}$ as claimed."
      ],
      "metadata": {
        "id": "_ZRAeXohO3i-"
      }
    },
    {
      "cell_type": "markdown",
      "source": [
        "###Cross product"
      ],
      "metadata": {
        "id": "EcL_u-FtO3i_"
      }
    },
    {
      "cell_type": "markdown",
      "source": [
        "The *cross product*, denoted $\\times$, takes two vectors as inputs and produces a vector as output.\n",
        "The cross products of individual basis elements are defined as follows:\n",
        "\n",
        "$$\n",
        " \\hat{\\imath}\\times\\hat{\\jmath} =\\hat{k}, \\qquad\n",
        " \\hat{\\jmath}\\times\\hat{k} =\\hat{\\imath}, \\qquad\n",
        " \\hat{k}\\times \\hat{\\imath}= \\hat{\\jmath}.\n",
        "$$\n",
        "\n",
        "Here is how to compute the cross product of two vectors in `SymPy`:"
      ],
      "metadata": {
        "id": "REghjmRkO3jA"
      }
    },
    {
      "cell_type": "code",
      "source": [
        "u = Matrix([ 4,5,6])\n",
        "v = Matrix([-1,1,2])\n",
        "u.cross(v)"
      ],
      "outputs": [
        {
          "output_type": "execute_result",
          "data": {},
          "metadata": {},
          "execution_count": 149
        }
      ],
      "metadata": {
        "id": "iX8zKG67O3jB",
        "outputId": "fde7c4f6-6988-4584-e082-c2e12fa0da72"
      },
      "execution_count": null
    },
    {
      "cell_type": "markdown",
      "source": [
        "The vector $\\vec{u}\\times \\vec{v}$ is orthogonal to both $\\vec{u}$ and $\\vec{v}$.\n",
        "The norm of the cross product  $\\|\\vec{u}\\times \\vec{v}\\|$ is proportional to the lengths of the vectors\n",
        "and the sine of the angle between them:"
      ],
      "metadata": {
        "id": "ilYiGkcbO3jC"
      }
    },
    {
      "cell_type": "code",
      "source": [
        "(u.cross(v).norm()/(u.norm()*v.norm())).n()"
      ],
      "outputs": [
        {
          "output_type": "execute_result",
          "data": {},
          "metadata": {},
          "execution_count": 150
        }
      ],
      "metadata": {
        "id": "DKkY_q7MO3jD",
        "outputId": "3aea71b3-d381-4ce1-b19c-8ff759d4fda9"
      },
      "execution_count": null
    },
    {
      "cell_type": "markdown",
      "source": [
        "The name &ldquo;cross product&rdquo; is well-suited for this operation since it is\n",
        "calculated by &ldquo;cross-multiplying&rdquo; the coefficients of the vectors:\n",
        "\n",
        "$$\n",
        "   \\vec{u}\\times\\vec{v}=\n",
        "   \\left(\n",
        "     u_yv_z-u_zv_y, \\ u_zv_x-u_xv_z, \\ u_xv_y-u_yv_x\n",
        "    \\right).\n",
        "$$\n",
        "\n",
        "By defining individual symbols for the entries of two vectors,\n",
        "we can make `SymPy` show us the cross-product formula:"
      ],
      "metadata": {
        "id": "Dkn761UFO3jF"
      }
    },
    {
      "cell_type": "code",
      "source": [
        "u1,u2,u3 = symbols('u1:4')\n",
        "v1,v2,v3 = symbols('v1:4')\n",
        "Matrix([u1,u2,u3]).cross(Matrix([v1,v2,v3]))"
      ],
      "outputs": [
        {
          "output_type": "execute_result",
          "data": {},
          "metadata": {},
          "execution_count": 151
        }
      ],
      "metadata": {
        "id": "wKkWMt29O3jG",
        "outputId": "7426766b-2bee-4bfe-ec75-5a656cd11275"
      },
      "execution_count": null
    },
    {
      "cell_type": "markdown",
      "source": [
        "The dot product is anti-commutative $\\vec{u}\\times\\vec{v} = -\\vec{v}\\times\\vec{u}$:"
      ],
      "metadata": {
        "id": "scEaKoGDO3jG"
      }
    },
    {
      "cell_type": "code",
      "source": [
        "u.cross(v)"
      ],
      "outputs": [
        {
          "output_type": "execute_result",
          "data": {},
          "metadata": {},
          "execution_count": 152
        }
      ],
      "metadata": {
        "id": "U4e9B6dUO3jH",
        "outputId": "ace5af6b-7f32-458f-e39e-97230bc45797"
      },
      "execution_count": null
    },
    {
      "cell_type": "code",
      "source": [
        "v.cross(u)"
      ],
      "outputs": [
        {
          "output_type": "execute_result",
          "data": {},
          "metadata": {},
          "execution_count": 153
        }
      ],
      "metadata": {
        "id": "VxxKcx2MO3jJ",
        "outputId": "d47c7460-ef27-4b99-be08-f49824b2e7f7"
      },
      "execution_count": null
    },
    {
      "cell_type": "markdown",
      "source": [
        "The product of two numbers and the dot product of two vectors are commutative operations.\n",
        "The cross product, however, is not commutative: $\\vec{u}\\times\\vec{v} \\neq \\vec{v}\\times\\vec{u}$."
      ],
      "metadata": {
        "id": "bVThBwxgO3jK"
      }
    },
    {
      "cell_type": "markdown",
      "source": [
        "##Mechanics"
      ],
      "metadata": {
        "id": "Rr4QSBk-O3jK"
      }
    },
    {
      "cell_type": "markdown",
      "source": [
        "The module called [`sympy.physics.mechanics`](http://pyvideo.org/video/2653/dynamics-and-control-with-python)\n",
        "contains elaborate tools for describing mechanical systems,\n",
        "manipulating reference frames, forces, and torques.\n",
        "These specialized functions are not necessary for a first-year mechanics course.\n",
        "The basic `SymPy` functions like `solve`,\n",
        "and the vector operations you learned in the previous sections are powerful enough for basic Newtonian mechanics."
      ],
      "metadata": {
        "id": "qJSWxW5PO3jM"
      }
    },
    {
      "cell_type": "markdown",
      "source": [
        "###Dynamics"
      ],
      "metadata": {
        "id": "x3zvg_2QO3jN"
      }
    },
    {
      "cell_type": "markdown",
      "source": [
        "The net force acting on an object is the sum of all the external forces acting on it $\\vec{F}_{\\textrm{net}} = \\sum \\vec{F}$.\n",
        "Since forces are vectors,\n",
        "we need to use vector addition to compute the net force.\n",
        "\n",
        "Compute\n",
        "$\\vec{F}_{\\textrm{net}}=\\vec{F}_1 + \\vec{F}_2$,\n",
        "where $\\vec{F}_1=4\\hat{\\imath}[\\mathrm{N}]$ and $\\vec{F}_2 = 5\\angle 30^\\circ[\\mathrm{N}]$:"
      ],
      "metadata": {
        "id": "ywfAGY95O3jN"
      }
    },
    {
      "cell_type": "code",
      "source": [
        "F_1 =  Matrix( [4,0] )\n",
        "F_2 =  Matrix( [5*cos(30*pi/180), 5*sin(30*pi/180) ] )\n",
        "F_net = F_1 + F_2\n",
        "F_net                                    # in Newtons"
      ],
      "outputs": [
        {
          "output_type": "execute_result",
          "data": {},
          "metadata": {},
          "execution_count": 154
        }
      ],
      "metadata": {
        "id": "UM2OUFzeO3jP",
        "outputId": "14ee3810-ed87-4784-87e3-dbfbc30e07ad"
      },
      "execution_count": null
    },
    {
      "cell_type": "code",
      "source": [
        "F_net.evalf()                            # in Newtons"
      ],
      "outputs": [
        {
          "output_type": "execute_result",
          "data": {},
          "metadata": {},
          "execution_count": 155
        }
      ],
      "metadata": {
        "id": "Lfvd7Q12O3jQ",
        "outputId": "876bc971-6bca-4dc2-c949-6911e35be8b5"
      },
      "execution_count": null
    },
    {
      "cell_type": "markdown",
      "source": [
        "To express the answer in length-and-direction notation,\n",
        "use `norm` to find the length of $\\vec{F}_{\\textrm{net}}$\n",
        "and `atan2` (The function `atan2(y,x)` computes the correct direction\n",
        "for all vectors $(x,y)$, unlike `atan(y/x)` which requires corrections for angles in the range $[\\frac{\\pi}{2}, \\frac{3\\pi}{2}]$.) to find its direction:"
      ],
      "metadata": {
        "id": "oM7-DqhaO3jR"
      }
    },
    {
      "cell_type": "code",
      "source": [
        "F_net.norm().evalf()                     # |F_net| in [N]"
      ],
      "outputs": [
        {
          "output_type": "execute_result",
          "data": {},
          "metadata": {},
          "execution_count": 156
        }
      ],
      "metadata": {
        "id": "mEXjanEEO3jR",
        "outputId": "5488fc5b-38eb-4745-b26c-a2c48ea109ec"
      },
      "execution_count": null
    },
    {
      "cell_type": "code",
      "source": [
        "(atan2( F_net[1],F_net[0] )*180/pi).n()  # angle in degrees"
      ],
      "outputs": [
        {
          "output_type": "execute_result",
          "data": {},
          "metadata": {},
          "execution_count": 157
        }
      ],
      "metadata": {
        "id": "vSiU18jkO3jU",
        "outputId": "b52b24e1-8f54-4d33-ec1d-1c416ef07615"
      },
      "execution_count": null
    },
    {
      "cell_type": "markdown",
      "source": [
        "The net force on the object is $\\vec{F}_{\\textrm{net}}= 8.697\\angle 16.7^\\circ$[N]."
      ],
      "metadata": {
        "id": "jVVBFT-cO3jU"
      }
    },
    {
      "cell_type": "markdown",
      "source": [
        "###Kinematics"
      ],
      "metadata": {
        "id": "ofcnIwxtO3jV"
      }
    },
    {
      "cell_type": "markdown",
      "source": [
        "Let $x(t)$ denote the position of an object,\n",
        "$v(t)$ denote its velocity,\n",
        "and $a(t)$ denote its acceleration.\n",
        "Together $x(t)$, $v(t)$, and $a(t)$ are known as the *equations of motion* of the object.\n",
        "\n",
        "The equations of motion are related by the derivative operation:\n",
        "\n",
        "$$\n",
        "  a(t) \\overset{\\frac{d}{dt} }{\\longleftarrow} v(t) \\overset{\\frac{d}{dt} }{\\longleftarrow} x(t).\n",
        "$$\n",
        "\n",
        "Assume we know the initial position $x_i\\equiv x(0)$ and the initial velocity $v_i\\equiv v(0)$ of the object\n",
        "and we want to find $x(t)$ for all later times.\n",
        "We can do this starting from the dynamics of the problem&mdash;the forces acting on the object.\n",
        "\n",
        "Newton's second law $\\vec{F}_{\\textrm{net}} = m\\vec{a}$ states that a net force $\\vec{F}_{\\textrm{net}}$\n",
        "applied on an object of mass $m$ produces acceleration $\\vec{a}$.\n",
        "Thus, we can obtain an objects acceleration if we know the net force acting on it.\n",
        "Starting from the knowledge of $a(t)$, we can obtain $v(t)$ by integrating\n",
        "then find $x(t)$ by integrating $v(t)$:\n",
        "\n",
        "$$\n",
        "a(t) \\ \\ \\ \\overset{v_i+ \\int\\!dt }{\\longrightarrow} \\ \\ \\ v(t) \\ \\ \\ \\overset{x_i+ \\int\\!dt }{\\longrightarrow} \\ \\ \\ x(t).\n",
        "$$\n",
        "\n",
        "The reasoning follows from the fundamental theorem of calculus:\n",
        "if $a(t)$ represents the change in $v(t)$,\n",
        "then the total of $a(t)$ accumulated between $t=t_1$ and $t=t_2$\n",
        "is equal to the total change in $v(t)$ between these times: $\\Delta v = v(t_2) - v(t_1)$.\n",
        "Similarly, the integral of $v(t)$ from $t=0$ until $t=\\tau$ is equal to $x(\\tau) - x(0)$."
      ],
      "metadata": {
        "id": "TKQWaLxmO3jX"
      }
    },
    {
      "cell_type": "markdown",
      "source": [
        "###Uniform acceleration motion (UAM)"
      ],
      "metadata": {
        "id": "8bcLq6EOO3jY"
      }
    },
    {
      "cell_type": "markdown",
      "source": [
        "Let's analyze the case where the net force on the object is constant.\n",
        "A constant force causes a constant acceleration $a = \\frac{F}{m} = \\textrm{constant}$.\n",
        "If the acceleration function is constant over time $a(t)=a$.\n",
        "We find $v(t)$ and $x(t)$ as follows:"
      ],
      "metadata": {
        "id": "eEgfTaupO3jY"
      }
    },
    {
      "cell_type": "code",
      "source": [
        "t, a, v_i, x_i = symbols('t a v_i x_i')\n",
        "v = v_i + integrate(a, (t, 0,t) )\n",
        "v"
      ],
      "outputs": [
        {
          "output_type": "execute_result",
          "data": {},
          "metadata": {},
          "execution_count": 158
        }
      ],
      "metadata": {
        "id": "6tuTxyNVO3ja",
        "outputId": "899bdee8-1e5f-4cf8-e1dd-e3b50425eb4f"
      },
      "execution_count": null
    },
    {
      "cell_type": "code",
      "source": [
        "x = x_i + integrate(v, (t, 0,t) )\n",
        "x"
      ],
      "outputs": [
        {
          "output_type": "execute_result",
          "data": {},
          "metadata": {},
          "execution_count": 159
        }
      ],
      "metadata": {
        "id": "hpx62PRLO3jb",
        "outputId": "a5b0b2dc-82e2-4148-8a0f-09b702241297"
      },
      "execution_count": null
    },
    {
      "cell_type": "markdown",
      "source": [
        "You may remember these equations from your high school physics class.\n",
        "They are the *uniform accelerated motion* (UAM) equations:\n",
        "\n",
        "\\begin{align*}\n",
        " a(t) &= a,                                  \\\\\n",
        " v(t) &= v_i  + at,                          \\\\[-2mm]\n",
        " x(t) &= x_i + v_it + \\frac{1}{2}at^2.\n",
        "\\end{align*}\n",
        "\n",
        "In high school, you probably had to memorize these equations.\n",
        "Now you know how to derive them yourself starting from first principles.\n",
        "\n",
        "For the sake of completeness, we'll now derive the fourth UAM equation,\n",
        "which relates the object's final velocity to the initial velocity,\n",
        "the displacement, and the acceleration, without reference to time:"
      ],
      "metadata": {
        "id": "iEOF1VpHO3jc"
      }
    },
    {
      "cell_type": "code",
      "source": [
        "(v*v).expand()"
      ],
      "outputs": [
        {
          "output_type": "execute_result",
          "data": {},
          "metadata": {},
          "execution_count": 160
        }
      ],
      "metadata": {
        "id": "OQhUdF5MO3je",
        "outputId": "82108fdb-2918-46a2-fd55-876be5c8ef02"
      },
      "execution_count": null
    },
    {
      "cell_type": "code",
      "source": [
        "((v*v).expand() - 2*a*x).simplify()"
      ],
      "outputs": [
        {
          "output_type": "execute_result",
          "data": {},
          "metadata": {},
          "execution_count": 161
        }
      ],
      "metadata": {
        "id": "YpXvbnjvO3jf",
        "outputId": "a5b095c2-b6a3-48af-8e56-a87ad0068409"
      },
      "execution_count": null
    },
    {
      "cell_type": "markdown",
      "source": [
        "The above calculation shows $v_f^2 - 2ax_f = -2ax_i + v_i^2$.\n",
        "After moving the term $2ax_f$ to the other side of the equation, we obtain\n",
        "\n",
        "\\begin{align*}\n",
        " (v(t))^2 \\ = \\ v_f^2 =  v_i^2  + 2a\\Delta x \\ = \\  v_i^2  + 2a(x_f-x_i).\n",
        "\\end{align*}\n",
        "\n",
        "The fourth equation is important for practical purposes\n",
        "because it allows us to solve physics problems in a time-less manner."
      ],
      "metadata": {
        "id": "NawZ-A_LO3jf"
      }
    },
    {
      "cell_type": "markdown",
      "source": [
        "####Example"
      ],
      "metadata": {
        "id": "tzRcteVcO3jh"
      }
    },
    {
      "cell_type": "markdown",
      "source": [
        "Find the position function of an object at time $t=3[\\mathrm{s}]$,\n",
        "if it starts from $x_i=20[\\mathrm{m}]$ with $v_i=10[\\mathrm{m/s}]$ and undergoes\n",
        "a constant acceleration of $a=5[\\mathrm{m/s^2}]$.\n",
        "What is the object's velocity at $t=3[\\mathrm{s}]$?"
      ],
      "metadata": {
        "id": "jzJLxtC1O3jh"
      }
    },
    {
      "cell_type": "code",
      "source": [
        "x_i = 20  # initial position\n",
        "v_i = 10  # initial velocity\n",
        "a   = 5   # acceleration (constant during motion)\n",
        "x = x_i + integrate( v_i+integrate(a,(t,0,t)), (t,0,t) )\n",
        "x"
      ],
      "outputs": [
        {
          "output_type": "execute_result",
          "data": {},
          "metadata": {},
          "execution_count": 162
        }
      ],
      "metadata": {
        "id": "OhPAudOIO3ji",
        "outputId": "cef44506-7223-49cf-cc8f-3ded2fac6730"
      },
      "execution_count": null
    },
    {
      "cell_type": "code",
      "source": [
        "x.subs({t:3}).n()          # x(3) in [m]"
      ],
      "outputs": [
        {
          "output_type": "execute_result",
          "data": {},
          "metadata": {},
          "execution_count": 163
        }
      ],
      "metadata": {
        "id": "4u0oDxfFO3ji",
        "outputId": "57e2641a-bf21-4aff-fcc8-3cd0459cec49"
      },
      "execution_count": null
    },
    {
      "cell_type": "code",
      "source": [
        "diff(x,t).subs({t:3}).n()  # v(3) in [m/s]"
      ],
      "outputs": [
        {
          "output_type": "execute_result",
          "data": {},
          "metadata": {},
          "execution_count": 164
        }
      ],
      "metadata": {
        "id": "JvSbAs5FO3jj",
        "outputId": "edde01e9-0b11-435d-a77a-da6c2b8cbeb1"
      },
      "execution_count": null
    },
    {
      "cell_type": "markdown",
      "source": [
        "If you think about it,\n",
        "physics knowledge combined with computer skills is like a superpower!"
      ],
      "metadata": {
        "id": "JWxtHDAbO3jk"
      }
    },
    {
      "cell_type": "markdown",
      "source": [
        "###General equations of motion"
      ],
      "metadata": {
        "id": "EPb9VEa2O3jk"
      }
    },
    {
      "cell_type": "markdown",
      "source": [
        "The procedure\n",
        "$a(t) \\ \\overset{v_i+ \\int\\!dt }{\\longrightarrow} \\ v(t) \\ \\overset{x_i+ \\int\\!dt }{\\longrightarrow} \\ x(t)$\n",
        "can be used to obtain the position function $x(t)$ even when the acceleration is not constant.\n",
        "Suppose the acceleration of an object is $a(t)=\\sqrt{k t}$;\n",
        "what is its $x(t)$?"
      ],
      "metadata": {
        "id": "xCe3cmMGO3jl"
      }
    },
    {
      "cell_type": "code",
      "source": [
        "t, v_i, x_i, k = symbols('t v_i x_i k')\n",
        "a = sqrt(k*t)\n",
        "x = x_i + integrate( v_i+integrate(a,(t,0,t)), (t, 0,t) )\n",
        "x"
      ],
      "outputs": [
        {
          "output_type": "execute_result",
          "data": {},
          "metadata": {},
          "execution_count": 165
        }
      ],
      "metadata": {
        "id": "vyvDO8MIO3jl",
        "outputId": "13f2817f-90d5-4f91-891a-fd528c151ddd"
      },
      "execution_count": null
    },
    {
      "cell_type": "markdown",
      "source": [
        "###Potential energy"
      ],
      "metadata": {
        "id": "qTQVc4K6O3jm"
      }
    },
    {
      "cell_type": "markdown",
      "source": [
        "Instead of working with the kinematic equations of motion $x(t)$, $v(t)$, and $a(t)$ which depend on time,\n",
        "we can solve physics problems using *energy* calculations.\n",
        "A key connection between the world of forces and the world of energy is the concept of *potential energy*.\n",
        "If you move an object against a conservative force (think raising a ball in the air against the force of gravity),\n",
        "you can think of the work you do agains the force as being stored in the potential energy of the object.\n",
        "\n",
        "For each force $\\vec{F}(x)$ there is a corresponding potential energy $U_F(x)$.\n",
        "The change in potential energy associated with the force $\\vec{F}(x)$ and displacement $\\vec{d}$\n",
        "is defined as the negative of the work done by the force during the displacement: $U_F(x) = - W = - \\int_{\\vec{d}} \\vec{F}(x)\\cdot d\\vec{x}$.\n",
        "\n",
        "The potential energies associated with gravity $\\vec{F}_g = -mg\\hat{\\jmath}$\n",
        "and the force of a spring $\\vec{F}_s = -k\\vec{x}$ are calculated as follows:"
      ],
      "metadata": {
        "id": "OUQEKUa7O3jn"
      }
    },
    {
      "cell_type": "code",
      "source": [
        "x, y = symbols('x y')\n",
        "m, g, k, h = symbols('m g k h')\n",
        "F_g = -m*g  # Force of gravity on mass m\n",
        "U_g = - integrate( F_g, (y,0,h) )\n",
        "U_g         # Grav. potential energy"
      ],
      "outputs": [
        {
          "output_type": "execute_result",
          "data": {},
          "metadata": {},
          "execution_count": 166
        }
      ],
      "metadata": {
        "id": "f-w491diO3jn",
        "outputId": "588f8b46-5e10-481d-a65d-27fbef8e1923"
      },
      "execution_count": null
    },
    {
      "cell_type": "code",
      "source": [
        "F_s = -k*x  # Spring force for displacement x\n",
        "U_s = - integrate( F_s, (x,0,x) )\n",
        "U_s         # Spring potential energy"
      ],
      "outputs": [
        {
          "output_type": "execute_result",
          "data": {},
          "metadata": {},
          "execution_count": 167
        }
      ],
      "metadata": {
        "id": "uTrXKJMxO3jo",
        "outputId": "51b6ce9e-60e7-4392-adaa-acac0586b99c"
      },
      "execution_count": null
    },
    {
      "cell_type": "markdown",
      "source": [
        "Note the negative sign in the formula defining the potential energy.\n",
        "This negative is canceled by the negative sign of the dot product $\\vec{F}\\cdot d\\vec{x}$:\n",
        "when the force acts in the direction opposite to the displacement,\n",
        "the work done by the force is negative."
      ],
      "metadata": {
        "id": "MIlz0Yb7O3jo"
      }
    },
    {
      "cell_type": "markdown",
      "source": [
        "###Simple harmonic motion"
      ],
      "metadata": {
        "id": "wS05v5pUO3jo"
      }
    },
    {
      "cell_type": "markdown",
      "source": [
        "The force exerted by a spring is given by the formula $F=-kx$.\n",
        "If the only force acting on a mass $m$ is the force of a spring,\n",
        "we can use Newton's second law to obtain the following equation:\n",
        "\n",
        "$$\n",
        "  F=ma  \n",
        "  \\quad \\Rightarrow \\quad\n",
        "  -kx = ma   \n",
        "  \\quad \\Rightarrow \\quad\n",
        "  -kx(t) = m\\frac{d^2}{dt^2}\\Big[x(t)\\Big].\n",
        "$$\n",
        "\n",
        "The motion of a mass-spring system is described by the *differential equation* $\\frac{d^2}{dt^2}x(t) + \\omega^2 x(t)=0$,\n",
        "where the constant $\\omega = \\sqrt{\\frac{k}{m}}$ is called the angular frequency.\n",
        "We can find the position function $x(t)$ using the `dsolve` method:"
      ],
      "metadata": {
        "id": "43XfKKxoO3jp"
      }
    },
    {
      "cell_type": "code",
      "source": [
        "t = Symbol('t')                 # time t\n",
        "x = Function('x')               # position function x(t)\n",
        "w = Symbol('w', positive=True)  # angular frequency w\n",
        "sol = dsolve( diff(x(t),t,t) + w**2*x(t), x(t) )\n",
        "sol"
      ],
      "outputs": [
        {
          "output_type": "execute_result",
          "data": {},
          "metadata": {},
          "execution_count": 168
        }
      ],
      "metadata": {
        "id": "x1o4w_cBO3jp",
        "outputId": "32c601e4-9724-4db1-aa47-b53ea8e8e999"
      },
      "execution_count": null
    },
    {
      "cell_type": "code",
      "source": [
        "x = sol.rhs\n",
        "x"
      ],
      "outputs": [
        {
          "output_type": "execute_result",
          "data": {},
          "metadata": {},
          "execution_count": 169
        }
      ],
      "metadata": {
        "id": "rqldeoQtO3jp",
        "outputId": "fda8349b-e2db-4759-8009-5d1cef6a46f1"
      },
      "execution_count": null
    },
    {
      "cell_type": "markdown",
      "source": [
        "Note the solution $x(t)=C_1\\sin(\\omega t)+C_2 \\cos(\\omega t)$ is equivalent to $x(t) = A\\cos(\\omega t + \\phi)$,\n",
        "which is more commonly used to describe simple harmonic motion.\n",
        "We can use the `expand` function with the argument `trig=True` to convince ourselves of this equivalence:"
      ],
      "metadata": {
        "id": "gXg4QoE3O3jq"
      }
    },
    {
      "cell_type": "code",
      "source": [
        "A, phi = symbols(\"A phi\")\n",
        "(A*cos(w*t - phi)).expand(trig=True)"
      ],
      "outputs": [
        {
          "output_type": "execute_result",
          "data": {},
          "metadata": {},
          "execution_count": 170
        }
      ],
      "metadata": {
        "id": "LF33u59rO3jq",
        "outputId": "95e67cad-d253-4d9c-cb53-fd4ad0c61f1c"
      },
      "execution_count": null
    },
    {
      "cell_type": "markdown",
      "source": [
        "If we define $C_1=A\\sin(\\phi)$ and $C_2=A\\cos(\\phi)$,\n",
        "we obtain the form $x(t)=C_1\\sin(\\omega t)+C_2 \\cos(\\omega t)$ that `SymPy` found."
      ],
      "metadata": {
        "id": "iSuJcMP2O3js"
      }
    },
    {
      "cell_type": "markdown",
      "source": [
        "###Conservation of energy"
      ],
      "metadata": {
        "id": "bKlW3aHqO3j7"
      }
    },
    {
      "cell_type": "markdown",
      "source": [
        "We can verify that the total energy of the mass-spring system is conserved by showing\n",
        "$E_T(t) = U_s(t) + K(t) = \\textrm{constant}$:"
      ],
      "metadata": {
        "id": "tF4TraVaO3j7"
      }
    },
    {
      "cell_type": "code",
      "source": [
        "x = sol.rhs.subs({\"C1\":0,\"C2\":A})\n",
        "x"
      ],
      "outputs": [
        {
          "output_type": "execute_result",
          "data": {},
          "metadata": {},
          "execution_count": 171
        }
      ],
      "metadata": {
        "id": "CHuC9w1mO3kB",
        "outputId": "0b129afd-3f0e-409b-94b4-e2abb960d287"
      },
      "execution_count": null
    },
    {
      "cell_type": "code",
      "source": [
        "v = diff(x, t)\n",
        "v"
      ],
      "outputs": [
        {
          "output_type": "execute_result",
          "data": {},
          "metadata": {},
          "execution_count": 172
        }
      ],
      "metadata": {
        "id": "1orIJ1mkO3kC",
        "outputId": "838aca0c-3344-4d33-f87d-b06d0bad3031"
      },
      "execution_count": null
    },
    {
      "cell_type": "code",
      "source": [
        "E_T = (0.5*k*x**2 + 0.5*m*v**2).simplify()\n",
        "E_T"
      ],
      "outputs": [
        {
          "output_type": "execute_result",
          "data": {},
          "metadata": {},
          "execution_count": 173
        }
      ],
      "metadata": {
        "id": "cD0TTZPtO3kC",
        "outputId": "7d8fa33f-2e11-48c7-c174-95f8ddc40651"
      },
      "execution_count": null
    },
    {
      "cell_type": "code",
      "source": [
        "E_T.subs({k:m*w**2}).simplify()     # = K_max"
      ],
      "outputs": [
        {
          "output_type": "execute_result",
          "data": {},
          "metadata": {},
          "execution_count": 174
        }
      ],
      "metadata": {
        "id": "Qt2pTS8SO3kU",
        "outputId": "24500a39-1906-4048-d71e-1086d06ac899"
      },
      "execution_count": null
    },
    {
      "cell_type": "code",
      "source": [
        "E_T.subs({w:sqrt(k/m)}).simplify()  # = U_max"
      ],
      "outputs": [
        {
          "output_type": "execute_result",
          "data": {},
          "metadata": {},
          "execution_count": 175
        }
      ],
      "metadata": {
        "id": "JG4ddvseO3kV",
        "outputId": "b6290242-27c5-48d8-a49e-9f00bcd3d72e"
      },
      "execution_count": null
    },
    {
      "cell_type": "markdown",
      "source": [
        "##Linear algebra"
      ],
      "metadata": {
        "id": "ME_raqELO3kW"
      }
    },
    {
      "cell_type": "markdown",
      "source": [
        "A matrix $A \\in \\mathbb{R}^{m\\times n}$ is a rectangular array of real numbers with $m$ rows and $n$ columns.\n",
        "To specify a matrix $A$, we specify the values for its $mn$ components $a_{11}, a_{12}, \\ldots, a_{mn}$\n",
        "as a list of lists:"
      ],
      "metadata": {
        "id": "456ctyO5O3kW"
      }
    },
    {
      "cell_type": "code",
      "source": [
        "A = Matrix( [[ 2,-3,-8, 7],\n",
        "             [-2,-1, 2,-7],\n",
        "             [ 1, 0,-3, 6]] )"
      ],
      "outputs": [],
      "metadata": {
        "id": "m3UsafVtO3kW"
      },
      "execution_count": null
    },
    {
      "cell_type": "markdown",
      "source": [
        "Use the square brackets to access the matrix elements or to obtain a submatrix:"
      ],
      "metadata": {
        "id": "hNOhw_w7O3kX"
      }
    },
    {
      "cell_type": "code",
      "source": [
        "A[0,1]         # row 0, col 1 of A"
      ],
      "outputs": [
        {
          "output_type": "execute_result",
          "data": {},
          "metadata": {},
          "execution_count": 177
        }
      ],
      "metadata": {
        "id": "wRNPkocIO3ka",
        "outputId": "25bac70f-2a87-415c-9e41-492735ade24f"
      },
      "execution_count": null
    },
    {
      "cell_type": "code",
      "source": [
        "A[0:2,0:3]     # top-left 2x3 submatrix of A"
      ],
      "outputs": [
        {
          "output_type": "execute_result",
          "data": {},
          "metadata": {},
          "execution_count": 178
        }
      ],
      "metadata": {
        "id": "RDaMRAGWO3kb",
        "outputId": "63f77cd0-e245-4b20-f081-6b28d472ceaf"
      },
      "execution_count": null
    },
    {
      "cell_type": "markdown",
      "source": [
        "Some commonly used matrices can be created with shortcut methods:"
      ],
      "metadata": {
        "id": "Xp-4HZb9O3kb"
      }
    },
    {
      "cell_type": "code",
      "source": [
        "eye(2)         # 2x2 identity matrix"
      ],
      "outputs": [
        {
          "output_type": "execute_result",
          "data": {},
          "metadata": {},
          "execution_count": 179
        }
      ],
      "metadata": {
        "id": "ckyvypV5O3kc",
        "outputId": "08c91c89-08a4-4c3c-dffc-2f8d9826431a"
      },
      "execution_count": null
    },
    {
      "cell_type": "code",
      "source": [
        "zeros(2, 3)"
      ],
      "outputs": [
        {
          "output_type": "execute_result",
          "data": {},
          "metadata": {},
          "execution_count": 180
        }
      ],
      "metadata": {
        "id": "YtVsQLK0O3kc",
        "outputId": "226479dc-0fc5-4df0-c008-79a36fe183a2"
      },
      "execution_count": null
    },
    {
      "cell_type": "markdown",
      "source": [
        "Standard algebraic operations like\n",
        "addition `+`, subtraction `-`, multiplication `*`,\n",
        "and exponentiation `**` work as expected for `Matrix` objects.\n",
        "The `transpose` operation flips the matrix through its diagonal:"
      ],
      "metadata": {
        "id": "8-bg7lc-O3kc"
      }
    },
    {
      "cell_type": "code",
      "source": [
        "A.transpose()  # the same as A.T"
      ],
      "outputs": [
        {
          "output_type": "execute_result",
          "data": {},
          "metadata": {},
          "execution_count": 181
        }
      ],
      "metadata": {
        "id": "KBuzOTGDO3kc",
        "outputId": "ec6aa90d-aba0-4045-fa5b-47de719e88ab"
      },
      "execution_count": null
    },
    {
      "cell_type": "markdown",
      "source": [
        "Recall that the transpose is also used to convert row vectors into column vectors and vice versa."
      ],
      "metadata": {
        "id": "tC5QXxFqO3kd"
      }
    },
    {
      "cell_type": "markdown",
      "source": [
        "###Row operations"
      ],
      "metadata": {
        "id": "ZBL1Si1PO3kd"
      }
    },
    {
      "cell_type": "code",
      "source": [
        "M = eye(3)\n",
        "M.row_op(1, lambda v,j: v+3*M[0,j] )\n",
        "M"
      ],
      "outputs": [
        {
          "output_type": "execute_result",
          "data": {},
          "metadata": {},
          "execution_count": 182
        }
      ],
      "metadata": {
        "id": "mcOg92TMO3kd",
        "outputId": "ba84cd46-d3df-445e-9855-713fd77a5712"
      },
      "execution_count": null
    },
    {
      "cell_type": "markdown",
      "source": [
        "The method `row_op` takes two arguments as inputs:\n",
        "the first argument specifies the 0-based index of the row you want to act on,\n",
        "while the second argument is a function of the form `f(val,j)`\n",
        "that describes how you want the value `val=M[i,j]` to be transformed.\n",
        "The above call to `row_op` implements the row operation $R_2 \\gets R_2 + 3R_1$."
      ],
      "metadata": {
        "id": "Or7CPWWWO3ke"
      }
    },
    {
      "cell_type": "markdown",
      "source": [
        "###Reduced row echelon form"
      ],
      "metadata": {
        "id": "Pi6U3AccO3kf"
      }
    },
    {
      "cell_type": "markdown",
      "source": [
        "The Gauss&mdash;Jordan elimination procedure is a sequence of row operations you can perform\n",
        "on any matrix to bring it to its *reduced row echelon form* (RREF).\n",
        "In `SymPy`, matrices have a `rref` method that computes their RREF:"
      ],
      "metadata": {
        "id": "C5S_4-20O3kf"
      }
    },
    {
      "cell_type": "code",
      "source": [
        "A = Matrix( [[2,-3,-8, 7],\n",
        "             [-2,-1,2,-7],\n",
        "             [1, 0,-3, 6]])\n",
        "A.rref()  # RREF of A, location of pivots"
      ],
      "outputs": [
        {
          "output_type": "execute_result",
          "data": {},
          "metadata": {},
          "execution_count": 183
        }
      ],
      "metadata": {
        "id": "OooZf0xqO3kf",
        "outputId": "949cde78-5708-4979-b24b-af8fabb9b0c2"
      },
      "execution_count": null
    },
    {
      "cell_type": "markdown",
      "source": [
        "Note the `rref` method returns a tuple of values:\n",
        "the first value is the RREF of $A$,\n",
        "while the second tells you the indices of the leading ones (also known as pivots) in the RREF of $A$.\n",
        "To get just the RREF of $A$, select the $0^\\mathrm{th}$ entry form the tuple: `A.rref()[0]`."
      ],
      "metadata": {
        "id": "g0Ggv2QtO3kf"
      }
    },
    {
      "cell_type": "markdown",
      "source": [
        "###Matrix fundamental spaces"
      ],
      "metadata": {
        "id": "pOBPdxsoO3kg"
      }
    },
    {
      "cell_type": "markdown",
      "source": [
        "Consider the matrix $A \\in \\mathbb{R}^{m\\times n}$.\n",
        "The fundamental spaces of a matrix are its column space $\\mathcal{C}(A)$,\n",
        "its null space $\\mathcal{N}(A)$,\n",
        "and its row space $\\mathcal{R}(A)$.\n",
        "These vector spaces are important when you consider the matrix product\n",
        "$A\\vec{x}=\\vec{y}$ as &ldquo;applying&rdquo; the linear transformation $T_A:\\mathbb{R}^n \\to \\mathbb{R}^m$\n",
        "to an input vector $\\vec{x} \\in \\mathbb{R}^n$ to produce the output vector $\\vec{y} \\in \\mathbb{R}^m$.\n",
        "\n",
        "**Linear transformations** $T_A:\\mathbb{R}^n \\to \\mathbb{R}^m$ (vector functions)\n",
        "**are equivalent to $m\\times n$ matrices**.\n",
        "This is one of the fundamental ideas in linear algebra.\n",
        "You can think of $T_A$ as the abstract description of the transformation\n",
        "and $A \\in \\mathbb{R}^{m\\times n}$ as a concrete implementation of $T_A$.\n",
        "By this equivalence,\n",
        "the fundamental spaces of a matrix $A$\n",
        "tell us facts about the domain and image of the linear transformation $T_A$.\n",
        "The columns space $\\mathcal{C}(A)$ is the same as the image space space $\\textrm{Im}(T_A)$ (the set of all possible outputs).\n",
        "The null space $\\mathcal{N}(A)$ is the same as the kernel $\\textrm{Ker}(T_A)$ (the set of inputs that $T_A$ maps to the zero vector).\n",
        "The row space $\\mathcal{R}(A)$ is the orthogonal complement of the null space.\n",
        "Input vectors in the row space of $A$ are in one-to-one correspondence with the output vectors in the column space of $A$.\n",
        "\n",
        "Okay, enough theory! Let's see how to compute the fundamental spaces of the matrix $A$ defined above.\n",
        "The non-zero rows in the reduced row echelon form of $A$ are a basis for its row space:"
      ],
      "metadata": {
        "id": "W2gdnTLFO3kg"
      }
    },
    {
      "cell_type": "code",
      "source": [
        "[ A.rref()[0][r,:] for r in A.rref()[1] ]  # R(A)"
      ],
      "outputs": [
        {
          "output_type": "execute_result",
          "data": {},
          "metadata": {},
          "execution_count": 184
        }
      ],
      "metadata": {
        "id": "6zL1L1MKO3kg",
        "outputId": "fc06243a-dd67-46d9-9be1-d2ec0fa5c32a"
      },
      "execution_count": null
    },
    {
      "cell_type": "markdown",
      "source": [
        "The column space of $A$ is the span of the columns of $A$ that contain the pivots\n",
        "in the reduced row echelon form of $A$:"
      ],
      "metadata": {
        "id": "QTmh9aP8O3kg"
      }
    },
    {
      "cell_type": "code",
      "source": [
        "[ A[:,c] for c in  A.rref()[1] ]           # C(A)"
      ],
      "outputs": [
        {
          "output_type": "execute_result",
          "data": {},
          "metadata": {},
          "execution_count": 185
        }
      ],
      "metadata": {
        "id": "sQXTdsDYO3kh",
        "outputId": "20b0d08b-e703-4f31-9e3c-7e9e049e96dc"
      },
      "execution_count": null
    },
    {
      "cell_type": "markdown",
      "source": [
        "Note we took columns from the original matrix $A$ and not its RREF.\n",
        "\n",
        "To find the null space of $A$, call its `nullspace` method:"
      ],
      "metadata": {
        "id": "_1_35F08O3kh"
      }
    },
    {
      "cell_type": "code",
      "source": [
        "A.nullspace()                              # N(A)"
      ],
      "outputs": [
        {
          "output_type": "execute_result",
          "data": {},
          "metadata": {},
          "execution_count": 186
        }
      ],
      "metadata": {
        "id": "gPslZ0zIO3kh",
        "outputId": "b90adb8a-bef5-486c-8c6c-7a70afa390ab"
      },
      "execution_count": null
    },
    {
      "cell_type": "markdown",
      "source": [
        "###Determinants"
      ],
      "metadata": {
        "id": "bvEGIGLQO3ki"
      }
    },
    {
      "cell_type": "markdown",
      "source": [
        "The determinant of a matrix,\n",
        "denoted $\\det(A)$ or $|A|$,\n",
        "is a particular way to multiply the entries of the matrix to produce a single number."
      ],
      "metadata": {
        "id": "rF0--smkO3kn"
      }
    },
    {
      "cell_type": "code",
      "source": [
        "M = Matrix( [[1, 2, 3],\n",
        "             [2,-2, 4],\n",
        "             [2, 2, 5]] )\n",
        "M.det()"
      ],
      "outputs": [
        {
          "output_type": "execute_result",
          "data": {},
          "metadata": {},
          "execution_count": 187
        }
      ],
      "metadata": {
        "id": "JBloXcmfO3kn",
        "outputId": "8d350ead-82cf-421f-979f-e8c28d64c673"
      },
      "execution_count": null
    },
    {
      "cell_type": "markdown",
      "source": [
        "Determinants are used for all kinds of tasks:\n",
        "to compute areas and volumes,\n",
        "to solve systems of equations,\n",
        "and to check whether a matrix is invertible or not."
      ],
      "metadata": {
        "id": "w2MYp4iaO3ko"
      }
    },
    {
      "cell_type": "markdown",
      "source": [
        "###Matrix inverse"
      ],
      "metadata": {
        "id": "dijr1_XUO3ko"
      }
    },
    {
      "cell_type": "markdown",
      "source": [
        "For every invertible matrix $A$,\n",
        "there exists an inverse matrix $A^{-1}$ which *undoes* the effect of $A$.\n",
        "The cumulative effect of the product of $A$ and $A^{-1}$ (in any order)\n",
        "is the identity matrix: $AA^{-1}= A^{-1}A=\\mathbb{1}$."
      ],
      "metadata": {
        "id": "Am7VQfWqO3ko"
      }
    },
    {
      "cell_type": "code",
      "source": [
        "A = Matrix( [[1,2],\n",
        "             [3,9]] )\n",
        "A.inv()"
      ],
      "outputs": [
        {
          "output_type": "execute_result",
          "data": {},
          "metadata": {},
          "execution_count": 188
        }
      ],
      "metadata": {
        "id": "8uloiNbNO3kp",
        "outputId": "5e100f59-d43a-4a64-e68a-91d1a9db25d0"
      },
      "execution_count": null
    },
    {
      "cell_type": "code",
      "source": [
        "A.inv()*A"
      ],
      "outputs": [
        {
          "output_type": "execute_result",
          "data": {},
          "metadata": {},
          "execution_count": 189
        }
      ],
      "metadata": {
        "id": "83O_JLudO3kp",
        "outputId": "3784f2c5-2c6e-4cd7-9be3-4518572432ea"
      },
      "execution_count": null
    },
    {
      "cell_type": "code",
      "source": [
        "A*A.inv()"
      ],
      "outputs": [
        {
          "output_type": "execute_result",
          "data": {},
          "metadata": {},
          "execution_count": 190
        }
      ],
      "metadata": {
        "id": "6VmZACEhO3kq",
        "outputId": "8eb847d6-7f84-48ad-e283-e0ffd48851c8"
      },
      "execution_count": null
    },
    {
      "cell_type": "markdown",
      "source": [
        "The matrix inverse $A^{-1}$ plays the role of division by $A$."
      ],
      "metadata": {
        "id": "SnWrzdHoO3kq"
      }
    },
    {
      "cell_type": "markdown",
      "source": [
        "###Eigenvectors and eigenvalues"
      ],
      "metadata": {
        "id": "h3vFMlOGO3kq"
      }
    },
    {
      "cell_type": "markdown",
      "source": [
        "When a matrix is multiplied by one of its eigenvectors the output\n",
        "is the same eigenvector multiplied by a constant $A\\vec{e}_\\lambda =\\lambda\\vec{e}_\\lambda$.\n",
        "The constant $\\lambda$ (the Greek letter *lambda*) is called an *eigenvalue* of $A$.\n",
        "\n",
        "To find the eigenvalues of a matrix, start from the definition $A\\vec{e}_\\lambda =\\lambda\\vec{e}_\\lambda$,\n",
        "insert the identity $\\mathbb{1}$,\n",
        "and rewrite it as a null-space problem:\n",
        "\n",
        "$$\n",
        "A\\vec{e}_\\lambda =\\lambda\\mathbb{1}\\vec{e}_\\lambda\n",
        "\\qquad\n",
        "\\Rightarrow\n",
        "\\qquad\n",
        "\\left(A - \\lambda\\mathbb{1}\\right)\\vec{e}_\\lambda = \\vec{0}.\n",
        "$$\n",
        "\n",
        "This equation will have a solution whenever $|A - \\lambda\\mathbb{1}|=0$.(The invertible matrix theorem states\n",
        "that a matrix has a non-empty null space if and only if its determinant is zero.)\n",
        "The eigenvalues of $A \\in \\mathbb{R}^{n \\times n}$,\n",
        "denoted $\\{ \\lambda_1, \\lambda_2, \\ldots, \\lambda_n \\}$,\\\n",
        "are the roots of the *characteristic polynomial* $p(\\lambda)=|A - \\lambda \\mathbb{1}|$."
      ],
      "metadata": {
        "id": "rF34EZ2eO3kr"
      }
    },
    {
      "cell_type": "code",
      "source": [
        "A = Matrix( [[ 9, -2],\n",
        "             [-2,  6]] )\n",
        "A.eigenvals()  # same as solve(det(A-eye(2)*x), x)\n",
        "               # return eigenvalues with their multiplicity"
      ],
      "outputs": [
        {
          "output_type": "execute_result",
          "data": {},
          "metadata": {},
          "execution_count": 191
        }
      ],
      "metadata": {
        "id": "oCHv0YiTO3kr",
        "outputId": "d439b750-8721-4266-eab0-6805ca4fa67f"
      },
      "execution_count": null
    },
    {
      "cell_type": "code",
      "source": [
        "A.eigenvects()"
      ],
      "outputs": [
        {
          "output_type": "execute_result",
          "data": {},
          "metadata": {},
          "execution_count": 192
        }
      ],
      "metadata": {
        "id": "lL2stFujO3kr",
        "outputId": "d12ffac1-95e8-4163-ff02-abe2e4a12a08"
      },
      "execution_count": null
    },
    {
      "cell_type": "markdown",
      "source": [
        "Certain matrices can be written entirely in terms of their eigenvectors and their eigenvalues.\n",
        "Consider the matrix $\\Lambda$ (capital Greek *L*) that has the eigenvalues of the matrix $A$ on the diagonal,\n",
        "and the matrix $Q$ constructed from the eigenvectors of $A$ as columns:\n",
        "\n",
        "$$\n",
        "\\Lambda =\n",
        "\\begin{bmatrix}\n",
        "\\lambda_1\t&  \\cdots  &  0 \\\\\n",
        "\\vdots \t&  \\ddots  &  0  \\\\\n",
        "0  \t&   0      &  \\lambda_n\n",
        "\\end{bmatrix}\\!,\n",
        "\\ \\\n",
        "Q \\: =\n",
        "\\begin{bmatrix}\n",
        "|  &  & | \\\\\n",
        "\\vec{e}_{\\lambda_1}  & \\!  \\cdots \\! &  \\large\\vec{e}_{\\lambda_n} \\\\\n",
        "|  &  & |\n",
        "\\end{bmatrix}\\!,\n",
        "\\ \\\n",
        "\\textrm{then}\n",
        "\\ \\\n",
        "A = Q \\Lambda Q^{-1}.\n",
        "$$\n",
        "\n",
        "Matrices that can be written this way are called *diagonalizable*.\n",
        "To *diagonalize* a matrix $A$ is to find its $Q$ and $\\Lambda$ matrices:"
      ],
      "metadata": {
        "id": "0wMI3qzXO3ks"
      }
    },
    {
      "cell_type": "code",
      "source": [
        "Q, L = A.diagonalize()\n",
        "Q            # the matrix of eigenvectors as columns"
      ],
      "outputs": [
        {
          "output_type": "execute_result",
          "data": {},
          "metadata": {},
          "execution_count": 193
        }
      ],
      "metadata": {
        "id": "Atc_M_iBO3ks",
        "outputId": "c53d1099-570d-408d-9707-d073c543e9a0"
      },
      "execution_count": null
    },
    {
      "cell_type": "code",
      "source": [
        "Q.inv()"
      ],
      "outputs": [
        {
          "output_type": "execute_result",
          "data": {},
          "metadata": {},
          "execution_count": 194
        }
      ],
      "metadata": {
        "id": "4eY1uApHO3ks",
        "outputId": "1b914572-38e2-42e2-bca7-846ce02128e6"
      },
      "execution_count": null
    },
    {
      "cell_type": "code",
      "source": [
        "L            # the matrix of eigenvalues"
      ],
      "outputs": [
        {
          "output_type": "execute_result",
          "data": {},
          "metadata": {},
          "execution_count": 195
        }
      ],
      "metadata": {
        "id": "cCn7PBPKO3kt",
        "outputId": "145dcd71-ade6-467b-9501-93a79386fb63"
      },
      "execution_count": null
    },
    {
      "cell_type": "code",
      "source": [
        "Q*L*Q.inv()  # eigendecomposition of A"
      ],
      "outputs": [
        {
          "output_type": "execute_result",
          "data": {},
          "metadata": {},
          "execution_count": 196
        }
      ],
      "metadata": {
        "id": "Kc6d-P_5O3kt",
        "outputId": "80ba2895-31da-4200-dbea-fb9e8350304b"
      },
      "execution_count": null
    },
    {
      "cell_type": "code",
      "source": [
        "Q.inv()*A*Q  # obtain L from A and Q"
      ],
      "outputs": [
        {
          "output_type": "execute_result",
          "data": {},
          "metadata": {},
          "execution_count": 197
        }
      ],
      "metadata": {
        "id": "ZGC9QJTQO3kt",
        "outputId": "49f10e12-979d-494d-cd0e-4e9d5337f2f0"
      },
      "execution_count": null
    },
    {
      "cell_type": "markdown",
      "source": [
        "Not all matrices are diagonalizable.\n",
        "You can check if a matrix is diagonalizable by calling its `is_diagonalizable` method:"
      ],
      "metadata": {
        "id": "K7zEZ0D-O3ku"
      }
    },
    {
      "cell_type": "code",
      "source": [
        "A.is_diagonalizable()"
      ],
      "outputs": [
        {
          "output_type": "execute_result",
          "data": {},
          "metadata": {},
          "execution_count": 198
        }
      ],
      "metadata": {
        "id": "DCEYbiSrO3ku",
        "outputId": "96d3fef3-d27b-47d1-c745-a47dec5ecc95"
      },
      "execution_count": null
    },
    {
      "cell_type": "code",
      "source": [
        "B = Matrix( [[1, 3],\n",
        "            [0, 1]] )\n",
        "B.is_diagonalizable()"
      ],
      "outputs": [
        {
          "output_type": "execute_result",
          "data": {},
          "metadata": {},
          "execution_count": 199
        }
      ],
      "metadata": {
        "id": "3UfA15SRO3ku",
        "outputId": "bfdde178-d462-4b71-fa43-09ceb9a4a81e"
      },
      "execution_count": null
    },
    {
      "cell_type": "code",
      "source": [
        "B.eigenvals()  # eigenvalue 1 with multiplicity 2"
      ],
      "outputs": [
        {
          "output_type": "execute_result",
          "data": {},
          "metadata": {},
          "execution_count": 200
        }
      ],
      "metadata": {
        "id": "lnpC4bADO3kx",
        "outputId": "5d3e20ac-cdf0-4a59-f8c0-7137678da183"
      },
      "execution_count": null
    },
    {
      "cell_type": "code",
      "source": [
        "B.eigenvects()"
      ],
      "outputs": [
        {
          "output_type": "execute_result",
          "data": {},
          "metadata": {},
          "execution_count": 201
        }
      ],
      "metadata": {
        "id": "ETwuWCxNO3ky",
        "outputId": "91742f52-c98c-45d4-c767-4321ed81bea0"
      },
      "execution_count": null
    },
    {
      "cell_type": "markdown",
      "source": [
        "The matrix $B$ is not diagonalizable because it doesn't have a full set of eigenvectors.\n",
        "To diagonalize a $2\\times 2$ matrix, we need two orthogonal eigenvectors but $B$ has only a single eigenvector.\n",
        "Therefore, we can't construct the matrix of eigenvectors $Q$ (we're missing a column!)\n",
        "and so $B$ is not diagonalizable.\n",
        "\n",
        "Non-square matrices don't have eigenvectors and therefore don't have an eigendecomposition.\n",
        "Instead, we can use the *singular value decomposition* to break up a non-square matrix $A$ into\n",
        "left singular vectors,\n",
        "right singular vectors,\n",
        "and a diagonal matrix of singular values.\n",
        "Use the `singular_values` method on any matrix to find its singular values."
      ],
      "metadata": {
        "id": "4INynP9vO3ky"
      }
    },
    {
      "cell_type": "markdown",
      "source": [
        "##Conclusion"
      ],
      "metadata": {
        "id": "LvIBVzDZO3ky"
      }
    },
    {
      "cell_type": "markdown",
      "source": [
        "I would like to conclude with some words of caution about the overuse of computers.\n",
        "Computer technology is very powerful and is everywhere around us,\n",
        "but let's not forget that computers are actually very dumb:\n",
        "computers are mere calculators and they depend on your knowledge to direct them.\n",
        "It's important that you learn how to do complicated math by hand in order to be\n",
        "able to instruct computers to do math for you and to check the results of your computer calculations.\n",
        "I don't want you to use the tricks you learned in this tutorial to avoid math problems from now on\n",
        "and simply rely blindly on `SymPy` for all your math needs.\n",
        "I want both you and the computer to become math powerhouses!\n",
        "The computer will help you with tedious calculations (they're good at that)\n",
        "and you'll help the computer by guiding it when it gets  stuck (humans are good at that)."
      ],
      "metadata": {
        "id": "DUeoFwE2O3kz"
      }
    },
    {
      "cell_type": "markdown",
      "source": [
        "##Links"
      ],
      "metadata": {
        "id": "kblMPgxoO3kz"
      }
    },
    {
      "cell_type": "markdown",
      "source": [
        "* [Installation instructions for `ipython notebook`](http://ipython.org/install.html)\n",
        "* [The official `SymPy` tutorial](http://docs.sympy.org/latest/tutorial/intro.html)\n",
        "* [A list of `SymPy` gotchas](http://docs.sympy.org/dev/gotchas.html)\n",
        "* [`SymPy` video tutorials by Matthew Rocklin](http://pyvideo.org/speaker/583/matthew-rocklin)"
      ],
      "metadata": {
        "id": "XUonPdokO3kz"
      }
    },
    {
      "cell_type": "markdown",
      "source": [
        "##Book plug"
      ],
      "metadata": {
        "id": "nfLBNnVJO3kz"
      }
    },
    {
      "cell_type": "markdown",
      "source": [
        "<img src=\"https://github.com/arifanwar02431/Materi/blob/main/Praktik_AI/cover_v40_noline_lite.png?raw=1\" style=\"width: 500px; margin-left: 10px; float: right;\" title=\"5&frac12;[in] &times; 8&frac12;[in] &times; 445[pages]\"/>\n",
        "The examples and math explanations in this tutorial are sourced from the\n",
        "*No bullshit guide* series of books published by Minireference&nbsp;Co.\n",
        "We publish textbooks that make math and physics accessible and affordable for everyone.\n",
        "If you're interested in %relearning you high school math and\n",
        "learning more about the math, physics, and calculus topics discussed in this tutorial,\n",
        "check out the **No bullshit guide to math and physics**.\n",
        "The book contains the distilled information that normally comes in two first-year university books:\n",
        "the introductory physics book (1000+ pages) and the first-year calculus book (1000+ pages).\n",
        "Would you believe me if I told you that you can learn the\n",
        "same material from a single book that is 1/7<sup>th</sup> the size and 1/10<sup>th</sup> of the\n",
        "price of mainstream textbooks?\n",
        "\n",
        "This book contains short lessons on math and physics, calculus.\n",
        "Often calculus and mechanics are taught as separate subjects.\n",
        "It shouldn't be like that.\n",
        "If you learn calculus without mechanics, it will be boring.\n",
        "If you learn mechanics without calculus, you won't truly understand what is going on.\n",
        "This textbook covers both subjects in an integrated manner.\n",
        "    \n",
        "Contents:\n",
        "\n",
        "* High school math\n",
        "* Vectors\n",
        "* Mechanics\n",
        "* Differential calculus\n",
        "* Integral calculus\n",
        "* 250+ practice problems\n",
        "\n",
        "For more information, see the book's website at [minireference.com](http://minireference.com/)\n",
        "\n",
        "The presented linear algebra examples are\n",
        "sourced from the [**No bullshit guide to linear algebra**](https://gum.co/noBSLA).\n",
        "Check out the book if you're taking a linear algebra course of if you're missing the prerequisites\n",
        "for learning machine learning, computer graphics, or quantum mechanics.\n",
        "\n",
        "I'll close on a note for potential readers who suffer from math-phobia.\n",
        "Both books start with an introductory chapter that reviews all\n",
        "high school math concepts needed to make math and physics\n",
        "accessible to everyone.\n",
        "Don't worry, we'll fix this math-phobia thing right up for you;\n",
        "**when you've got `SymPy` skills, math fears *you*!**\n",
        "\n",
        "To stay informed about upcoming titles,\n",
        "follow [@minireference](https://twitter.com/minireference) on twitter\n",
        "and check out the facebook page at [fb.me/noBSguide](http://fb.me/noBSguide)."
      ],
      "metadata": {
        "id": "J2IixG2UO3kz"
      }
    }
  ]
}